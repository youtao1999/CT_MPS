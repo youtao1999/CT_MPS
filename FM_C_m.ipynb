{
 "cells": [
  {
   "cell_type": "code",
   "execution_count": 1,
   "metadata": {},
   "outputs": [],
   "source": [
    "import pickle"
   ]
  },
  {
   "cell_type": "code",
   "execution_count": 2,
   "metadata": {},
   "outputs": [],
   "source": [
    "import sys\n",
    "dir_path='../control_transition'\n",
    "sys.path.append(dir_path)"
   ]
  },
  {
   "cell_type": "code",
   "execution_count": 4,
   "metadata": {},
   "outputs": [],
   "source": [
    "from plot_utils import *"
   ]
  },
  {
   "cell_type": "code",
   "execution_count": 3,
   "metadata": {},
   "outputs": [],
   "source": [
    "from importlib import reload\n",
    "\n",
    "\n",
    "import plot_utils\n",
    "reload(plot_utils)\n",
    "from plot_utils import *"
   ]
  },
  {
   "cell_type": "code",
   "execution_count": 5,
   "metadata": {},
   "outputs": [],
   "source": [
    "from diffusion_utils import *"
   ]
  },
  {
   "cell_type": "code",
   "execution_count": null,
   "metadata": {},
   "outputs": [],
   "source": [
    "from importlib import reload\n",
    "\n",
    "\n",
    "import diffusion_utils\n",
    "reload(diffusion_utils)\n",
    "from diffusion_utils import *"
   ]
  },
  {
   "cell_type": "markdown",
   "metadata": {},
   "source": [
    "# Load"
   ]
  },
  {
   "cell_type": "code",
   "execution_count": 6,
   "metadata": {},
   "outputs": [],
   "source": [
    "params_list=[\n",
    "({'nu':0,'de':1,},\n",
    "{'p_ctrl':[0.4,0.5,0.6],\n",
    "'p_proj':np.linspace(0.0,0.0,1),\n",
    "'sC':np.arange(100),\n",
    "'sm':np.arange(500),\n",
    "'L':[10,20,30]}\n",
    "),\n",
    "]"
   ]
  },
  {
   "cell_type": "code",
   "execution_count": 220,
   "metadata": {},
   "outputs": [
    {
     "name": "stderr",
     "output_type": "stream",
     "text": [
      "generate_params: 100%|██████████| 450000/450000 [00:15<00:00, 28309.75it/s]\n"
     ]
    }
   ],
   "source": [
    "# for fixed_params,vary_params in params_list:\n",
    "#     data_MPS_0_T_dict=generate_params(\n",
    "#         fixed_params=fixed_params,\n",
    "#         vary_params=vary_params,\n",
    "#         fn_template='MPS_({nu},{de})_L{L}_pctrl{p_ctrl:.3f}_pproj{p_proj:.3f}_sC{sC}_sm{sm}_x01_DW_O_op.json',\n",
    "#         # fn_dir_template='./MPS_0-1_C_m_x00',\n",
    "#         fn_dir_template='./MPS_0-1_C_m_x01',\n",
    "#         # fn_dir_template='./MPS_0-1_C_m_x0',\n",
    "#         input_params_template='{p_ctrl:.3f} {p_proj:.3f} {L} {sC} {sm} ',\n",
    "#         load_data=load_json,\n",
    "#         filename='params_CT_MPS_0_C_m.txt',\n",
    "#         filelist=None,\n",
    "#         load=False,\n",
    "#         data_dict=None,\n",
    "#         # data_dict_file='xj({nu},{de})_C_m.pickle', \n",
    "#         # data_dict_file='xj({nu},{de})_C_m.json', \n",
    "#     )"
   ]
  },
  {
   "cell_type": "code",
   "execution_count": 7,
   "metadata": {},
   "outputs": [
    {
     "data": {
      "text/plain": [
       "18.0"
      ]
     },
     "execution_count": 7,
     "metadata": {},
     "output_type": "execute_result"
    }
   ],
   "source": [
    "40*450000/1000/1000"
   ]
  },
  {
   "cell_type": "code",
   "execution_count": null,
   "metadata": {},
   "outputs": [],
   "source": []
  },
  {
   "cell_type": "code",
   "execution_count": null,
   "metadata": {},
   "outputs": [],
   "source": [
    "load_json('MPS_0-1_C_m_x01/MPS_(0,1)_L10_pctrl0.400_pproj0.000_sC0_sm0_x01_DW_O_op.json')"
   ]
  },
  {
   "cell_type": "code",
   "execution_count": 199,
   "metadata": {},
   "outputs": [
    {
     "name": "stderr",
     "output_type": "stream",
     "text": [
      "generate_params: 100%|██████████| 450000/450000 [05:14<00:00, 1428.93it/s] \n"
     ]
    }
   ],
   "source": [
    "for fixed_params,vary_params in params_list:\n",
    "    data_MPS_0_DW_dict=generate_params(\n",
    "        fixed_params=fixed_params,\n",
    "        vary_params=vary_params,\n",
    "        fn_template='MPS_({nu},{de})_L{L}_pctrl{p_ctrl:.3f}_pproj{p_proj:.3f}_sC{sC}_sm{sm}_x01_DW_O_op.json',\n",
    "        fn_dir_template='./MPS_0-1_C_m_x01',\n",
    "        input_params_template='',\n",
    "        load_data=load_zip_json,\n",
    "        filename=None,\n",
    "        filelist=None,\n",
    "        load=True,\n",
    "        data_dict={'fn':set()},\n",
    "        zip_fn='./MPS_0-1_C_m_x01.zip'  \n",
    "    )\n",
    "df_MPS_0_DW=convert_pd(data_MPS_0_DW_dict,names=['Metrics','sm','sC','p_ctrl','L','p_proj',])"
   ]
  },
  {
   "cell_type": "code",
   "execution_count": 200,
   "metadata": {},
   "outputs": [
    {
     "data": {
      "text/html": [
       "<div>\n",
       "<style scoped>\n",
       "    .dataframe tbody tr th:only-of-type {\n",
       "        vertical-align: middle;\n",
       "    }\n",
       "\n",
       "    .dataframe tbody tr th {\n",
       "        vertical-align: top;\n",
       "    }\n",
       "\n",
       "    .dataframe thead th {\n",
       "        text-align: right;\n",
       "    }\n",
       "</style>\n",
       "<table border=\"1\" class=\"dataframe\">\n",
       "  <thead>\n",
       "    <tr style=\"text-align: right;\">\n",
       "      <th></th>\n",
       "      <th></th>\n",
       "      <th></th>\n",
       "      <th></th>\n",
       "      <th></th>\n",
       "      <th></th>\n",
       "      <th>observations</th>\n",
       "    </tr>\n",
       "    <tr>\n",
       "      <th>Metrics</th>\n",
       "      <th>sm</th>\n",
       "      <th>sC</th>\n",
       "      <th>p_ctrl</th>\n",
       "      <th>L</th>\n",
       "      <th>p_proj</th>\n",
       "      <th></th>\n",
       "    </tr>\n",
       "  </thead>\n",
       "  <tbody>\n",
       "    <tr>\n",
       "      <th>O2</th>\n",
       "      <th>0</th>\n",
       "      <th>0</th>\n",
       "      <th>0.4</th>\n",
       "      <th>10</th>\n",
       "      <th>0.0</th>\n",
       "      <td>0.2534917250047028</td>\n",
       "    </tr>\n",
       "    <tr>\n",
       "      <th>DW1</th>\n",
       "      <th>0</th>\n",
       "      <th>0</th>\n",
       "      <th>0.4</th>\n",
       "      <th>10</th>\n",
       "      <th>0.0</th>\n",
       "      <td>7.687237229078826</td>\n",
       "    </tr>\n",
       "    <tr>\n",
       "      <th>O1</th>\n",
       "      <th>0</th>\n",
       "      <th>0</th>\n",
       "      <th>0.4</th>\n",
       "      <th>10</th>\n",
       "      <th>0.0</th>\n",
       "      <td>0.44234512037467394</td>\n",
       "    </tr>\n",
       "    <tr>\n",
       "      <th>Oi</th>\n",
       "      <th>0</th>\n",
       "      <th>0</th>\n",
       "      <th>0.4</th>\n",
       "      <th>10</th>\n",
       "      <th>0.0</th>\n",
       "      <td>[0.9999999999999996, 0.9999999999999998, -0.76...</td>\n",
       "    </tr>\n",
       "    <tr>\n",
       "      <th>DW2</th>\n",
       "      <th>0</th>\n",
       "      <th>0</th>\n",
       "      <th>0.4</th>\n",
       "      <th>10</th>\n",
       "      <th>0.0</th>\n",
       "      <td>60.13854394222676</td>\n",
       "    </tr>\n",
       "    <tr>\n",
       "      <th>...</th>\n",
       "      <th>...</th>\n",
       "      <th>...</th>\n",
       "      <th>...</th>\n",
       "      <th>...</th>\n",
       "      <th>...</th>\n",
       "      <td>...</td>\n",
       "    </tr>\n",
       "    <tr>\n",
       "      <th>DW1</th>\n",
       "      <th>407</th>\n",
       "      <th>14</th>\n",
       "      <th>0.5</th>\n",
       "      <th>20</th>\n",
       "      <th>0.0</th>\n",
       "      <td>4.83037345617685</td>\n",
       "    </tr>\n",
       "    <tr>\n",
       "      <th>O1</th>\n",
       "      <th>407</th>\n",
       "      <th>14</th>\n",
       "      <th>0.5</th>\n",
       "      <th>20</th>\n",
       "      <th>0.0</th>\n",
       "      <td>0.7273197351973364</td>\n",
       "    </tr>\n",
       "    <tr>\n",
       "      <th>Oi</th>\n",
       "      <th>407</th>\n",
       "      <th>14</th>\n",
       "      <th>0.5</th>\n",
       "      <th>20</th>\n",
       "      <th>0.0</th>\n",
       "      <td>[0.9999999999999973, 0.9999999999999971, 0.999...</td>\n",
       "    </tr>\n",
       "    <tr>\n",
       "      <th>DW2</th>\n",
       "      <th>407</th>\n",
       "      <th>14</th>\n",
       "      <th>0.5</th>\n",
       "      <th>20</th>\n",
       "      <th>0.0</th>\n",
       "      <td>25.503768291265978</td>\n",
       "    </tr>\n",
       "    <tr>\n",
       "      <th>op_history</th>\n",
       "      <th>407</th>\n",
       "      <th>14</th>\n",
       "      <th>0.5</th>\n",
       "      <th>20</th>\n",
       "      <th>0.0</th>\n",
       "      <td>[[{'Site': [20], 'Outcome': [1], 'Type': 'Cont...</td>\n",
       "    </tr>\n",
       "  </tbody>\n",
       "</table>\n",
       "<p>914046 rows × 1 columns</p>\n",
       "</div>"
      ],
      "text/plain": [
       "                                                                         observations\n",
       "Metrics    sm  sC p_ctrl L  p_proj                                                   \n",
       "O2         0   0  0.4    10 0.0                                    0.2534917250047028\n",
       "DW1        0   0  0.4    10 0.0                                     7.687237229078826\n",
       "O1         0   0  0.4    10 0.0                                   0.44234512037467394\n",
       "Oi         0   0  0.4    10 0.0     [0.9999999999999996, 0.9999999999999998, -0.76...\n",
       "DW2        0   0  0.4    10 0.0                                     60.13854394222676\n",
       "...                                                                               ...\n",
       "DW1        407 14 0.5    20 0.0                                      4.83037345617685\n",
       "O1         407 14 0.5    20 0.0                                    0.7273197351973364\n",
       "Oi         407 14 0.5    20 0.0     [0.9999999999999973, 0.9999999999999971, 0.999...\n",
       "DW2        407 14 0.5    20 0.0                                    25.503768291265978\n",
       "op_history 407 14 0.5    20 0.0     [[{'Site': [20], 'Outcome': [1], 'Type': 'Cont...\n",
       "\n",
       "[914046 rows x 1 columns]"
      ]
     },
     "execution_count": 200,
     "metadata": {},
     "output_type": "execute_result"
    }
   ],
   "source": [
    "df_MPS_0_DW"
   ]
  },
  {
   "cell_type": "code",
   "execution_count": 8,
   "metadata": {},
   "outputs": [
    {
     "data": {
      "text/plain": [
       "88"
      ]
     },
     "execution_count": 8,
     "metadata": {},
     "output_type": "execute_result"
    }
   ],
   "source": [
    "len([x for x in df_MPS_0_DW.xs(10,level='L').xs(0.4,level='p_ctrl').xs(0.0,level='p_proj').xs(1,level='sC').xs('op_history',level='Metrics').loc[0][0] if x[0]['Type']=='Control'])"
   ]
  },
  {
   "cell_type": "markdown",
   "metadata": {},
   "source": [
    "# Number of trajectory"
   ]
  },
  {
   "cell_type": "code",
   "execution_count": null,
   "metadata": {},
   "outputs": [],
   "source": [
    "[x[0]['Outcome'][0] for x in df_MPS_0_DW.xs(10,level='L').xs(0.4,level='p_ctrl').xs(0.0,level='p_proj').xs(1,level='sC').xs('op_history',level='Metrics')['observations'].loc[0] if x[0]['Type']=='Control']"
   ]
  },
  {
   "cell_type": "code",
   "execution_count": 84,
   "metadata": {},
   "outputs": [
    {
     "data": {
      "text/plain": [
       "2"
      ]
     },
     "execution_count": 84,
     "metadata": {},
     "output_type": "execute_result"
    }
   ],
   "source": [
    "np.unique(df_MPS_0_DW.xs(10,level='L').xs(0.4,level='p_ctrl').xs(0.0,level='p_proj').xs(4,level='sC').xs('op_history',level='Metrics')['observations'].apply(lambda x: [x[0]['Outcome'][0] for x in x if x[0]['Type']=='Control']).values).shape[0]"
   ]
  },
  {
   "cell_type": "code",
   "execution_count": 254,
   "metadata": {},
   "outputs": [],
   "source": [
    "m_map=np.stack(df_MPS_0_DW.xs(20,level='L').xs(0.5,level='p_ctrl').xs(0.0,level='p_proj').xs(0,level='sC').xs('op_history',level='Metrics')['observations'].apply(lambda x: [x[0]['Outcome'][0] for x in x if x[0]['Type']=='Control']).values)\n",
    "\n",
    "    # for tmax in range(1,zz.shape[1]):\n",
    "    #     num_traj_list[tmax-1]=np.unique(m_map[:,:tmax],axis=0).shape[0]  "
   ]
  },
  {
   "cell_type": "code",
   "execution_count": 255,
   "metadata": {},
   "outputs": [],
   "source": [
    "num_traj_list=np.zeros(m_map.shape[1]-1)\n",
    "for tmax in range(1,m_map.shape[1]):\n",
    "    num_traj_list[tmax-1]=np.unique(m_map[:,:tmax],axis=0).shape[0]  "
   ]
  },
  {
   "cell_type": "code",
   "execution_count": 257,
   "metadata": {},
   "outputs": [
    {
     "data": {
      "text/plain": [
       "179.0"
      ]
     },
     "execution_count": 257,
     "metadata": {},
     "output_type": "execute_result"
    }
   ],
   "source": [
    "num_traj_list[-1]"
   ]
  },
  {
   "cell_type": "code",
   "execution_count": 256,
   "metadata": {},
   "outputs": [
    {
     "data": {
      "text/plain": [
       "<matplotlib.lines.Line2D at 0x7fd7b7a943a0>"
      ]
     },
     "execution_count": 256,
     "metadata": {},
     "output_type": "execute_result"
    },
    {
     "data": {
      "image/png": "[encoded data removed]",
      "text/plain": [
       "<Figure size 640x480 with 1 Axes>"
      ]
     },
     "metadata": {},
     "output_type": "display_data"
    }
   ],
   "source": [
    "fig,ax=plt.subplots()\n",
    "ax.plot(num_traj_list)\n",
    "ax.set_yscale('log')\n",
    "ax.set_xlim(0,70)\n",
    "ax.set_xlabel('# of measurements')\n",
    "ax.set_ylabel('# of unique trajectories')\n",
    "ax.axhline(500,ls='--',color='k')"
   ]
  },
  {
   "cell_type": "code",
   "execution_count": 136,
   "metadata": {},
   "outputs": [],
   "source": [
    "num_traj_list_2=np.zeros(m_map.shape[1]-1)\n",
    "for tmax in range(1,m_map.shape[1]):\n",
    "    num_traj_list_2[tmax-1]=np.unique(m_map[:,:tmax],axis=0).shape[0]  "
   ]
  },
  {
   "cell_type": "code",
   "execution_count": 119,
   "metadata": {},
   "outputs": [],
   "source": [
    "import matplotlib.pyplot as plt"
   ]
  },
  {
   "cell_type": "code",
   "execution_count": null,
   "metadata": {},
   "outputs": [],
   "source": [
    "?? Maybe make a plot of trajectory, similar to arXiv:2212.14026"
   ]
  },
  {
   "cell_type": "markdown",
   "metadata": {},
   "source": [
    "## Plot"
   ]
  },
  {
   "cell_type": "code",
   "execution_count": 150,
   "metadata": {},
   "outputs": [],
   "source": [
    "traj_list=df_MPS_0_DW.xs(10,level='L').xs(0.4,level='p_ctrl').xs(0.0,level='p_proj').xs(1,level='sC').xs('op_history',level='Metrics')['observations'].loc[0]"
   ]
  },
  {
   "cell_type": "code",
   "execution_count": 134,
   "metadata": {},
   "outputs": [],
   "source": [
    "def plot_U(i,t,ax):\n",
    "    ax.plot([i,i+1],[t,t+1],color='k',linewidth=0.5)"
   ]
  },
  {
   "cell_type": "code",
   "execution_count": 160,
   "metadata": {},
   "outputs": [],
   "source": [
    "def plot_P(i,t,m,ax):\n",
    "    ax.plot([i,i-m,i-1],[t,t+1/2,t+1],color='b',linewidth=0.5)"
   ]
  },
  {
   "cell_type": "code",
   "execution_count": 153,
   "metadata": {},
   "outputs": [
    {
     "data": {
      "text/plain": [
       "{'Site': [10], 'Outcome': [1], 'Type': 'Control'}"
      ]
     },
     "execution_count": 153,
     "metadata": {},
     "output_type": "execute_result"
    }
   ],
   "source": [
    "traj_list[0][0]"
   ]
  },
  {
   "cell_type": "code",
   "execution_count": null,
   "metadata": {},
   "outputs": [],
   "source": [
    "traj_list"
   ]
  },
  {
   "cell_type": "code",
   "execution_count": 185,
   "metadata": {},
   "outputs": [],
   "source": [
    "def plot_single_traj(traj_list,tmax,ax):\n",
    "    for idx,traj in enumerate(traj_list[:tmax]):\n",
    "        if traj[0]['Type']=='Control':\n",
    "            plot_P(traj[0]['Site'][0],idx,traj[0]['Outcome'][0],ax)\n",
    "        elif traj[0]['Type']=='Bernoulli':  # Replace 'condition' with the actual condition\n",
    "            plot_U(traj[0]['Site'][0],idx,ax)"
   ]
  },
  {
   "cell_type": "code",
   "execution_count": 180,
   "metadata": {},
   "outputs": [
    {
     "data": {
      "image/png": "[encoded data removed]",
      "text/plain": [
       "<Figure size 200x1000 with 1 Axes>"
      ]
     },
     "metadata": {},
     "output_type": "display_data"
    }
   ],
   "source": [
    "fig,ax=plt.subplots(figsize=(2,10))\n",
    "\n",
    "for idx in range(50):\n",
    "    traj0=df_MPS_0_DW.xs(10,level='L').xs(0.4,level='p_ctrl').xs(0.0,level='p_proj').xs(1,level='sC').xs('op_history',level='Metrics')['observations'].loc[idx]\n",
    "    plot_single_traj(traj0,50,ax)\n",
    "\n",
    "ax.invert_xaxis()"
   ]
  },
  {
   "cell_type": "code",
   "execution_count": 182,
   "metadata": {},
   "outputs": [],
   "source": [
    "def plot_P_binary(i,t,m,ax):\n",
    "    f = i+1-2*m\n",
    "    ax.plot([i,f],[t,t+1],color='b',linewidth=0.5)\n",
    "    return f"
   ]
  },
  {
   "cell_type": "code",
   "execution_count": 195,
   "metadata": {},
   "outputs": [],
   "source": [
    "def plot_single_traj_binary(traj_list,tmax,ax):\n",
    "    i=0\n",
    "    t=0\n",
    "    for traj in traj_list[:tmax]:\n",
    "        if traj[0]['Type']=='Control':\n",
    "            i=plot_P_binary(i,t,traj[0]['Outcome'][0],ax)\n",
    "            t+=1"
   ]
  },
  {
   "cell_type": "code",
   "execution_count": 198,
   "metadata": {},
   "outputs": [
    {
     "data": {
      "image/png": "[encoded data removed]",
      "text/plain": [
       "<Figure size 200x1000 with 1 Axes>"
      ]
     },
     "metadata": {},
     "output_type": "display_data"
    }
   ],
   "source": [
    "fig,ax=plt.subplots(figsize=(2,10))\n",
    "\n",
    "for idx in range(50):\n",
    "    traj0=df_MPS_0_DW.xs(10,level='L').xs(0.4,level='p_ctrl').xs(0.0,level='p_proj').xs(1,level='sC').xs('op_history',level='Metrics')['observations'].loc[idx]\n",
    "    plot_single_traj_binary(traj0,50,ax)\n",
    "\n",
    "ax.invert_xaxis()"
   ]
  },
  {
   "cell_type": "code",
   "execution_count": null,
   "metadata": {},
   "outputs": [],
   "source": []
  },
  {
   "cell_type": "markdown",
   "metadata": {},
   "source": [
    "# FDW"
   ]
  },
  {
   "cell_type": "markdown",
   "metadata": {},
   "source": [
    "## QuVar of FDW"
   ]
  },
  {
   "cell_type": "code",
   "execution_count": 218,
   "metadata": {},
   "outputs": [],
   "source": [
    "def qvar_dw(df, L,p_ctrl,p_proj,sC):\n",
    "    dd=df.xs(L,level='L').xs(p_ctrl,level='p_ctrl').xs(p_proj,level='p_proj').xs(sC,level='sC')\n",
    "    qvar_dw=dd.xs('DW2')-dd.xs('DW1')**2\n",
    "    return qvar_dw.mean().values[0]\n",
    "    # return qvar_dw"
   ]
  },
  {
   "cell_type": "code",
   "execution_count": 219,
   "metadata": {},
   "outputs": [
    {
     "data": {
      "text/plain": [
       "1.444185833678212"
      ]
     },
     "execution_count": 219,
     "metadata": {},
     "output_type": "execute_result"
    }
   ],
   "source": [
    "qvar_dw(df_MPS_0_DW, L=10,p_ctrl=0.4,p_proj=0.0,sC=50).mean()"
   ]
  },
  {
   "cell_type": "code",
   "execution_count": 220,
   "metadata": {},
   "outputs": [
    {
     "data": {
      "text/plain": [
       "(1.6189448423357957, 0.06654442946901248)"
      ]
     },
     "execution_count": 220,
     "metadata": {},
     "output_type": "execute_result"
    }
   ],
   "source": [
    "num_SC=100\n",
    "sC_qvar_dw=[qvar_dw(df_MPS_0_DW, L=10,p_ctrl=0.4,p_proj=0.0,sC=sC) for sC in np.arange(num_SC)]\n",
    "np.mean(sC_qvar_dw),np.std(sC_qvar_dw)/np.sqrt(num_SC)"
   ]
  },
  {
   "cell_type": "code",
   "execution_count": 223,
   "metadata": {},
   "outputs": [
    {
     "data": {
      "text/plain": [
       "(1.6301271481200144, 0.07123987387413291)"
      ]
     },
     "execution_count": 223,
     "metadata": {},
     "output_type": "execute_result"
    }
   ],
   "source": [
    "num_SC=100\n",
    "sC_qvar_dw=[qvar_dw(df_MPS_0_DW, L=20,p_ctrl=0.4,p_proj=0.0,sC=sC) for sC in np.arange(num_SC)]\n",
    "np.mean(sC_qvar_dw),np.std(sC_qvar_dw)/np.sqrt(num_SC)"
   ]
  },
  {
   "cell_type": "code",
   "execution_count": 224,
   "metadata": {},
   "outputs": [
    {
     "data": {
      "text/plain": [
       "(1.6237439294137779, 0.07269574319520691)"
      ]
     },
     "execution_count": 224,
     "metadata": {},
     "output_type": "execute_result"
    }
   ],
   "source": [
    "num_SC=100\n",
    "sC_qvar_dw=[qvar_dw(df_MPS_0_DW, L=30,p_ctrl=0.4,p_proj=0.0,sC=sC) for sC in np.arange(num_SC)]\n",
    "np.mean(sC_qvar_dw),np.std(sC_qvar_dw)/np.sqrt(num_SC)"
   ]
  },
  {
   "cell_type": "code",
   "execution_count": 222,
   "metadata": {},
   "outputs": [
    {
     "data": {
      "text/plain": [
       "(1.4191452320542064, 0.22371302998015072)"
      ]
     },
     "execution_count": 222,
     "metadata": {},
     "output_type": "execute_result"
    }
   ],
   "source": [
    "num_SC=10\n",
    "sC_qvar_dw=[qvar_dw(df_MPS_0_DW, L=10,p_ctrl=0.5,p_proj=0.0,sC=sC) for sC in np.arange(num_SC)]\n",
    "np.mean(sC_qvar_dw),np.std(sC_qvar_dw)/np.sqrt(num_SC)"
   ]
  },
  {
   "cell_type": "code",
   "execution_count": 20,
   "metadata": {},
   "outputs": [
    {
     "data": {
      "text/plain": [
       "(1.6599744440295274, 0.10242964683066044)"
      ]
     },
     "execution_count": 20,
     "metadata": {},
     "output_type": "execute_result"
    }
   ],
   "source": [
    "num_SC=50\n",
    "sC_qvar_dw=[qvar_dw(df_MPS_0_DW, L=20,p_ctrl=0.4,p_proj=0.0,sC=sC) for sC in np.arange(num_SC)]\n",
    "np.mean(sC_qvar_dw),np.std(sC_qvar_dw)/np.sqrt(num_SC)"
   ]
  },
  {
   "cell_type": "code",
   "execution_count": 21,
   "metadata": {},
   "outputs": [
    {
     "data": {
      "text/plain": [
       "(1.4464041612804446, 0.07938711814243127)"
      ]
     },
     "execution_count": 21,
     "metadata": {},
     "output_type": "execute_result"
    }
   ],
   "source": [
    "num_SC=50\n",
    "sC_qvar_dw=[qvar_dw(df_MPS_0_DW, L=30,p_ctrl=0.4,p_proj=0.0,sC=sC) for sC in np.arange(num_SC)]\n",
    "np.mean(sC_qvar_dw),np.std(sC_qvar_dw)/np.sqrt(num_SC)"
   ]
  },
  {
   "cell_type": "code",
   "execution_count": null,
   "metadata": {},
   "outputs": [],
   "source": []
  },
  {
   "cell_type": "markdown",
   "metadata": {},
   "source": [
    "## traj_var of FDW"
   ]
  },
  {
   "cell_type": "code",
   "execution_count": 225,
   "metadata": {},
   "outputs": [],
   "source": [
    "def traj_var_dw(df, L,p_ctrl,p_proj,sC):\n",
    "    dd=df.xs(L,level='L').xs(p_ctrl,level='p_ctrl').xs(p_proj,level='p_proj').xs(sC,level='sC')\n",
    "\n",
    "    return (dd.xs('DW1')).var()[0]"
   ]
  },
  {
   "cell_type": "code",
   "execution_count": 226,
   "metadata": {},
   "outputs": [
    {
     "data": {
      "text/plain": [
       "(0.1543459103615963, 0.010681204300121745)"
      ]
     },
     "execution_count": 226,
     "metadata": {},
     "output_type": "execute_result"
    }
   ],
   "source": [
    "num_SC=100\n",
    "sC_traj_var_dw=[traj_var_dw(df_MPS_0_DW, L=10,p_ctrl=0.4,p_proj=0.0,sC=sC) for sC in np.arange(num_SC)]\n",
    "np.mean(sC_traj_var_dw),np.std(sC_traj_var_dw)/np.sqrt(num_SC)"
   ]
  },
  {
   "cell_type": "code",
   "execution_count": 227,
   "metadata": {},
   "outputs": [
    {
     "data": {
      "text/plain": [
       "(0.15142929346273065, 0.01494329125894529)"
      ]
     },
     "execution_count": 227,
     "metadata": {},
     "output_type": "execute_result"
    }
   ],
   "source": [
    "num_SC=100\n",
    "sC_traj_var_dw=[traj_var_dw(df_MPS_0_DW, L=20,p_ctrl=0.4,p_proj=0.0,sC=sC) for sC in np.arange(num_SC)]\n",
    "np.mean(sC_traj_var_dw),np.std(sC_traj_var_dw)/np.sqrt(num_SC)"
   ]
  },
  {
   "cell_type": "code",
   "execution_count": 228,
   "metadata": {},
   "outputs": [
    {
     "data": {
      "text/plain": [
       "(0.13825723947559518, 0.013027412498212487)"
      ]
     },
     "execution_count": 228,
     "metadata": {},
     "output_type": "execute_result"
    }
   ],
   "source": [
    "num_SC=100\n",
    "sC_traj_var_dw=[traj_var_dw(df_MPS_0_DW, L=30,p_ctrl=0.4,p_proj=0.0,sC=sC) for sC in np.arange(num_SC)]\n",
    "np.mean(sC_traj_var_dw),np.std(sC_traj_var_dw)/np.sqrt(num_SC)"
   ]
  },
  {
   "cell_type": "code",
   "execution_count": 58,
   "metadata": {},
   "outputs": [
    {
     "data": {
      "text/plain": [
       "0.15488138671312626"
      ]
     },
     "execution_count": 58,
     "metadata": {},
     "output_type": "execute_result"
    }
   ],
   "source": [
    "traj_var_dw(df_MPS_0_DW, L=10,p_ctrl=0.4,p_proj=0.0,sC=50)"
   ]
  },
  {
   "cell_type": "code",
   "execution_count": null,
   "metadata": {},
   "outputs": [
    {
     "data": {
      "text/html": [
       "<div>\n",
       "<style scoped>\n",
       "    .dataframe tbody tr th:only-of-type {\n",
       "        vertical-align: middle;\n",
       "    }\n",
       "\n",
       "    .dataframe tbody tr th {\n",
       "        vertical-align: top;\n",
       "    }\n",
       "\n",
       "    .dataframe thead th {\n",
       "        text-align: right;\n",
       "    }\n",
       "</style>\n",
       "<table border=\"1\" class=\"dataframe\">\n",
       "  <thead>\n",
       "    <tr style=\"text-align: right;\">\n",
       "      <th></th>\n",
       "      <th>observations</th>\n",
       "    </tr>\n",
       "    <tr>\n",
       "      <th>sm</th>\n",
       "      <th></th>\n",
       "    </tr>\n",
       "  </thead>\n",
       "  <tbody>\n",
       "    <tr>\n",
       "      <th>0</th>\n",
       "      <td>8.595845958102574</td>\n",
       "    </tr>\n",
       "    <tr>\n",
       "      <th>1</th>\n",
       "      <td>8.326611178924882</td>\n",
       "    </tr>\n",
       "    <tr>\n",
       "      <th>2</th>\n",
       "      <td>7.568576414222883</td>\n",
       "    </tr>\n",
       "    <tr>\n",
       "      <th>3</th>\n",
       "      <td>8.265966164960947</td>\n",
       "    </tr>\n",
       "    <tr>\n",
       "      <th>4</th>\n",
       "      <td>8.445091991106834</td>\n",
       "    </tr>\n",
       "    <tr>\n",
       "      <th>...</th>\n",
       "      <td>...</td>\n",
       "    </tr>\n",
       "    <tr>\n",
       "      <th>495</th>\n",
       "      <td>7.982707179591197</td>\n",
       "    </tr>\n",
       "    <tr>\n",
       "      <th>496</th>\n",
       "      <td>7.753464873544234</td>\n",
       "    </tr>\n",
       "    <tr>\n",
       "      <th>497</th>\n",
       "      <td>7.973719576466471</td>\n",
       "    </tr>\n",
       "    <tr>\n",
       "      <th>498</th>\n",
       "      <td>8.788743377293162</td>\n",
       "    </tr>\n",
       "    <tr>\n",
       "      <th>499</th>\n",
       "      <td>8.66936427022653</td>\n",
       "    </tr>\n",
       "  </tbody>\n",
       "</table>\n",
       "<p>498 rows × 1 columns</p>\n",
       "</div>"
      ],
      "text/plain": [
       "          observations\n",
       "sm                    \n",
       "0    8.595845958102574\n",
       "1    8.326611178924882\n",
       "2    7.568576414222883\n",
       "3    8.265966164960947\n",
       "4    8.445091991106834\n",
       "..                 ...\n",
       "495  7.982707179591197\n",
       "496  7.753464873544234\n",
       "497  7.973719576466471\n",
       "498  8.788743377293162\n",
       "499   8.66936427022653\n",
       "\n",
       "[498 rows x 1 columns]"
      ]
     },
     "metadata": {},
     "output_type": "display_data"
    }
   ],
   "source": [
    "traj_var_dw(df_MPS_0_DW, L=10,p_ctrl=0.4,p_proj=0.0,sC=50)"
   ]
  },
  {
   "cell_type": "markdown",
   "metadata": {},
   "source": [
    "## circuit_var of FDW"
   ]
  },
  {
   "cell_type": "code",
   "execution_count": 229,
   "metadata": {},
   "outputs": [],
   "source": [
    "def circ_var_dw(df, L,p_ctrl,p_proj,sC):\n",
    "    dd=df.xs(L,level='L').xs(p_ctrl,level='p_ctrl').xs(p_proj,level='p_proj').xs(sC,level='sC')\n",
    "\n",
    "    return (dd.xs('DW1')).mean()[0]"
   ]
  },
  {
   "cell_type": "code",
   "execution_count": 230,
   "metadata": {},
   "outputs": [
    {
     "data": {
      "text/plain": [
       "8.23513415660248"
      ]
     },
     "execution_count": 230,
     "metadata": {},
     "output_type": "execute_result"
    }
   ],
   "source": [
    "circ_var_dw(df_MPS_0_DW, L=10,p_ctrl=0.4,p_proj=0.0,sC=50)"
   ]
  },
  {
   "cell_type": "code",
   "execution_count": 231,
   "metadata": {},
   "outputs": [
    {
     "data": {
      "text/plain": [
       "4.26445540284093"
      ]
     },
     "execution_count": 231,
     "metadata": {},
     "output_type": "execute_result"
    }
   ],
   "source": [
    "num_SC=100\n",
    "sC_circ_var_dw=[circ_var_dw(df_MPS_0_DW, L=10,p_ctrl=0.4,p_proj=0.0,sC=sC) for sC in np.arange(num_SC)]\n",
    "\n",
    "\n",
    "np.var(sC_circ_var_dw)\n",
    "# np.mean(sC_circ_var_dw),np.std(sC_circ_var_dw)/np.sqrt(num_SC)"
   ]
  },
  {
   "cell_type": "code",
   "execution_count": 232,
   "metadata": {},
   "outputs": [
    {
     "data": {
      "text/plain": [
       "4.071057878193988"
      ]
     },
     "execution_count": 232,
     "metadata": {},
     "output_type": "execute_result"
    }
   ],
   "source": [
    "num_SC=100\n",
    "sC_circ_var_dw=[circ_var_dw(df_MPS_0_DW, L=20,p_ctrl=0.4,p_proj=0.0,sC=sC) for sC in np.arange(num_SC)]\n",
    "\n",
    "\n",
    "np.var(sC_circ_var_dw)\n",
    "# np.mean(sC_circ_var_dw),np.std(sC_circ_var_dw)/np.sqrt(num_SC)"
   ]
  },
  {
   "cell_type": "code",
   "execution_count": 233,
   "metadata": {},
   "outputs": [
    {
     "data": {
      "text/plain": [
       "7.964022521404832"
      ]
     },
     "execution_count": 233,
     "metadata": {},
     "output_type": "execute_result"
    }
   ],
   "source": [
    "num_SC=100\n",
    "sC_circ_var_dw=[circ_var_dw(df_MPS_0_DW, L=30,p_ctrl=0.4,p_proj=0.0,sC=sC) for sC in np.arange(num_SC)]\n",
    "\n",
    "\n",
    "np.var(sC_circ_var_dw)\n",
    "# np.mean(sC_circ_var_dw),np.std(sC_circ_var_dw)/np.sqrt(num_SC)"
   ]
  },
  {
   "cell_type": "code",
   "execution_count": null,
   "metadata": {},
   "outputs": [],
   "source": [
    "?? How does it compare to classical random walk, biased and starting at k=1?"
   ]
  },
  {
   "cell_type": "code",
   "execution_count": 69,
   "metadata": {},
   "outputs": [
    {
     "data": {
      "text/plain": [
       "array(['DW1', 'DW2', 'O1', 'O2', 'Oi', 'op_history'], dtype=object)"
      ]
     },
     "execution_count": 69,
     "metadata": {},
     "output_type": "execute_result"
    }
   ],
   "source": [
    "np.unique(df_MPS_0_DW.index.get_level_values('Metrics'))"
   ]
  },
  {
   "cell_type": "markdown",
   "metadata": {},
   "source": [
    "# O"
   ]
  },
  {
   "cell_type": "markdown",
   "metadata": {},
   "source": [
    "## qvar of O"
   ]
  },
  {
   "cell_type": "code",
   "execution_count": 234,
   "metadata": {},
   "outputs": [],
   "source": [
    "def qvar_O(df, L,p_ctrl,p_proj,sC):\n",
    "    dd=df.xs(L,level='L').xs(p_ctrl,level='p_ctrl').xs(p_proj,level='p_proj').xs(sC,level='sC')\n",
    "    qvar_O=dd.xs('O2')-dd.xs('O1')**2\n",
    "    return qvar_O.mean().values[0]\n",
    "    # return qvar_O"
   ]
  },
  {
   "cell_type": "code",
   "execution_count": 235,
   "metadata": {},
   "outputs": [
    {
     "data": {
      "text/plain": [
       "0.06428753940065807"
      ]
     },
     "execution_count": 235,
     "metadata": {},
     "output_type": "execute_result"
    }
   ],
   "source": [
    "qvar_O(df_MPS_0_DW, L=10,p_ctrl=0.4,p_proj=0.0,sC=0).mean()"
   ]
  },
  {
   "cell_type": "code",
   "execution_count": 236,
   "metadata": {},
   "outputs": [
    {
     "data": {
      "text/plain": [
       "(0.06912434609023921, 0.0020647096848795043)"
      ]
     },
     "execution_count": 236,
     "metadata": {},
     "output_type": "execute_result"
    }
   ],
   "source": [
    "num_SC=100\n",
    "sC_qvar_O=[qvar_O(df_MPS_0_DW, L=10,p_ctrl=0.4,p_proj=0.0,sC=sC) for sC in np.arange(num_SC)]\n",
    "np.mean(sC_qvar_O),np.std(sC_qvar_O)/np.sqrt(num_SC)"
   ]
  },
  {
   "cell_type": "code",
   "execution_count": 237,
   "metadata": {},
   "outputs": [
    {
     "data": {
      "text/plain": [
       "(0.039155090774166706, 0.0005838420584064467)"
      ]
     },
     "execution_count": 237,
     "metadata": {},
     "output_type": "execute_result"
    }
   ],
   "source": [
    "num_SC=100\n",
    "sC_qvar_O=[qvar_O(df_MPS_0_DW, L=20,p_ctrl=0.4,p_proj=0.0,sC=sC) for sC in np.arange(num_SC)]\n",
    "np.mean(sC_qvar_O),np.std(sC_qvar_O)/np.sqrt(num_SC)"
   ]
  },
  {
   "cell_type": "code",
   "execution_count": 238,
   "metadata": {},
   "outputs": [
    {
     "data": {
      "text/plain": [
       "(0.025906526234385146, 0.0003415981325711789)"
      ]
     },
     "execution_count": 238,
     "metadata": {},
     "output_type": "execute_result"
    }
   ],
   "source": [
    "num_SC=100\n",
    "sC_qvar_O=[qvar_O(df_MPS_0_DW, L=30,p_ctrl=0.4,p_proj=0.0,sC=sC) for sC in np.arange(num_SC)]\n",
    "np.mean(sC_qvar_O),np.std(sC_qvar_O)/np.sqrt(num_SC)"
   ]
  },
  {
   "cell_type": "markdown",
   "metadata": {},
   "source": [
    "## traj_var of O"
   ]
  },
  {
   "cell_type": "code",
   "execution_count": 239,
   "metadata": {},
   "outputs": [],
   "source": [
    "def traj_var_O(df, L,p_ctrl,p_proj,sC):\n",
    "    dd=df.xs(L,level='L').xs(p_ctrl,level='p_ctrl').xs(p_proj,level='p_proj').xs(sC,level='sC')\n",
    "    return dd.xs('O1').var()[0]"
   ]
  },
  {
   "cell_type": "code",
   "execution_count": 61,
   "metadata": {},
   "outputs": [
    {
     "data": {
      "text/plain": [
       "0.011607035894892788"
      ]
     },
     "execution_count": 61,
     "metadata": {},
     "output_type": "execute_result"
    }
   ],
   "source": [
    "traj_var_O(df_MPS_0_DW, L=10,p_ctrl=0.4,p_proj=0.0,sC=50)"
   ]
  },
  {
   "cell_type": "code",
   "execution_count": 240,
   "metadata": {},
   "outputs": [
    {
     "data": {
      "text/plain": [
       "(0.0059073010477680935, 0.0002717972019102988)"
      ]
     },
     "execution_count": 240,
     "metadata": {},
     "output_type": "execute_result"
    }
   ],
   "source": [
    "num_SC=100\n",
    "sC_traj_var_O=[traj_var_O(df_MPS_0_DW, L=10,p_ctrl=0.4,p_proj=0.0,sC=sC) for sC in np.arange(num_SC)]\n",
    "np.mean(sC_traj_var_O),np.std(sC_traj_var_O)/np.sqrt(num_SC)"
   ]
  },
  {
   "cell_type": "code",
   "execution_count": 241,
   "metadata": {},
   "outputs": [
    {
     "data": {
      "text/plain": [
       "(0.0029442501486311393, 0.00010133385188069294)"
      ]
     },
     "execution_count": 241,
     "metadata": {},
     "output_type": "execute_result"
    }
   ],
   "source": [
    "num_SC=100\n",
    "sC_traj_var_O=[traj_var_O(df_MPS_0_DW, L=20,p_ctrl=0.4,p_proj=0.0,sC=sC) for sC in np.arange(num_SC)]\n",
    "np.mean(sC_traj_var_O),np.std(sC_traj_var_O)/np.sqrt(num_SC)"
   ]
  },
  {
   "cell_type": "code",
   "execution_count": 242,
   "metadata": {},
   "outputs": [
    {
     "data": {
      "text/plain": [
       "(0.002026370935199138, 6.092419125896659e-05)"
      ]
     },
     "execution_count": 242,
     "metadata": {},
     "output_type": "execute_result"
    }
   ],
   "source": [
    "num_SC=100\n",
    "sC_traj_var_O=[traj_var_O(df_MPS_0_DW, L=30,p_ctrl=0.4,p_proj=0.0,sC=sC) for sC in np.arange(num_SC)]\n",
    "np.mean(sC_traj_var_O),np.std(sC_traj_var_O)/np.sqrt(num_SC)"
   ]
  },
  {
   "cell_type": "code",
   "execution_count": null,
   "metadata": {},
   "outputs": [],
   "source": []
  },
  {
   "cell_type": "markdown",
   "metadata": {},
   "source": [
    "## circuit_var of O"
   ]
  },
  {
   "cell_type": "code",
   "execution_count": 64,
   "metadata": {},
   "outputs": [],
   "source": [
    "def circ_var_O(df, L,p_ctrl,p_proj,sC):\n",
    "    dd=df.xs(L,level='L').xs(p_ctrl,level='p_ctrl').xs(p_proj,level='p_proj').xs(sC,level='sC')\n",
    "    return dd.xs('O1').mean()[0]"
   ]
  },
  {
   "cell_type": "code",
   "execution_count": 66,
   "metadata": {},
   "outputs": [
    {
     "data": {
      "text/plain": [
       "0.028034221058116073"
      ]
     },
     "execution_count": 66,
     "metadata": {},
     "output_type": "execute_result"
    }
   ],
   "source": [
    "circ_var_O(df_MPS_0_DW, L=10,p_ctrl=0.4,p_proj=0.0,sC=50)"
   ]
  },
  {
   "cell_type": "code",
   "execution_count": 243,
   "metadata": {},
   "outputs": [
    {
     "data": {
      "text/plain": [
       "0.04744827026090902"
      ]
     },
     "execution_count": 243,
     "metadata": {},
     "output_type": "execute_result"
    }
   ],
   "source": [
    "num_SC=100\n",
    "sC_circ_var_O=[circ_var_O(df_MPS_0_DW, L=10,p_ctrl=0.4,p_proj=0.0,sC=sC) for sC in np.arange(num_SC)]\n",
    "\n",
    "\n",
    "np.var(sC_circ_var_O)"
   ]
  },
  {
   "cell_type": "code",
   "execution_count": 244,
   "metadata": {},
   "outputs": [
    {
     "data": {
      "text/plain": [
       "0.013573266999547695"
      ]
     },
     "execution_count": 244,
     "metadata": {},
     "output_type": "execute_result"
    }
   ],
   "source": [
    "num_SC=100\n",
    "sC_circ_var_O=[circ_var_O(df_MPS_0_DW, L=20,p_ctrl=0.4,p_proj=0.0,sC=sC) for sC in np.arange(num_SC)]\n",
    "\n",
    "\n",
    "np.var(sC_circ_var_O)"
   ]
  },
  {
   "cell_type": "code",
   "execution_count": 245,
   "metadata": {},
   "outputs": [
    {
     "data": {
      "text/plain": [
       "0.011164835099472753"
      ]
     },
     "execution_count": 245,
     "metadata": {},
     "output_type": "execute_result"
    }
   ],
   "source": [
    "num_SC=100\n",
    "sC_circ_var_O=[circ_var_O(df_MPS_0_DW, L=30,p_ctrl=0.4,p_proj=0.0,sC=sC) for sC in np.arange(num_SC)]\n",
    "\n",
    "\n",
    "np.var(sC_circ_var_O)"
   ]
  },
  {
   "cell_type": "code",
   "execution_count": null,
   "metadata": {},
   "outputs": [],
   "source": []
  },
  {
   "cell_type": "markdown",
   "metadata": {},
   "source": [
    "# Z_1"
   ]
  },
  {
   "cell_type": "markdown",
   "metadata": {},
   "source": [
    "## qvar of Zi"
   ]
  },
  {
   "cell_type": "code",
   "execution_count": 91,
   "metadata": {},
   "outputs": [],
   "source": [
    "def qvar_Z(df, L,p_ctrl,p_proj,sC,i):\n",
    "    dd=df.xs(L,level='L').xs(p_ctrl,level='p_ctrl').xs(p_proj,level='p_proj').xs(sC,level='sC')\n",
    "    qvar_Zi=1-dd.xs('Oi').applymap(lambda x: x[i]**2)\n",
    "    return qvar_Zi.mean().values[0]"
   ]
  },
  {
   "cell_type": "code",
   "execution_count": 97,
   "metadata": {},
   "outputs": [
    {
     "data": {
      "text/plain": [
       "-7.225331444260519e-16"
      ]
     },
     "execution_count": 97,
     "metadata": {},
     "output_type": "execute_result"
    }
   ],
   "source": [
    "qvar_Z(df_MPS_0_DW, L=10,p_ctrl=0.4,p_proj=0.0,sC=4,i=0)"
   ]
  },
  {
   "cell_type": "code",
   "execution_count": null,
   "metadata": {},
   "outputs": [
    {
     "data": {
      "text/plain": [
       "0.8457728980855934"
      ]
     },
     "metadata": {},
     "output_type": "display_data"
    }
   ],
   "source": [
    "qvar_Z(df_MPS_0_DW, L=10,p_ctrl=0.4,p_proj=0.0,sC=4,i=-1)"
   ]
  },
  {
   "cell_type": "code",
   "execution_count": 246,
   "metadata": {},
   "outputs": [
    {
     "data": {
      "text/plain": [
       "(0.3289483372422052, 0.04156150771497301)"
      ]
     },
     "execution_count": 246,
     "metadata": {},
     "output_type": "execute_result"
    }
   ],
   "source": [
    "num_SC=100\n",
    "sC_qvar_Z_right=[qvar_Z(df_MPS_0_DW, L=10,p_ctrl=0.4,p_proj=0.0,sC=sC,i=0) for sC in np.arange(num_SC)]\n",
    "np.mean(sC_qvar_Z_right),np.std(sC_qvar_Z_right)/np.sqrt(num_SC)"
   ]
  },
  {
   "cell_type": "code",
   "execution_count": 247,
   "metadata": {},
   "outputs": [
    {
     "data": {
      "text/plain": [
       "(0.32231839904953935, 0.04177081299456341)"
      ]
     },
     "execution_count": 247,
     "metadata": {},
     "output_type": "execute_result"
    }
   ],
   "source": [
    "num_SC=100\n",
    "sC_qvar_Z_right=[qvar_Z(df_MPS_0_DW, L=20,p_ctrl=0.4,p_proj=0.0,sC=sC,i=0) for sC in np.arange(num_SC)]\n",
    "np.mean(sC_qvar_Z_right),np.std(sC_qvar_Z_right)/np.sqrt(num_SC)"
   ]
  },
  {
   "cell_type": "code",
   "execution_count": 248,
   "metadata": {},
   "outputs": [
    {
     "data": {
      "text/plain": [
       "(0.26024375229821617, 0.039494147753851586)"
      ]
     },
     "execution_count": 248,
     "metadata": {},
     "output_type": "execute_result"
    }
   ],
   "source": [
    "num_SC=100\n",
    "sC_qvar_Z_right=[qvar_Z(df_MPS_0_DW, L=30,p_ctrl=0.4,p_proj=0.0,sC=sC,i=0) for sC in np.arange(num_SC)]\n",
    "np.mean(sC_qvar_Z_right),np.std(sC_qvar_Z_right)/np.sqrt(num_SC)"
   ]
  },
  {
   "cell_type": "code",
   "execution_count": 249,
   "metadata": {},
   "outputs": [
    {
     "data": {
      "text/plain": [
       "(0.8359453414702374, 0.01435548012315748)"
      ]
     },
     "execution_count": 249,
     "metadata": {},
     "output_type": "execute_result"
    }
   ],
   "source": [
    "num_SC=100\n",
    "sC_qvar_Z_left=[qvar_Z(df_MPS_0_DW, L=10,p_ctrl=0.4,p_proj=0.0,sC=sC,i=-1) for sC in np.arange(num_SC)]\n",
    "np.mean(sC_qvar_Z_left),np.std(sC_qvar_Z_left)/np.sqrt(num_SC)"
   ]
  },
  {
   "cell_type": "code",
   "execution_count": 250,
   "metadata": {},
   "outputs": [
    {
     "data": {
      "text/plain": [
       "(0.8510813024967825, 0.013374313529025595)"
      ]
     },
     "execution_count": 250,
     "metadata": {},
     "output_type": "execute_result"
    }
   ],
   "source": [
    "num_SC=100\n",
    "sC_qvar_Z_left=[qvar_Z(df_MPS_0_DW, L=20,p_ctrl=0.4,p_proj=0.0,sC=sC,i=-1) for sC in np.arange(num_SC)]\n",
    "np.mean(sC_qvar_Z_left),np.std(sC_qvar_Z_left)/np.sqrt(num_SC)"
   ]
  },
  {
   "cell_type": "code",
   "execution_count": 251,
   "metadata": {},
   "outputs": [
    {
     "data": {
      "text/plain": [
       "(0.8413240528799324, 0.011004081718311104)"
      ]
     },
     "execution_count": 251,
     "metadata": {},
     "output_type": "execute_result"
    }
   ],
   "source": [
    "num_SC=100\n",
    "sC_qvar_Z_left=[qvar_Z(df_MPS_0_DW, L=30,p_ctrl=0.4,p_proj=0.0,sC=sC,i=-1) for sC in np.arange(num_SC)]\n",
    "np.mean(sC_qvar_Z_left),np.std(sC_qvar_Z_left)/np.sqrt(num_SC)"
   ]
  },
  {
   "cell_type": "code",
   "execution_count": null,
   "metadata": {},
   "outputs": [],
   "source": []
  },
  {
   "cell_type": "markdown",
   "metadata": {},
   "source": [
    "## traj_var of Zi"
   ]
  },
  {
   "cell_type": "code",
   "execution_count": 100,
   "metadata": {},
   "outputs": [],
   "source": [
    "def traj_var_Z(df, L,p_ctrl,p_proj,sC,i):\n",
    "    dd=df.xs(L,level='L').xs(p_ctrl,level='p_ctrl').xs(p_proj,level='p_proj').xs(sC,level='sC')\n",
    "    return dd.xs('Oi').applymap(lambda x: x[i]).var().values[0]"
   ]
  },
  {
   "cell_type": "code",
   "execution_count": 111,
   "metadata": {},
   "outputs": [
    {
     "data": {
      "text/plain": [
       "0.12182746842547218"
      ]
     },
     "execution_count": 111,
     "metadata": {},
     "output_type": "execute_result"
    }
   ],
   "source": [
    "traj_var_Z(df_MPS_0_DW, L=10,p_ctrl=0.4,p_proj=0.0,sC=6,i=0)"
   ]
  },
  {
   "cell_type": "code",
   "execution_count": 103,
   "metadata": {},
   "outputs": [
    {
     "data": {
      "text/plain": [
       "0.04172187833456101"
      ]
     },
     "execution_count": 103,
     "metadata": {},
     "output_type": "execute_result"
    }
   ],
   "source": [
    "traj_var_Z(df_MPS_0_DW, L=10,p_ctrl=0.4,p_proj=0.0,sC=50,i=-1)"
   ]
  },
  {
   "cell_type": "code",
   "execution_count": 107,
   "metadata": {},
   "outputs": [
    {
     "data": {
      "text/plain": [
       "(0.034973115725274326, 0.00908199442683957)"
      ]
     },
     "execution_count": 107,
     "metadata": {},
     "output_type": "execute_result"
    }
   ],
   "source": [
    "num_SC=50\n",
    "sC_traj_var_Z_right=[traj_var_Z(df_MPS_0_DW, L=10,p_ctrl=0.4,p_proj=0.0,sC=sC,i=0) for sC in np.arange(num_SC)]\n",
    "np.mean(sC_traj_var_Z_right),np.std(sC_traj_var_Z_right)/np.sqrt(num_SC)"
   ]
  },
  {
   "cell_type": "code",
   "execution_count": 112,
   "metadata": {},
   "outputs": [
    {
     "data": {
      "text/plain": [
       "(0.08257149597114327, 0.013744227512932278)"
      ]
     },
     "execution_count": 112,
     "metadata": {},
     "output_type": "execute_result"
    }
   ],
   "source": [
    "num_SC=50\n",
    "sC_traj_var_Z_left=[traj_var_Z(df_MPS_0_DW, L=10,p_ctrl=0.4,p_proj=0.0,sC=sC,i=-1) for sC in np.arange(num_SC)]\n",
    "np.mean(sC_traj_var_Z_left),np.std(sC_traj_var_Z_left)/np.sqrt(num_SC)"
   ]
  },
  {
   "cell_type": "code",
   "execution_count": null,
   "metadata": {},
   "outputs": [],
   "source": []
  },
  {
   "cell_type": "markdown",
   "metadata": {},
   "source": [
    "## circuit_var of Z"
   ]
  },
  {
   "cell_type": "code",
   "execution_count": 113,
   "metadata": {},
   "outputs": [],
   "source": [
    "def circ_var_Z(df, L,p_ctrl,p_proj,sC,i):\n",
    "    dd=df.xs(L,level='L').xs(p_ctrl,level='p_ctrl').xs(p_proj,level='p_proj').xs(sC,level='sC')\n",
    "    return dd.xs('Oi').applymap(lambda x: x[i]).mean().values[0]"
   ]
  },
  {
   "cell_type": "code",
   "execution_count": 117,
   "metadata": {},
   "outputs": [
    {
     "data": {
      "text/plain": [
       "1.0000000000000002"
      ]
     },
     "execution_count": 117,
     "metadata": {},
     "output_type": "execute_result"
    }
   ],
   "source": [
    "circ_var_Z(df_MPS_0_DW, L=10,p_ctrl=0.4,p_proj=0.0,sC=49,i=0)"
   ]
  },
  {
   "cell_type": "code",
   "execution_count": 116,
   "metadata": {},
   "outputs": [
    {
     "data": {
      "text/plain": [
       "-0.5103932928959115"
      ]
     },
     "execution_count": 116,
     "metadata": {},
     "output_type": "execute_result"
    }
   ],
   "source": [
    "circ_var_Z(df_MPS_0_DW, L=10,p_ctrl=0.4,p_proj=0.0,sC=50,i=-1)"
   ]
  },
  {
   "cell_type": "code",
   "execution_count": 119,
   "metadata": {},
   "outputs": [
    {
     "data": {
      "text/plain": [
       "0.20992047970784428"
      ]
     },
     "execution_count": 119,
     "metadata": {},
     "output_type": "execute_result"
    }
   ],
   "source": [
    "num_SC=50\n",
    "sC_circ_var_Z_left=[circ_var_Z(df_MPS_0_DW, L=10,p_ctrl=0.4,p_proj=0.0,sC=sC,i=0) for sC in np.arange(num_SC)]\n",
    "\n",
    "np.var(sC_circ_var_Z_left)"
   ]
  },
  {
   "cell_type": "code",
   "execution_count": 120,
   "metadata": {},
   "outputs": [
    {
     "data": {
      "text/plain": [
       "0.08287922886302779"
      ]
     },
     "execution_count": 120,
     "metadata": {},
     "output_type": "execute_result"
    }
   ],
   "source": [
    "num_SC=50\n",
    "sC_circ_var_Z_right=[circ_var_Z(df_MPS_0_DW, L=10,p_ctrl=0.4,p_proj=0.0,sC=sC,i=-1) for sC in np.arange(num_SC)]\n",
    "\n",
    "np.var(sC_circ_var_Z_right)"
   ]
  },
  {
   "cell_type": "code",
   "execution_count": null,
   "metadata": {},
   "outputs": [],
   "source": []
  },
  {
   "cell_type": "code",
   "execution_count": 194,
   "metadata": {},
   "outputs": [
    {
     "data": {
      "text/html": [
       "<div>\n",
       "<style scoped>\n",
       "    .dataframe tbody tr th:only-of-type {\n",
       "        vertical-align: middle;\n",
       "    }\n",
       "\n",
       "    .dataframe tbody tr th {\n",
       "        vertical-align: top;\n",
       "    }\n",
       "\n",
       "    .dataframe thead th {\n",
       "        text-align: right;\n",
       "    }\n",
       "</style>\n",
       "<table border=\"1\" class=\"dataframe\">\n",
       "  <thead>\n",
       "    <tr style=\"text-align: right;\">\n",
       "      <th></th>\n",
       "      <th>observations</th>\n",
       "    </tr>\n",
       "    <tr>\n",
       "      <th>sm</th>\n",
       "      <th></th>\n",
       "    </tr>\n",
       "  </thead>\n",
       "  <tbody>\n",
       "    <tr>\n",
       "      <th>0</th>\n",
       "      <td>16.61630843072915</td>\n",
       "    </tr>\n",
       "    <tr>\n",
       "      <th>1</th>\n",
       "      <td>16.660991586580508</td>\n",
       "    </tr>\n",
       "    <tr>\n",
       "      <th>2</th>\n",
       "      <td>16.673339244685252</td>\n",
       "    </tr>\n",
       "    <tr>\n",
       "      <th>3</th>\n",
       "      <td>16.825154890560217</td>\n",
       "    </tr>\n",
       "    <tr>\n",
       "      <th>4</th>\n",
       "      <td>16.54317402506362</td>\n",
       "    </tr>\n",
       "    <tr>\n",
       "      <th>...</th>\n",
       "      <td>...</td>\n",
       "    </tr>\n",
       "    <tr>\n",
       "      <th>495</th>\n",
       "      <td>16.986097016147177</td>\n",
       "    </tr>\n",
       "    <tr>\n",
       "      <th>496</th>\n",
       "      <td>17.347125376363778</td>\n",
       "    </tr>\n",
       "    <tr>\n",
       "      <th>497</th>\n",
       "      <td>17.243169791520977</td>\n",
       "    </tr>\n",
       "    <tr>\n",
       "      <th>498</th>\n",
       "      <td>17.745262741336937</td>\n",
       "    </tr>\n",
       "    <tr>\n",
       "      <th>499</th>\n",
       "      <td>17.233464582312784</td>\n",
       "    </tr>\n",
       "  </tbody>\n",
       "</table>\n",
       "<p>500 rows × 1 columns</p>\n",
       "</div>"
      ],
      "text/plain": [
       "           observations\n",
       "sm                     \n",
       "0     16.61630843072915\n",
       "1    16.660991586580508\n",
       "2    16.673339244685252\n",
       "3    16.825154890560217\n",
       "4     16.54317402506362\n",
       "..                  ...\n",
       "495  16.986097016147177\n",
       "496  17.347125376363778\n",
       "497  17.243169791520977\n",
       "498  17.745262741336937\n",
       "499  17.233464582312784\n",
       "\n",
       "[500 rows x 1 columns]"
      ]
     },
     "execution_count": 194,
     "metadata": {},
     "output_type": "execute_result"
    }
   ],
   "source": [
    "df_MPS_0_DW.xs(20,level='L').xs(0.4,level='p_ctrl').xs(0.0,level='p_proj').xs(0,level='sC').xs('dw1',level='Metrics')"
   ]
  },
  {
   "cell_type": "code",
   "execution_count": 195,
   "metadata": {},
   "outputs": [
    {
     "data": {
      "text/html": [
       "<div>\n",
       "<style scoped>\n",
       "    .dataframe tbody tr th:only-of-type {\n",
       "        vertical-align: middle;\n",
       "    }\n",
       "\n",
       "    .dataframe tbody tr th {\n",
       "        vertical-align: top;\n",
       "    }\n",
       "\n",
       "    .dataframe thead th {\n",
       "        text-align: right;\n",
       "    }\n",
       "</style>\n",
       "<table border=\"1\" class=\"dataframe\">\n",
       "  <thead>\n",
       "    <tr style=\"text-align: right;\">\n",
       "      <th></th>\n",
       "      <th>observations</th>\n",
       "    </tr>\n",
       "    <tr>\n",
       "      <th>sm</th>\n",
       "      <th></th>\n",
       "    </tr>\n",
       "  </thead>\n",
       "  <tbody>\n",
       "    <tr>\n",
       "      <th>0</th>\n",
       "      <td>278.43879379109353</td>\n",
       "    </tr>\n",
       "    <tr>\n",
       "      <th>1</th>\n",
       "      <td>281.05608301650176</td>\n",
       "    </tr>\n",
       "    <tr>\n",
       "      <th>2</th>\n",
       "      <td>279.9290195706446</td>\n",
       "    </tr>\n",
       "    <tr>\n",
       "      <th>3</th>\n",
       "      <td>284.4791177454983</td>\n",
       "    </tr>\n",
       "    <tr>\n",
       "      <th>4</th>\n",
       "      <td>275.7232849771889</td>\n",
       "    </tr>\n",
       "    <tr>\n",
       "      <th>...</th>\n",
       "      <td>...</td>\n",
       "    </tr>\n",
       "    <tr>\n",
       "      <th>495</th>\n",
       "      <td>289.9058812196481</td>\n",
       "    </tr>\n",
       "    <tr>\n",
       "      <th>496</th>\n",
       "      <td>302.2104394226964</td>\n",
       "    </tr>\n",
       "    <tr>\n",
       "      <th>497</th>\n",
       "      <td>298.9892100989224</td>\n",
       "    </tr>\n",
       "    <tr>\n",
       "      <th>498</th>\n",
       "      <td>315.38462355610545</td>\n",
       "    </tr>\n",
       "    <tr>\n",
       "      <th>499</th>\n",
       "      <td>298.2402188456295</td>\n",
       "    </tr>\n",
       "  </tbody>\n",
       "</table>\n",
       "<p>500 rows × 1 columns</p>\n",
       "</div>"
      ],
      "text/plain": [
       "           observations\n",
       "sm                     \n",
       "0    278.43879379109353\n",
       "1    281.05608301650176\n",
       "2     279.9290195706446\n",
       "3     284.4791177454983\n",
       "4     275.7232849771889\n",
       "..                  ...\n",
       "495   289.9058812196481\n",
       "496   302.2104394226964\n",
       "497   298.9892100989224\n",
       "498  315.38462355610545\n",
       "499   298.2402188456295\n",
       "\n",
       "[500 rows x 1 columns]"
      ]
     },
     "execution_count": 195,
     "metadata": {},
     "output_type": "execute_result"
    }
   ],
   "source": [
    "df_MPS_0_DW.xs(20,level='L').xs(0.4,level='p_ctrl').xs(0.0,level='p_proj').xs(0,level='sC').xs('dw2',level='Metrics')"
   ]
  },
  {
   "cell_type": "code",
   "execution_count": 196,
   "metadata": {},
   "outputs": [
    {
     "data": {
      "text/html": [
       "<div>\n",
       "<style scoped>\n",
       "    .dataframe tbody tr th:only-of-type {\n",
       "        vertical-align: middle;\n",
       "    }\n",
       "\n",
       "    .dataframe tbody tr th {\n",
       "        vertical-align: top;\n",
       "    }\n",
       "\n",
       "    .dataframe thead th {\n",
       "        text-align: right;\n",
       "    }\n",
       "</style>\n",
       "<table border=\"1\" class=\"dataframe\">\n",
       "  <thead>\n",
       "    <tr style=\"text-align: right;\">\n",
       "      <th></th>\n",
       "      <th>observations</th>\n",
       "    </tr>\n",
       "    <tr>\n",
       "      <th>sm</th>\n",
       "      <th></th>\n",
       "    </tr>\n",
       "  </thead>\n",
       "  <tbody>\n",
       "    <tr>\n",
       "      <th>0</th>\n",
       "      <td>2.337088</td>\n",
       "    </tr>\n",
       "    <tr>\n",
       "      <th>1</th>\n",
       "      <td>3.467442</td>\n",
       "    </tr>\n",
       "    <tr>\n",
       "      <th>2</th>\n",
       "      <td>1.928778</td>\n",
       "    </tr>\n",
       "    <tr>\n",
       "      <th>3</th>\n",
       "      <td>1.393281</td>\n",
       "    </tr>\n",
       "    <tr>\n",
       "      <th>4</th>\n",
       "      <td>2.046678</td>\n",
       "    </tr>\n",
       "    <tr>\n",
       "      <th>...</th>\n",
       "      <td>...</td>\n",
       "    </tr>\n",
       "    <tr>\n",
       "      <th>495</th>\n",
       "      <td>1.378389</td>\n",
       "    </tr>\n",
       "    <tr>\n",
       "      <th>496</th>\n",
       "      <td>1.287681</td>\n",
       "    </tr>\n",
       "    <tr>\n",
       "      <th>497</th>\n",
       "      <td>1.662306</td>\n",
       "    </tr>\n",
       "    <tr>\n",
       "      <th>498</th>\n",
       "      <td>0.490274</td>\n",
       "    </tr>\n",
       "    <tr>\n",
       "      <th>499</th>\n",
       "      <td>1.247917</td>\n",
       "    </tr>\n",
       "  </tbody>\n",
       "</table>\n",
       "<p>500 rows × 1 columns</p>\n",
       "</div>"
      ],
      "text/plain": [
       "    observations\n",
       "sm              \n",
       "0       2.337088\n",
       "1       3.467442\n",
       "2       1.928778\n",
       "3       1.393281\n",
       "4       2.046678\n",
       "..           ...\n",
       "495     1.378389\n",
       "496     1.287681\n",
       "497     1.662306\n",
       "498     0.490274\n",
       "499     1.247917\n",
       "\n",
       "[500 rows x 1 columns]"
      ]
     },
     "execution_count": 196,
     "metadata": {},
     "output_type": "execute_result"
    }
   ],
   "source": [
    "df_MPS_0_DW.xs(20,level='L').xs(0.4,level='p_ctrl').xs(0.0,level='p_proj').xs(0,level='sC').xs('dw2',level='Metrics')-df_MPS_0_DW.xs(20,level='L').xs(0.4,level='p_ctrl').xs(0.0,level='p_proj').xs(0,level='sC').xs('dw1',level='Metrics')**2"
   ]
  },
  {
   "cell_type": "code",
   "execution_count": 52,
   "metadata": {},
   "outputs": [
    {
     "data": {
      "text/plain": [
       "0.355"
      ]
     },
     "execution_count": 52,
     "metadata": {},
     "output_type": "execute_result"
    }
   ],
   "source": [
    "71/200"
   ]
  },
  {
   "cell_type": "code",
   "execution_count": 41,
   "metadata": {},
   "outputs": [
    {
     "data": {
      "text/html": [
       "<div>\n",
       "<style scoped>\n",
       "    .dataframe tbody tr th:only-of-type {\n",
       "        vertical-align: middle;\n",
       "    }\n",
       "\n",
       "    .dataframe tbody tr th {\n",
       "        vertical-align: top;\n",
       "    }\n",
       "\n",
       "    .dataframe thead th {\n",
       "        text-align: right;\n",
       "    }\n",
       "</style>\n",
       "<table border=\"1\" class=\"dataframe\">\n",
       "  <thead>\n",
       "    <tr style=\"text-align: right;\">\n",
       "      <th></th>\n",
       "      <th>observations</th>\n",
       "    </tr>\n",
       "    <tr>\n",
       "      <th>sm</th>\n",
       "      <th></th>\n",
       "    </tr>\n",
       "  </thead>\n",
       "  <tbody>\n",
       "    <tr>\n",
       "      <th>0</th>\n",
       "      <td>[[{'Site': [10, 1], 'Outcome': None, 'Type': '...</td>\n",
       "    </tr>\n",
       "    <tr>\n",
       "      <th>1</th>\n",
       "      <td>[[{'Site': [10, 1], 'Outcome': None, 'Type': '...</td>\n",
       "    </tr>\n",
       "    <tr>\n",
       "      <th>2</th>\n",
       "      <td>[[{'Site': [10, 1], 'Outcome': None, 'Type': '...</td>\n",
       "    </tr>\n",
       "    <tr>\n",
       "      <th>3</th>\n",
       "      <td>[[{'Site': [10, 1], 'Outcome': None, 'Type': '...</td>\n",
       "    </tr>\n",
       "    <tr>\n",
       "      <th>4</th>\n",
       "      <td>[[{'Site': [10, 1], 'Outcome': None, 'Type': '...</td>\n",
       "    </tr>\n",
       "    <tr>\n",
       "      <th>...</th>\n",
       "      <td>...</td>\n",
       "    </tr>\n",
       "    <tr>\n",
       "      <th>495</th>\n",
       "      <td>[[{'Site': [10, 1], 'Outcome': None, 'Type': '...</td>\n",
       "    </tr>\n",
       "    <tr>\n",
       "      <th>496</th>\n",
       "      <td>[[{'Site': [10, 1], 'Outcome': None, 'Type': '...</td>\n",
       "    </tr>\n",
       "    <tr>\n",
       "      <th>497</th>\n",
       "      <td>[[{'Site': [10, 1], 'Outcome': None, 'Type': '...</td>\n",
       "    </tr>\n",
       "    <tr>\n",
       "      <th>498</th>\n",
       "      <td>[[{'Site': [10, 1], 'Outcome': None, 'Type': '...</td>\n",
       "    </tr>\n",
       "    <tr>\n",
       "      <th>499</th>\n",
       "      <td>[[{'Site': [10, 1], 'Outcome': None, 'Type': '...</td>\n",
       "    </tr>\n",
       "  </tbody>\n",
       "</table>\n",
       "<p>500 rows × 1 columns</p>\n",
       "</div>"
      ],
      "text/plain": [
       "                                          observations\n",
       "sm                                                    \n",
       "0    [[{'Site': [10, 1], 'Outcome': None, 'Type': '...\n",
       "1    [[{'Site': [10, 1], 'Outcome': None, 'Type': '...\n",
       "2    [[{'Site': [10, 1], 'Outcome': None, 'Type': '...\n",
       "3    [[{'Site': [10, 1], 'Outcome': None, 'Type': '...\n",
       "4    [[{'Site': [10, 1], 'Outcome': None, 'Type': '...\n",
       "..                                                 ...\n",
       "495  [[{'Site': [10, 1], 'Outcome': None, 'Type': '...\n",
       "496  [[{'Site': [10, 1], 'Outcome': None, 'Type': '...\n",
       "497  [[{'Site': [10, 1], 'Outcome': None, 'Type': '...\n",
       "498  [[{'Site': [10, 1], 'Outcome': None, 'Type': '...\n",
       "499  [[{'Site': [10, 1], 'Outcome': None, 'Type': '...\n",
       "\n",
       "[500 rows x 1 columns]"
      ]
     },
     "execution_count": 41,
     "metadata": {},
     "output_type": "execute_result"
    }
   ],
   "source": [
    "df_MPS_0_DW.xs(10,level='L').xs(0.4,level='p_ctrl').xs(0.0,level='p_proj').xs(0,level='sC').xs('op_history',level='Metrics')"
   ]
  },
  {
   "cell_type": "code",
   "execution_count": null,
   "metadata": {},
   "outputs": [],
   "source": []
  },
  {
   "cell_type": "code",
   "execution_count": 52,
   "metadata": {},
   "outputs": [
    {
     "data": {
      "text/plain": [
       "0.44234512037467527"
      ]
     },
     "execution_count": 52,
     "metadata": {},
     "output_type": "execute_result"
    }
   ],
   "source": [
    "d1['O']"
   ]
  },
  {
   "cell_type": "code",
   "execution_count": 53,
   "metadata": {},
   "outputs": [
    {
     "data": {
      "text/plain": [
       "0.33876001349717366"
      ]
     },
     "execution_count": 53,
     "metadata": {},
     "output_type": "execute_result"
    }
   ],
   "source": [
    "d2['O']"
   ]
  },
  {
   "cell_type": "code",
   "execution_count": 50,
   "metadata": {},
   "outputs": [],
   "source": [
    "d1=load_json('MPS_0-1_C_m_x01/MPS_(0,1)_L10_pctrl0.400_pproj0.000_sC0_sm0_x01_DW_O_op.json')"
   ]
  },
  {
   "cell_type": "code",
   "execution_count": 51,
   "metadata": {},
   "outputs": [],
   "source": [
    "d2=load_json('MPS_0-1_C_m_x01/MPS_(0,1)_L10_pctrl0.400_pproj0.000_sC0_sm1_x01_DW_O_op.json')"
   ]
  },
  {
   "cell_type": "code",
   "execution_count": 36,
   "metadata": {},
   "outputs": [],
   "source": [
    "d3=load_json('MPS_(0,1)_L8_pctrl0.500_pproj0.000_sC1_sm0_x01_DW_O_op.json')"
   ]
  },
  {
   "cell_type": "code",
   "execution_count": 20,
   "metadata": {},
   "outputs": [
    {
     "data": {
      "text/plain": [
       "[[{'Site': [8, 1], 'Outcome': None, 'Type': 'Bernoulli'}],\n",
       " [{'Site': [1, 2], 'Outcome': None, 'Type': 'Bernoulli'}],\n",
       " [{'Site': [2], 'Outcome': [1], 'Type': 'Control'}],\n",
       " [{'Site': [1], 'Outcome': [1], 'Type': 'Control'}],\n",
       " [{'Site': [8], 'Outcome': [0], 'Type': 'Control'}],\n",
       " [{'Site': [7], 'Outcome': [0], 'Type': 'Control'}],\n",
       " [{'Site': [6], 'Outcome': [0], 'Type': 'Control'}],\n",
       " [{'Site': [5], 'Outcome': [0], 'Type': 'Control'}],\n",
       " [{'Site': [4, 5], 'Outcome': None, 'Type': 'Bernoulli'}],\n",
       " [{'Site': [5, 6], 'Outcome': None, 'Type': 'Bernoulli'}],\n",
       " [{'Site': [6, 7], 'Outcome': None, 'Type': 'Bernoulli'}],\n",
       " [{'Site': [7, 8], 'Outcome': None, 'Type': 'Bernoulli'}],\n",
       " [{'Site': [8, 1], 'Outcome': None, 'Type': 'Bernoulli'}],\n",
       " [{'Site': [1, 2], 'Outcome': None, 'Type': 'Bernoulli'}],\n",
       " [{'Site': [2], 'Outcome': [0], 'Type': 'Control'}],\n",
       " [{'Site': [1], 'Outcome': [0], 'Type': 'Control'}],\n",
       " [{'Site': [8], 'Outcome': [1], 'Type': 'Control'}],\n",
       " [{'Site': [7], 'Outcome': [1], 'Type': 'Control'}],\n",
       " [{'Site': [6, 7], 'Outcome': None, 'Type': 'Bernoulli'}],\n",
       " [{'Site': [7], 'Outcome': [0], 'Type': 'Control'}],\n",
       " [{'Site': [6], 'Outcome': [1], 'Type': 'Control'}],\n",
       " [{'Site': [5, 6], 'Outcome': None, 'Type': 'Bernoulli'}],\n",
       " [{'Site': [6], 'Outcome': [0], 'Type': 'Control'}],\n",
       " [{'Site': [5, 6], 'Outcome': None, 'Type': 'Bernoulli'}],\n",
       " [{'Site': [6, 7], 'Outcome': None, 'Type': 'Bernoulli'}],\n",
       " [{'Site': [7], 'Outcome': [1], 'Type': 'Control'}],\n",
       " [{'Site': [6], 'Outcome': [0], 'Type': 'Control'}],\n",
       " [{'Site': [5], 'Outcome': [1], 'Type': 'Control'}],\n",
       " [{'Site': [4], 'Outcome': [1], 'Type': 'Control'}],\n",
       " [{'Site': [3, 4], 'Outcome': None, 'Type': 'Bernoulli'}],\n",
       " [{'Site': [4, 5], 'Outcome': None, 'Type': 'Bernoulli'}],\n",
       " [{'Site': [5, 6], 'Outcome': None, 'Type': 'Bernoulli'}],\n",
       " [{'Site': [6, 7], 'Outcome': None, 'Type': 'Bernoulli'}],\n",
       " [{'Site': [7, 8], 'Outcome': None, 'Type': 'Bernoulli'}],\n",
       " [{'Site': [8, 1], 'Outcome': None, 'Type': 'Bernoulli'}],\n",
       " [{'Site': [1, 2], 'Outcome': None, 'Type': 'Bernoulli'}],\n",
       " [{'Site': [2, 3], 'Outcome': None, 'Type': 'Bernoulli'}],\n",
       " [{'Site': [3, 4], 'Outcome': None, 'Type': 'Bernoulli'}],\n",
       " [{'Site': [4, 5], 'Outcome': None, 'Type': 'Bernoulli'}],\n",
       " [{'Site': [5, 6], 'Outcome': None, 'Type': 'Bernoulli'}],\n",
       " [{'Site': [6, 7], 'Outcome': None, 'Type': 'Bernoulli'}],\n",
       " [{'Site': [7, 8], 'Outcome': None, 'Type': 'Bernoulli'}],\n",
       " [{'Site': [8], 'Outcome': [1], 'Type': 'Control'}],\n",
       " [{'Site': [7, 8], 'Outcome': None, 'Type': 'Bernoulli'}],\n",
       " [{'Site': [8], 'Outcome': [1], 'Type': 'Control'}],\n",
       " [{'Site': [7], 'Outcome': [0], 'Type': 'Control'}],\n",
       " [{'Site': [6], 'Outcome': [1], 'Type': 'Control'}],\n",
       " [{'Site': [5], 'Outcome': [0], 'Type': 'Control'}],\n",
       " [{'Site': [4, 5], 'Outcome': None, 'Type': 'Bernoulli'}],\n",
       " [{'Site': [5, 6], 'Outcome': None, 'Type': 'Bernoulli'}],\n",
       " [{'Site': [6], 'Outcome': [0], 'Type': 'Control'}],\n",
       " [{'Site': [5, 6], 'Outcome': None, 'Type': 'Bernoulli'}],\n",
       " [{'Site': [6, 7], 'Outcome': None, 'Type': 'Bernoulli'}],\n",
       " [{'Site': [7], 'Outcome': [1], 'Type': 'Control'}],\n",
       " [{'Site': [6], 'Outcome': [0], 'Type': 'Control'}],\n",
       " [{'Site': [5, 6], 'Outcome': None, 'Type': 'Bernoulli'}],\n",
       " [{'Site': [6], 'Outcome': [0], 'Type': 'Control'}],\n",
       " [{'Site': [5, 6], 'Outcome': None, 'Type': 'Bernoulli'}],\n",
       " [{'Site': [6, 7], 'Outcome': None, 'Type': 'Bernoulli'}],\n",
       " [{'Site': [7, 8], 'Outcome': None, 'Type': 'Bernoulli'}],\n",
       " [{'Site': [8, 1], 'Outcome': None, 'Type': 'Bernoulli'}],\n",
       " [{'Site': [1, 2], 'Outcome': None, 'Type': 'Bernoulli'}],\n",
       " [{'Site': [2], 'Outcome': [0], 'Type': 'Control'}],\n",
       " [{'Site': [1, 2], 'Outcome': None, 'Type': 'Bernoulli'}],\n",
       " [{'Site': [2], 'Outcome': [0], 'Type': 'Control'}],\n",
       " [{'Site': [1, 2], 'Outcome': None, 'Type': 'Bernoulli'}],\n",
       " [{'Site': [2], 'Outcome': [0], 'Type': 'Control'}],\n",
       " [{'Site': [1], 'Outcome': [0], 'Type': 'Control'}],\n",
       " [{'Site': [8], 'Outcome': [1], 'Type': 'Control'}],\n",
       " [{'Site': [7, 8], 'Outcome': None, 'Type': 'Bernoulli'}],\n",
       " [{'Site': [8, 1], 'Outcome': None, 'Type': 'Bernoulli'}],\n",
       " [{'Site': [1, 2], 'Outcome': None, 'Type': 'Bernoulli'}],\n",
       " [{'Site': [2], 'Outcome': [1], 'Type': 'Control'}],\n",
       " [{'Site': [1], 'Outcome': [1], 'Type': 'Control'}],\n",
       " [{'Site': [8, 1], 'Outcome': None, 'Type': 'Bernoulli'}],\n",
       " [{'Site': [1], 'Outcome': [1], 'Type': 'Control'}],\n",
       " [{'Site': [8, 1], 'Outcome': None, 'Type': 'Bernoulli'}],\n",
       " [{'Site': [1], 'Outcome': [0], 'Type': 'Control'}],\n",
       " [{'Site': [8], 'Outcome': [1], 'Type': 'Control'}],\n",
       " [{'Site': [7], 'Outcome': [1], 'Type': 'Control'}],\n",
       " [{'Site': [6, 7], 'Outcome': None, 'Type': 'Bernoulli'}],\n",
       " [{'Site': [7], 'Outcome': [0], 'Type': 'Control'}],\n",
       " [{'Site': [6, 7], 'Outcome': None, 'Type': 'Bernoulli'}],\n",
       " [{'Site': [7, 8], 'Outcome': None, 'Type': 'Bernoulli'}],\n",
       " [{'Site': [8], 'Outcome': [0], 'Type': 'Control'}],\n",
       " [{'Site': [7, 8], 'Outcome': None, 'Type': 'Bernoulli'}],\n",
       " [{'Site': [8, 1], 'Outcome': None, 'Type': 'Bernoulli'}],\n",
       " [{'Site': [1], 'Outcome': [1], 'Type': 'Control'}],\n",
       " [{'Site': [8, 1], 'Outcome': None, 'Type': 'Bernoulli'}],\n",
       " [{'Site': [1], 'Outcome': [1], 'Type': 'Control'}],\n",
       " [{'Site': [8], 'Outcome': [1], 'Type': 'Control'}],\n",
       " [{'Site': [7], 'Outcome': [0], 'Type': 'Control'}],\n",
       " [{'Site': [6], 'Outcome': [0], 'Type': 'Control'}],\n",
       " [{'Site': [5, 6], 'Outcome': None, 'Type': 'Bernoulli'}],\n",
       " [{'Site': [6, 7], 'Outcome': None, 'Type': 'Bernoulli'}],\n",
       " [{'Site': [7, 8], 'Outcome': None, 'Type': 'Bernoulli'}],\n",
       " [{'Site': [8, 1], 'Outcome': None, 'Type': 'Bernoulli'}],\n",
       " [{'Site': [1, 2], 'Outcome': None, 'Type': 'Bernoulli'}],\n",
       " [{'Site': [2, 3], 'Outcome': None, 'Type': 'Bernoulli'}],\n",
       " [{'Site': [3], 'Outcome': [0], 'Type': 'Control'}],\n",
       " [{'Site': [2, 3], 'Outcome': None, 'Type': 'Bernoulli'}],\n",
       " [{'Site': [3, 4], 'Outcome': None, 'Type': 'Bernoulli'}],\n",
       " [{'Site': [4, 5], 'Outcome': None, 'Type': 'Bernoulli'}],\n",
       " [{'Site': [5, 6], 'Outcome': None, 'Type': 'Bernoulli'}],\n",
       " [{'Site': [6], 'Outcome': [1], 'Type': 'Control'}],\n",
       " [{'Site': [5, 6], 'Outcome': None, 'Type': 'Bernoulli'}],\n",
       " [{'Site': [6], 'Outcome': [0], 'Type': 'Control'}],\n",
       " [{'Site': [5, 6], 'Outcome': None, 'Type': 'Bernoulli'}],\n",
       " [{'Site': [6, 7], 'Outcome': None, 'Type': 'Bernoulli'}],\n",
       " [{'Site': [7], 'Outcome': [1], 'Type': 'Control'}],\n",
       " [{'Site': [6, 7], 'Outcome': None, 'Type': 'Bernoulli'}],\n",
       " [{'Site': [7, 8], 'Outcome': None, 'Type': 'Bernoulli'}],\n",
       " [{'Site': [8, 1], 'Outcome': None, 'Type': 'Bernoulli'}],\n",
       " [{'Site': [1], 'Outcome': [0], 'Type': 'Control'}],\n",
       " [{'Site': [8, 1], 'Outcome': None, 'Type': 'Bernoulli'}],\n",
       " [{'Site': [1], 'Outcome': [0], 'Type': 'Control'}],\n",
       " [{'Site': [8, 1], 'Outcome': None, 'Type': 'Bernoulli'}],\n",
       " [{'Site': [1], 'Outcome': [0], 'Type': 'Control'}],\n",
       " [{'Site': [8, 1], 'Outcome': None, 'Type': 'Bernoulli'}],\n",
       " [{'Site': [1, 2], 'Outcome': None, 'Type': 'Bernoulli'}],\n",
       " [{'Site': [2, 3], 'Outcome': None, 'Type': 'Bernoulli'}],\n",
       " [{'Site': [3], 'Outcome': [1], 'Type': 'Control'}],\n",
       " [{'Site': [2, 3], 'Outcome': None, 'Type': 'Bernoulli'}],\n",
       " [{'Site': [3], 'Outcome': [0], 'Type': 'Control'}],\n",
       " [{'Site': [2], 'Outcome': [1], 'Type': 'Control'}],\n",
       " [{'Site': [1, 2], 'Outcome': None, 'Type': 'Bernoulli'}],\n",
       " [{'Site': [2], 'Outcome': [1], 'Type': 'Control'}],\n",
       " [{'Site': [1], 'Outcome': [1], 'Type': 'Control'}]]"
      ]
     },
     "execution_count": 20,
     "metadata": {},
     "output_type": "execute_result"
    }
   ],
   "source": [
    "d1['op_history']"
   ]
  },
  {
   "cell_type": "code",
   "execution_count": 43,
   "metadata": {},
   "outputs": [
    {
     "data": {
      "text/plain": [
       "[{'Site': [8, 1], 'Outcome': None, 'Type': 'Bernoulli'}]"
      ]
     },
     "execution_count": 43,
     "metadata": {},
     "output_type": "execute_result"
    }
   ],
   "source": [
    "d2['op_history'][0]"
   ]
  },
  {
   "cell_type": "code",
   "execution_count": 46,
   "metadata": {},
   "outputs": [
    {
     "data": {
      "text/plain": [
       "True"
      ]
     },
     "execution_count": 46,
     "metadata": {},
     "output_type": "execute_result"
    }
   ],
   "source": [
    "all([x[0]['Site'] == y[0]['Site'] for x,y in zip(d1['op_history'],d2['op_history'])])"
   ]
  },
  {
   "cell_type": "code",
   "execution_count": 54,
   "metadata": {},
   "outputs": [
    {
     "data": {
      "text/plain": [
       "[(None, None),\n",
       " (None, None),\n",
       " ([1], [1]),\n",
       " (None, None),\n",
       " (None, None),\n",
       " (None, None),\n",
       " ([1], [0]),\n",
       " (None, None),\n",
       " (None, None),\n",
       " (None, None),\n",
       " ([0], [0]),\n",
       " (None, None),\n",
       " (None, None),\n",
       " (None, None),\n",
       " (None, None),\n",
       " (None, None),\n",
       " (None, None),\n",
       " ([0], [0]),\n",
       " ([1], [1]),\n",
       " (None, None),\n",
       " (None, None),\n",
       " (None, None),\n",
       " ([0], [0]),\n",
       " ([0], [1]),\n",
       " (None, None),\n",
       " (None, None),\n",
       " (None, None),\n",
       " (None, None),\n",
       " (None, None),\n",
       " (None, None),\n",
       " (None, None),\n",
       " ([0], [1]),\n",
       " (None, None),\n",
       " (None, None),\n",
       " ([0], [0]),\n",
       " ([1], [1]),\n",
       " (None, None),\n",
       " (None, None),\n",
       " ([1], [1]),\n",
       " (None, None),\n",
       " (None, None),\n",
       " (None, None),\n",
       " ([0], [0]),\n",
       " ([0], [0]),\n",
       " ([1], [1]),\n",
       " (None, None),\n",
       " ([0], [1]),\n",
       " (None, None),\n",
       " ([1], [0]),\n",
       " ([0], [0]),\n",
       " (None, None),\n",
       " ([0], [0]),\n",
       " ([1], [0]),\n",
       " ([1], [1]),\n",
       " (None, None),\n",
       " (None, None),\n",
       " (None, None),\n",
       " (None, None),\n",
       " (None, None),\n",
       " (None, None),\n",
       " (None, None),\n",
       " (None, None),\n",
       " (None, None),\n",
       " (None, None),\n",
       " ([1], [0]),\n",
       " ([0], [1]),\n",
       " ([0], [1]),\n",
       " ([1], [0]),\n",
       " ([0], [1]),\n",
       " (None, None),\n",
       " (None, None),\n",
       " (None, None),\n",
       " (None, None),\n",
       " (None, None),\n",
       " (None, None),\n",
       " (None, None),\n",
       " (None, None),\n",
       " ([0], [1]),\n",
       " (None, None),\n",
       " (None, None),\n",
       " ([0], [0]),\n",
       " ([0], [1]),\n",
       " (None, None),\n",
       " ([1], [0]),\n",
       " (None, None),\n",
       " (None, None),\n",
       " (None, None),\n",
       " (None, None),\n",
       " (None, None),\n",
       " (None, None),\n",
       " (None, None),\n",
       " (None, None),\n",
       " ([0], [1]),\n",
       " (None, None),\n",
       " ([1], [1]),\n",
       " ([1], [0]),\n",
       " ([0], [0]),\n",
       " (None, None),\n",
       " ([1], [1]),\n",
       " (None, None),\n",
       " ([0], [0]),\n",
       " (None, None),\n",
       " (None, None),\n",
       " ([1], [0]),\n",
       " (None, None),\n",
       " (None, None),\n",
       " (None, None),\n",
       " (None, None),\n",
       " ([1], [1]),\n",
       " ([0], [0]),\n",
       " (None, None),\n",
       " ([0], [0]),\n",
       " (None, None),\n",
       " (None, None),\n",
       " ([1], [1]),\n",
       " (None, None),\n",
       " (None, None),\n",
       " ([1], [0]),\n",
       " (None, None),\n",
       " ([1], [1]),\n",
       " (None, None),\n",
       " (None, None),\n",
       " (None, None),\n",
       " ([0], [1]),\n",
       " (None, None),\n",
       " (None, None),\n",
       " (None, None),\n",
       " (None, None),\n",
       " (None, None),\n",
       " (None, None),\n",
       " (None, None),\n",
       " (None, None),\n",
       " (None, None),\n",
       " (None, None),\n",
       " (None, None),\n",
       " ([0], [1]),\n",
       " (None, None),\n",
       " ([0], [0]),\n",
       " (None, None),\n",
       " (None, None),\n",
       " ([1], [1]),\n",
       " (None, None),\n",
       " ([0], [1]),\n",
       " ([1], [1]),\n",
       " (None, None),\n",
       " ([0], [0]),\n",
       " (None, None),\n",
       " ([0], [1]),\n",
       " (None, None),\n",
       " ([0], [0]),\n",
       " (None, None),\n",
       " (None, None),\n",
       " (None, None),\n",
       " (None, None),\n",
       " (None, None),\n",
       " ([1], [0]),\n",
       " (None, None),\n",
       " ([1], [1]),\n",
       " (None, None),\n",
       " ([1], [1]),\n",
       " (None, None),\n",
       " (None, None),\n",
       " ([1], [0]),\n",
       " ([1], [0]),\n",
       " (None, None),\n",
       " (None, None),\n",
       " (None, None),\n",
       " (None, None),\n",
       " (None, None),\n",
       " (None, None),\n",
       " (None, None),\n",
       " ([1], [0]),\n",
       " ([1], [0]),\n",
       " ([1], [1]),\n",
       " ([1], [1]),\n",
       " (None, None),\n",
       " ([0], [1]),\n",
       " (None, None),\n",
       " (None, None),\n",
       " ([0], [1]),\n",
       " ([1], [1]),\n",
       " (None, None),\n",
       " (None, None),\n",
       " (None, None),\n",
       " ([1], [0]),\n",
       " ([0], [1]),\n",
       " (None, None),\n",
       " (None, None),\n",
       " ([1], [0]),\n",
       " ([1], [0]),\n",
       " (None, None),\n",
       " (None, None),\n",
       " (None, None),\n",
       " (None, None),\n",
       " ([1], [1]),\n",
       " (None, None),\n",
       " ([1], [1]),\n",
       " ([0], [0]),\n",
       " (None, None),\n",
       " ([1], [0])]"
      ]
     },
     "execution_count": 54,
     "metadata": {},
     "output_type": "execute_result"
    }
   ],
   "source": [
    "[(x[0]['Outcome'] , y[0]['Outcome']) for x,y in zip(d1['op_history'],d2['op_history'])]"
   ]
  },
  {
   "cell_type": "code",
   "execution_count": 49,
   "metadata": {},
   "outputs": [
    {
     "data": {
      "text/plain": [
       "[]"
      ]
     },
     "execution_count": 49,
     "metadata": {},
     "output_type": "execute_result"
    }
   ],
   "source": [
    "[(x[0] , y[0]) for x,y in zip(d1['op_history'],d2['op_history']) if x[0] != y[0]]"
   ]
  },
  {
   "cell_type": "code",
   "execution_count": null,
   "metadata": {},
   "outputs": [],
   "source": []
  }
 ],
 "metadata": {
  "kernelspec": {
   "display_name": "base",
   "language": "python",
   "name": "python3"
  },
  "language_info": {
   "codemirror_mode": {
    "name": "ipython",
    "version": 3
   },
   "file_extension": ".py",
   "mimetype": "text/x-python",
   "name": "python",
   "nbconvert_exporter": "python",
   "pygments_lexer": "ipython3",
   "version": "3.10.9"
  }
 },
 "nbformat": 4,
 "nbformat_minor": 2
}
