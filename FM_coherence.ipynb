{
 "cells": [
  {
   "cell_type": "code",
   "execution_count": 1,
   "metadata": {},
   "outputs": [],
   "source": [
    "import pickle\n",
    "import numpy as np\n",
    "import matplotlib.pyplot as plt"
   ]
  },
  {
   "cell_type": "code",
   "execution_count": 2,
   "metadata": {},
   "outputs": [],
   "source": [
    "import sys\n",
    "dir_path='../control_transition'\n",
    "sys.path.append(dir_path)"
   ]
  },
  {
   "cell_type": "code",
   "execution_count": 3,
   "metadata": {},
   "outputs": [],
   "source": [
    "from plot_utils import *"
   ]
  },
  {
   "cell_type": "code",
   "execution_count": 4,
   "metadata": {},
   "outputs": [],
   "source": [
    "from importlib import reload\n",
    "\n",
    "\n",
    "import plot_utils\n",
    "reload(plot_utils)\n",
    "from plot_utils import *"
   ]
  },
  {
   "cell_type": "code",
   "execution_count": 5,
   "metadata": {},
   "outputs": [],
   "source": [
    "from diffusion_utils import *"
   ]
  },
  {
   "cell_type": "code",
   "execution_count": 6,
   "metadata": {},
   "outputs": [],
   "source": [
    "from importlib import reload\n",
    "\n",
    "\n",
    "import diffusion_utils\n",
    "reload(diffusion_utils)\n",
    "from diffusion_utils import *"
   ]
  },
  {
   "cell_type": "markdown",
   "metadata": {},
   "source": [
    "# API"
   ]
  },
  {
   "cell_type": "code",
   "execution_count": 6,
   "metadata": {},
   "outputs": [],
   "source": [
    "data=load_json('MPS_(0,1)_L8_pctrl0.500_pproj0.000_s1_coherence.json')"
   ]
  },
  {
   "cell_type": "code",
   "execution_count": 30,
   "metadata": {},
   "outputs": [
    {
     "data": {
      "text/plain": [
       "dict_keys(['args', 'coh_mat', 'fdw'])"
      ]
     },
     "execution_count": 30,
     "metadata": {},
     "output_type": "execute_result"
    }
   ],
   "source": [
    "data.keys()"
   ]
  },
  {
   "cell_type": "code",
   "execution_count": 34,
   "metadata": {},
   "outputs": [
    {
     "data": {
      "text/plain": [
       "(9,)"
      ]
     },
     "execution_count": 34,
     "metadata": {},
     "output_type": "execute_result"
    }
   ],
   "source": [
    "np.array(data['fdw']).shape"
   ]
  },
  {
   "cell_type": "code",
   "execution_count": 36,
   "metadata": {},
   "outputs": [
    {
     "data": {
      "text/plain": [
       "20.79331705538244"
      ]
     },
     "execution_count": 36,
     "metadata": {},
     "output_type": "execute_result"
    }
   ],
   "source": [
    "np.array(data['coh_mat']).sum()"
   ]
  },
  {
   "cell_type": "code",
   "execution_count": 33,
   "metadata": {},
   "outputs": [
    {
     "data": {
      "text/plain": [
       "(9, 9)"
      ]
     },
     "execution_count": 33,
     "metadata": {},
     "output_type": "execute_result"
    }
   ],
   "source": [
    "np.array(data['coh_mat']).shape"
   ]
  },
  {
   "cell_type": "code",
   "execution_count": 6,
   "metadata": {},
   "outputs": [],
   "source": [
    "L=60\n",
    "params_list=[\n",
    "# ({'nu':0,'de':1,},{'L':np.arange(10,31,10),'p_ctrl':[0.4,.5,0.59],'p_proj':np.linspace(0.0,0.0,1),'s':np.arange(0,20)}),\n",
    "# ({'nu':0,'de':1,},{'L':np.arange(10,31,10),'p_ctrl':[.5,0.4,0.59],'p_proj':np.linspace(0.0,0.0,1),'s':np.arange(0,2000)}),\n",
    "# ({'nu':0,'de':1,},{'s':np.arange(0,2000),'L':[L],'p_ctrl':[0.4,0.45,0.47,0.49,0.5,0.51,0.53,0.55,0.6],'p_proj':np.linspace(0.0,0.0,1),}),\n",
    "# ({'nu':0,'de':1,},{'s':np.arange(0,2000),'L':[L],'p_ctrl':[0.4,0.45,0.47,0.49,0.5,0.51,0.53,0.55,0.6],'p_proj':np.linspace(0.0,0.0,1),}),\n",
    "\n",
    "# ({'nu':0,'de':1},{'s':np.arange(0,2000),'L':[L],'p_ctrl':[0.4,0.45,0.47,0.49,0.5,0.51,0.53,0.55,0.6],'p_proj':np.linspace(0.0,0.0,1),'maxbond':[30,60,120]}),\n",
    "# ({'nu':0,'de':1},{'s':np.arange(0,2000),'L':[L],'p_ctrl':[0.5],'p_proj':np.linspace(0.0,0.0,1),'maxbond':[30,60,120,200],'t':[2]}),\n",
    "\n",
    "# ({'nu':0,'de':1},{'s':np.arange(0,2000),'L':[L],'p_ctrl':[0.5,0.51,0.53,0.55,0.6],'p_proj':np.linspace(0.0,0.0,1),'maxbond':[120,400,1200,4000],'t':[2]}),\n",
    "# 0.4,0.45,\n",
    "# \n",
    "# ({'nu':0,'de':1},{'s':np.arange(00000,2000),'L':[L],'p_ctrl':[0.45,0.47,0.49,0.5,0.51,0.53,0.55,0.6,0.65,0.7,0.8,0.9],'p_proj':np.linspace(0.0,0.0,1),'maxbond':[30,60,120,400,1200,4000],'t':[2]}),\n",
    "({'nu':0,'de':1},{'s':np.arange(00000,2000),'L':[L],'p_ctrl':[0.5,0.51,0.53,0.55,0.6],'p_proj':np.linspace(0.0,0.0,1),'maxbond':[4000],'t':[2]}),\n",
    "# 0.65,0.7,0.8,0.9\n",
    "# 30,60,120,400,1200,4000\n",
    "# ({'nu':0,'de':1,},{'p_ctrl':np.linspace(0.4,0.6,21),'p_proj':np.linspace(0.0,0.0,1),'s':np.arange(2000),'L':np.arange(20,61,10)}),\n",
    "# ({'nu':0,'de':1,},{'p_ctrl':[0.4,0.5,0.59],'p_proj':np.linspace(0.0,0.0,1),'s':np.arange(10000),'L':np.arange(20,61,10)}),\n",
    "]"
   ]
  },
  {
   "cell_type": "code",
   "execution_count": 7,
   "metadata": {},
   "outputs": [
    {
     "name": "stdout",
     "output_type": "stream",
     "text": [
      "rm: cannot remove 'params_CT_MPS_0_coherence_L60.txt': No such file or directory\n"
     ]
    }
   ],
   "source": [
    "!rm params_CT_MPS_0_coherence_L60.txt"
   ]
  },
  {
   "cell_type": "code",
   "execution_count": 8,
   "metadata": {},
   "outputs": [
    {
     "name": "stderr",
     "output_type": "stream",
     "text": [
      "generate_params: 100%|██████████| 10000/10000 [00:00<00:00, 37383.62it/s]\n"
     ]
    }
   ],
   "source": [
    "for fixed_params,vary_params in params_list:\n",
    "    data_MPS_0_T_dict=generate_params(\n",
    "        fixed_params=fixed_params,\n",
    "        vary_params=vary_params,\n",
    "        # fn_template='MPS_({nu},{de})_L{L}_pctrl{p_ctrl:.3f}_pproj{p_proj:.3f}_mb{maxbond}_s{s}_coherence.json',\n",
    "        fn_template='MPS_({nu},{de})_L{L}_pctrl{p_ctrl:.3f}_pproj{p_proj:.3f}_mb{maxbond}_t{t:.1f}_s{s}_coherence.json',\n",
    "        # fn_dir_template=f'./MPS_0-1_coherence_x01_L{L}_maxbond60',\n",
    "        fn_dir_template=f'./MPS_0-1_coherence_x01_L{L}',\n",
    "        # fn_dir_template=f'./MPS_0-1_coherence_x01_L{L}_randinit',\n",
    "        # fn_dir_template=f'./MPS_0-1_coherence_x01_L{L}_dense',\n",
    "        # _maxbond30\n",
    "        input_params_template='{p_ctrl:.3f},{p_proj:.3f},{L},{maxbond},{t:.1f},{s}',\n",
    "        load_data=load_json,\n",
    "        filename=f'params_CT_MPS_0_coherence_L{L}.txt',\n",
    "        filelist=None,\n",
    "        load=False,\n",
    "        data_dict=None,\n",
    "    )"
   ]
  },
  {
   "cell_type": "code",
   "execution_count": 9,
   "metadata": {},
   "outputs": [],
   "source": [
    "with open(f'params_CT_MPS_0_coherence_L{L}.txt','r') as f:\n",
    "    # lines=f.readlines()\n",
    "    linewidth=1\n",
    "    count=0\n",
    "    total_string = []\n",
    "    string = ''\n",
    "    for line in f:\n",
    "        string = string + ',' + line.strip()\n",
    "        count+=1\n",
    "        if count>=linewidth:\n",
    "            count=0\n",
    "            total_string.append(string[1:])\n",
    "            string= ''\n",
    "\n",
    "with open(f'params_CT_MPS_0_coherence_L{L}.txt','w') as f:\n",
    "    f.write('\\n'.join(total_string))"
   ]
  },
  {
   "cell_type": "code",
   "execution_count": 145,
   "metadata": {},
   "outputs": [
    {
     "name": "stderr",
     "output_type": "stream",
     "text": [
      "generate_params: 100%|██████████| 144000/144000 [00:04<00:00, 35547.26it/s]\n"
     ]
    }
   ],
   "source": [
    "for fixed_params,vary_params in params_list:\n",
    "    data_MPS_0_T_dict=generate_params(\n",
    "        fixed_params=fixed_params,\n",
    "        vary_params=vary_params,\n",
    "        # fn_template='MPS_({nu},{de})_L{L}_pctrl{p_ctrl:.3f}_pproj{p_proj:.3f}_s{s}_coherence.json',\n",
    "        # fn_template='MPS_({nu},{de})_L{L}_pctrl{p_ctrl:.3f}_pproj{p_proj:.3f}_mb{maxbond}_s{s}_coherence.json',\n",
    "        fn_template='MPS_({nu},{de})_L{L}_pctrl{p_ctrl:.3f}_pproj{p_proj:.3f}_mb{maxbond}_t{t:.1f}_s{s}_coherence.json',\n",
    "        fn_dir_template='./',\n",
    "        input_params_template='',\n",
    "        load_data=load_zip_json,\n",
    "        filename=None,\n",
    "        filelist=None,\n",
    "        load=True,\n",
    "        data_dict={'fn':set()},\n",
    "        # data_dict_file='xj({nu},{de})_coherence.pickle', \n",
    "        # zip_fn='./MPS_0-1_coherence.zip'\n",
    "        # zip_fn=f'./MPS_0-1_coherence_x01_L{L}.zip'\n",
    "        # zip_fn=f'./MPS_0-1_coherence_x01_L{L}_maxbond30.zip'\n",
    "        # zip_fn=f'./MPS_0-1_coherence_x01_L{L}_bak.zip'\n",
    "        zip_fn=f'./MPS_0-1_coherence_x01_L{L}.zip'\n",
    "        # zip_fn=f'./MPS_0-1_coherence_x01_L{L}_randinit.zip'\n",
    "        # zip_fn=f'./MPS_0-1_coherence_x01_L{L}_dense.zip'\n",
    "    )\n",
    "# df_MPS_0_T=convert_pd(data_MPS_0_T_dict,names=['Metrics','p_ctrl','L','p_proj','maxbond','seed'])\n",
    "df_MPS_0_T=convert_pd(data_MPS_0_T_dict,names=['Metrics','t','p_ctrl','L','p_proj','maxbond','seed'])"
   ]
  },
  {
   "cell_type": "code",
   "execution_count": 146,
   "metadata": {},
   "outputs": [],
   "source": [
    "# L=30\n",
    "# maxbond=30\n",
    "t=2\n",
    "# coh_mean = {}\n",
    "# coh_meas_error = {}\n",
    "# coh_fluc_error = {}\n",
    "# abs_mps = {}\n",
    "# abs_mps_error={}\n",
    "# total_est_error={}\n",
    "# est_error={}\n",
    "# ranks={}\n",
    "\n",
    "# for p in params_list[0][1]['p_ctrl']:\n",
    "for p in df_MPS_0_T.index.get_level_values('p_ctrl').unique().sort_values():\n",
    "# for p in [0.5]:\n",
    "    # This filter out the largest bond dim\n",
    "    df_=df_MPS_0_T.xs('coh_mat',level='Metrics').xs(t,level='t').xs(p,level='p_ctrl').xs(L,level='L').xs(0.0,level='p_proj')\n",
    "    df_reset=df_.reset_index()\n",
    "    idx=df_reset.groupby('seed')['maxbond'].idxmax()\n",
    "    coh = df_reset.loc[idx]\n",
    "    mask = (coh['observations']<2**L)\n",
    "    abs_mps[L,p]=np.sqrt(np.stack(coh['observations'][mask])+1)\n",
    "\n",
    "    df_=df_MPS_0_T.xs('ranks',level='Metrics').xs(t,level='t').xs(p,level='p_ctrl').xs(L,level='L').xs(0.0,level='p_proj')\n",
    "    df_reset=df_.reset_index()\n",
    "    idx=df_reset.groupby('seed')['maxbond'].idxmax()\n",
    "    ranks[L,p] = df_reset.loc[idx]\n",
    "    ranks[L,p] = ranks[L,p][mask]\n",
    "\n",
    "\n",
    "    df_=df_MPS_0_T.xs('errors',level='Metrics').xs(t,level='t').xs(p,level='p_ctrl').xs(L,level='L').xs(0.0,level='p_proj')\n",
    "    df_reset=df_.reset_index()\n",
    "    idx=df_reset.groupby('seed')['maxbond'].idxmax()\n",
    "    abs_mps_error[L,p]=df_reset.loc[idx]\n",
    "    abs_mps_error[L,p] = abs_mps_error[L,p][mask]\n",
    "\n",
    "    est_error[L,p] =  2 * abs_mps[L,p] * np.hstack(abs_mps_error[L,p]['observations']) * 2**L\n",
    "\n",
    "    coh_meas_error[L,p] = np.sqrt(np.sum(est_error[L,p]**2))/(est_error[L,p].shape[0])\n",
    "    coh_mean[L,p]=coh['observations'][mask].mean()\n",
    "    # coh_mean[L,p]=coh['observations'][(coh['observations']>2**-20)].median()\n",
    "    coh_fluc_error[L,p]=coh['observations'][mask].std()/np.sqrt(coh.shape[0])\n",
    "    total_est_error[L,p]=(coh_meas_error[L,p]**2+coh_fluc_error[L,p]**2)**0.5\n",
    "    \n",
    "\n",
    "\n",
    "\n",
    "\n"
   ]
  },
  {
   "cell_type": "code",
   "execution_count": 147,
   "metadata": {},
   "outputs": [],
   "source": [
    "with open(f'coherence_MPS_err.pickle','wb') as f:\n",
    "    pickle.dump([coh_mean,coh_meas_error,coh_fluc_error, abs_mps, abs_mps_error, total_est_error, est_error, ranks],f)"
   ]
  },
  {
   "cell_type": "code",
   "execution_count": 71,
   "metadata": {},
   "outputs": [],
   "source": [
    "with open(f'coherence_MPS_err_median.pickle','wb') as f:\n",
    "    pickle.dump([coh_mean,coh_meas_error,coh_fluc_error, abs_mps, abs_mps_error, total_est_error, est_error, ranks],f)"
   ]
  },
  {
   "cell_type": "code",
   "execution_count": 77,
   "metadata": {},
   "outputs": [],
   "source": [
    "# L=30\n",
    "# maxbond=30\n",
    "t=2\n",
    "coh_all = {}\n",
    "coh_mean = {}\n",
    "coh_meas_error = {}\n",
    "coh_fluc_error = {}\n",
    "abs_mps = {}\n",
    "abs_mps_error={}\n",
    "total_est_error={}\n",
    "est_error={}\n",
    "ranks={}\n",
    "for p in params_list[0][1]['p_ctrl']:\n",
    "    # This filter out the largest bond dim\n",
    "    df_=df_MPS_0_T.xs('coh_mat',level='Metrics').xs(t,level='t').xs(p,level='p_ctrl').xs(L,level='L').xs(0.0,level='p_proj')\n",
    "    df_reset=df_.reset_index()\n",
    "    idx=df_reset.groupby('seed')['maxbond'].idxmax()\n",
    "    coh_all[L,p] = df_reset.loc[idx]\n",
    "\n",
    "    # abs_mps[L,p]=np.sqrt(np.stack(coh['observations'])+1)\n",
    "\n",
    "    # df_=df_MPS_0_T.xs('ranks',level='Metrics').xs(t,level='t').xs(p,level='p_ctrl').xs(L,level='L').xs(0.0,level='p_proj')\n",
    "    # df_reset=df_.reset_index()\n",
    "    # idx=df_reset.groupby('seed')['maxbond'].idxmax()\n",
    "    # ranks[L,p] = df_reset.loc[idx]\n",
    "\n",
    "\n",
    "    # df_=df_MPS_0_T.xs('errors',level='Metrics').xs(t,level='t').xs(p,level='p_ctrl').xs(L,level='L').xs(0.0,level='p_proj')\n",
    "    # df_reset=df_.reset_index()\n",
    "    # idx=df_reset.groupby('seed')['maxbond'].idxmax()\n",
    "    # abs_mps_error[L,p]=df_reset.loc[idx]\n",
    "\n",
    "    # est_error[L,p] =  2 * abs_mps[L,p] * np.hstack(abs_mps_error[L,p]['observations']) * 2**L\n",
    "\n",
    "    # total_est_error[L,p] = np.sqrt(np.sum(est_error[L,p]**2))/(est_error[L,p].shape[0])\n",
    "    # coh_meas_error[L,p]=total_est_error[L,p]\n",
    "    # coh_mean[L,p]=coh['observations'].mean()\n",
    "    # coh_fluc_error[L,p]=coh['observations'].std()/np.sqrt(coh.shape[0])\n",
    "\n",
    "\n"
   ]
  },
  {
   "cell_type": "code",
   "execution_count": 78,
   "metadata": {},
   "outputs": [
    {
     "data": {
      "text/plain": [
       "dict_keys([(50, 0.45), (50, 0.47), (50, 0.49), (50, 0.5), (50, 0.51), (50, 0.53), (50, 0.55), (50, 0.6), (50, 0.65), (50, 0.7), (50, 0.8), (50, 0.9)])"
      ]
     },
     "execution_count": 78,
     "metadata": {},
     "output_type": "execute_result"
    }
   ],
   "source": [
    "coh_all.keys()"
   ]
  },
  {
   "cell_type": "code",
   "execution_count": 68,
   "metadata": {},
   "outputs": [],
   "source": [
    "with open(f'coherence_MPS_all.pickle','wb') as f:\n",
    "    pickle.dump(coh_all,f)"
   ]
  },
  {
   "cell_type": "code",
   "execution_count": 89,
   "metadata": {},
   "outputs": [
    {
     "name": "stderr",
     "output_type": "stream",
     "text": [
      "/tmp/ipykernel_2912072/1148438780.py:1: RuntimeWarning: invalid value encountered in log2\n",
      "  plt.hist(np.log2(np.hstack(coh_all[50,0.53]['observations'])+2**-20),bins=20)\n"
     ]
    },
    {
     "data": {
      "text/plain": [
       "<matplotlib.lines.Line2D at 0x7f01a47f8970>"
      ]
     },
     "execution_count": 89,
     "metadata": {},
     "output_type": "execute_result"
    },
    {
     "data": {
      "image/png": "[encoded data removed]",
      "text/plain": [
       "<Figure size 640x480 with 1 Axes>"
      ]
     },
     "metadata": {},
     "output_type": "display_data"
    }
   ],
   "source": [
    "plt.hist(np.log2(np.hstack(coh_all[50,0.53]['observations'])+2**-20),bins=20)\n",
    "# plt.yscale('log')\n",
    "plt.axvline(x=50,ls='dashed')"
   ]
  },
  {
   "cell_type": "code",
   "execution_count": 67,
   "metadata": {},
   "outputs": [
    {
     "data": {
      "image/png": "[encoded data removed]",
      "text/plain": [
       "<Figure size 640x480 with 1 Axes>"
      ]
     },
     "metadata": {},
     "output_type": "display_data"
    }
   ],
   "source": [
    "plt.hist(coh, bins=20)\n",
    "plt.yscale('log')"
   ]
  },
  {
   "cell_type": "code",
   "execution_count": 33,
   "metadata": {},
   "outputs": [
    {
     "name": "stderr",
     "output_type": "stream",
     "text": [
      "/tmp/ipykernel_624971/2489594112.py:1: RuntimeWarning: divide by zero encountered in log2\n",
      "  np.log2(np.hstack(coh['observations']))\n",
      "/tmp/ipykernel_624971/2489594112.py:1: RuntimeWarning: invalid value encountered in log2\n",
      "  np.log2(np.hstack(coh['observations']))\n"
     ]
    },
    {
     "data": {
      "text/plain": [
       "array([29.43290548, 16.40496976, 35.72315067, ..., 44.0891843 ,\n",
       "       30.00753622, 29.51418019])"
      ]
     },
     "execution_count": 33,
     "metadata": {},
     "output_type": "execute_result"
    }
   ],
   "source": [
    "np.log2(np.hstack(coh['observations']))"
   ]
  },
  {
   "cell_type": "code",
   "execution_count": 39,
   "metadata": {},
   "outputs": [
    {
     "name": "stderr",
     "output_type": "stream",
     "text": [
      "/tmp/ipykernel_624971/3036290823.py:1: RuntimeWarning: divide by zero encountered in log2\n",
      "  np.isnan(np.log2(np.hstack(coh['observations']))).sum()\n",
      "/tmp/ipykernel_624971/3036290823.py:1: RuntimeWarning: invalid value encountered in log2\n",
      "  np.isnan(np.log2(np.hstack(coh['observations']))).sum()\n"
     ]
    },
    {
     "data": {
      "text/plain": [
       "2"
      ]
     },
     "execution_count": 39,
     "metadata": {},
     "output_type": "execute_result"
    }
   ],
   "source": [
    "np.isnan(np.log2(np.hstack(coh['observations']))).sum()"
   ]
  },
  {
   "cell_type": "code",
   "execution_count": 48,
   "metadata": {},
   "outputs": [
    {
     "data": {
      "text/plain": [
       "array([-2.54966611e-01, -6.66133815e-16,  0.00000000e+00,  0.00000000e+00,\n",
       "        2.66453526e-15,  2.66453526e-15,  4.88498131e-15,  5.32907052e-15,\n",
       "        5.32907052e-15,  6.21724894e-15])"
      ]
     },
     "execution_count": 48,
     "metadata": {},
     "output_type": "execute_result"
    }
   ],
   "source": [
    "(np.sort(np.hstack(coh['observations'])))[:10]"
   ]
  },
  {
   "cell_type": "code",
   "execution_count": null,
   "metadata": {},
   "outputs": [],
   "source": [
    "with open(f'coherence_MPS_err_log.pickle','wb') as f:\n",
    "    pickle.dump([coh_mean,coh_meas_error,coh_fluc_error, abs_mps, abs_mps_error, total_est_error, est_error],f)"
   ]
  },
  {
   "cell_type": "code",
   "execution_count": 530,
   "metadata": {},
   "outputs": [
    {
     "data": {
      "text/plain": [
       "{(40, 0.45): 7799854675668768.0,\n",
       " (40, 0.47): 8558588922154.754,\n",
       " (40, 0.49): 5623750830.803825,\n",
       " (40, 0.5): 2591368861.228985,\n",
       " (40, 0.51): 1108819454.1940987,\n",
       " (40, 0.53): 73180642.4801112,\n",
       " (40, 0.55): 440538.31846592407,\n",
       " (40, 0.6): 375.7841842116754,\n",
       " (40, 0.65): 9.881737841690684,\n",
       " (40, 0.7): 2.972591420974641,\n",
       " (30, 0.45): 41041017.61745849,\n",
       " (30, 0.47): 25931445.14368558,\n",
       " (30, 0.49): 13043680.252693508,\n",
       " (30, 0.5): 7673921.752075662,\n",
       " (30, 0.51): 4365795.636063589,\n",
       " (30, 0.53): 906824.8497892696,\n",
       " (30, 0.55): 132534.2208105993,\n",
       " (30, 0.6): 952.7169548406481,\n",
       " (30, 0.65): 10.72254152075552,\n",
       " (30, 0.7): 2.9873211795637786,\n",
       " (20, 0.45): 83708.20753931966,\n",
       " (20, 0.47): 59703.002546854,\n",
       " (20, 0.49): 37239.07015858924,\n",
       " (20, 0.5): 24673.406088598076,\n",
       " (20, 0.51): 17963.433937293812,\n",
       " (20, 0.53): 7895.439412227561,\n",
       " (20, 0.55): 3020.90523406787,\n",
       " (20, 0.6): 109.45132588718948,\n",
       " (20, 0.65): 12.344107009602878,\n",
       " (20, 0.7): 3.1789052704010503,\n",
       " (10, 0.45): 190.88037952340872,\n",
       " (10, 0.47): 153.93486271123834,\n",
       " (10, 0.49): 118.6567170327234,\n",
       " (10, 0.5): 105.25420710502871,\n",
       " (10, 0.51): 90.97840931420417,\n",
       " (10, 0.53): 73.56894415602228,\n",
       " (10, 0.55): 50.50258190503327,\n",
       " (10, 0.6): 17.173273687302657,\n",
       " (10, 0.65): 6.689076733612387,\n",
       " (10, 0.7): 3.012933971597042,\n",
       " (10, 0.8): 1.0445285621023412,\n",
       " (10, 0.9): 0.36366219986825465,\n",
       " (20, 0.8): 0.9947873834101832,\n",
       " (20, 0.9): 0.3025805893400212,\n",
       " (30, 0.8): 1.0052901101034282,\n",
       " (30, 0.9): 0.3499900833450452,\n",
       " (40, 0.8): 1.002849713038104,\n",
       " (40, 0.9): 0.3244124656604442,\n",
       " (50, 0.45): 439266700556.98083,\n",
       " (50, 0.47): 782963846497.9358,\n",
       " (50, 0.49): 481902213869.1163,\n",
       " (50, 0.5): 80202750628.69177,\n",
       " (50, 0.51): 25110140841.792095,\n",
       " (50, 0.53): 956125922.7558285,\n",
       " (50, 0.55): 3285067.6076532616,\n",
       " (50, 0.6): 2011.6324784429016,\n",
       " (50, 0.65): 7.535451857326605,\n",
       " (50, 0.7): 2.8508771466156566,\n",
       " (50, 0.8): 0.9238516313443695,\n",
       " (50, 0.9): 0.3272454642863116}"
      ]
     },
     "execution_count": 530,
     "metadata": {},
     "output_type": "execute_result"
    }
   ],
   "source": [
    "coh_mean"
   ]
  },
  {
   "cell_type": "code",
   "execution_count": 420,
   "metadata": {},
   "outputs": [
    {
     "data": {
      "text/plain": [
       "{(40, 0.45): 27647195534999.832,\n",
       " (40, 0.47): 266325882989.74716,\n",
       " (40, 0.49): 4315713105.430905,\n",
       " (40, 0.5): 370081370.9583576,\n",
       " (40, 0.51): 160886145.75936192,\n",
       " (40, 0.53): 9584652.221416052,\n",
       " (40, 0.55): 417037.38479768985,\n",
       " (40, 0.6): 0.00032674337010980044,\n",
       " (40, 0.65): 2.668516004420717e-06,\n",
       " (40, 0.7): 5.649913655480522e-07,\n",
       " (30, 0.45): 10030999.96676761,\n",
       " (30, 0.47): 4056871.90715148,\n",
       " (30, 0.49): 1935877.1003823557,\n",
       " (30, 0.5): 216305.5026041443,\n",
       " (30, 0.51): 31720.807425540323,\n",
       " (30, 0.53): 7760.722609238925,\n",
       " (30, 0.55): 0.2049631277457603,\n",
       " (30, 0.6): 5.077625280683705e-07,\n",
       " (30, 0.65): 1.8474510589999556e-09,\n",
       " (30, 0.7): 1.4005214441685372e-09,\n",
       " (20, 0.45): 9635.119013369183,\n",
       " (20, 0.47): 5750.107087005484,\n",
       " (20, 0.49): 3289.178797542597,\n",
       " (20, 0.5): 1275.352248036478,\n",
       " (20, 0.51): 2092.284328429577,\n",
       " (20, 0.53): 999.4176768335384,\n",
       " (20, 0.55): 387.4932137998547,\n",
       " (20, 0.6): 43.02317039583636,\n",
       " (20, 0.65): 2.0053362126311844,\n",
       " (20, 0.7): 2.708223627110306e-13,\n",
       " (10, 0.45): 1.7080123864549825,\n",
       " (10, 0.47): 0.8434782920755703,\n",
       " (10, 0.49): 0.7535466787201436,\n",
       " (10, 0.5): 2.844620510627461e-14,\n",
       " (10, 0.51): 0.3635678654443385,\n",
       " (10, 0.53): 0.47152779649441073,\n",
       " (10, 0.55): 0.16257187885430213,\n",
       " (10, 0.6): 0.0308385243174069,\n",
       " (10, 0.65): 0.0015166358870287696,\n",
       " (10, 0.7): 1.0964394591512738e-15,\n",
       " (10, 0.8): 1.389186027796922e-16,\n",
       " (10, 0.9): 6.603157515465652e-17,\n",
       " (20, 0.8): 1.4522812628817892e-13,\n",
       " (20, 0.9): 2.6118063631097763e-14,\n",
       " (30, 0.8): 2.079267650982399e-10,\n",
       " (30, 0.9): 6.769459870179449e-11,\n",
       " (40, 0.8): 2.0834926283745484e-07,\n",
       " (40, 0.9): 1.2295385768658607e-07}"
      ]
     },
     "execution_count": 420,
     "metadata": {},
     "output_type": "execute_result"
    }
   ],
   "source": [
    "coh_meas_error"
   ]
  },
  {
   "cell_type": "code",
   "execution_count": 422,
   "metadata": {},
   "outputs": [
    {
     "data": {
      "text/plain": [
       "[<matplotlib.lines.Line2D at 0x7f62f1785de0>]"
      ]
     },
     "execution_count": 422,
     "metadata": {},
     "output_type": "execute_result"
    },
    {
     "data": {
      "image/png": "[encoded data removed]",
      "text/plain": [
       "<Figure size 640x480 with 1 Axes>"
      ]
     },
     "metadata": {},
     "output_type": "display_data"
    }
   ],
   "source": [
    "L_list_=[10,20,30,40]\n",
    "p_list = [0.47,0.49,0.5,0.51,0.53,0.55,.6,0.65,.7,.8,.9]\n",
    "# p_list = [0.5]\n",
    "# \n",
    "# ,0.6,0.65,0.7,0.8,0.9,\n",
    "color_list = plt.cm.Blues(np.linspace(.5,1,len(p_list)))\n",
    "fig,ax=plt.subplots()\n",
    "for idx,p in enumerate(p_list):\n",
    "# for p in [0.5,0.51,0.53]:\n",
    "# for p in [0.6,0.7,0.8,0.9]:\n",
    "    # ax.errorbar(L_list_,y=[coh_mean[L,p]*2**L for L in L_list_ ],yerr=[((coh_fluc_error[L,p]**2+coh_meas_error[L,p]**2))**(1/2)*2**L for L in L_list_ ],label=f'p={p:.2f}',capsize=3,color=color_list[idx])\n",
    "    ax.errorbar(L_list_,y=[coh_mean[L,p] for L in L_list_ ],yerr=[((coh_fluc_error[L,p]**2+coh_meas_error[L,p]**2))**(1/2) for L in L_list_ ],label=f'p={p:.2f}',capsize=3,color=color_list[idx])\n",
    "    # ax.plot(L_list_s,coh_s,'.',color=color_list[idx])\n",
    "\n",
    "ax.set_yscale('log')\n",
    "ax.legend()\n",
    "ax.set_xlabel('$L$')\n",
    "ax.set_ylabel('$\\mathfrak{C}$')\n",
    "\n",
    "# ax.set_ylabel('$2^{-L}\\mathfrak{C}$')\n",
    "# ax.set_xscale('log')\n",
    "\n",
    "# for idx,p in enumerate(p_list[:-1]):\n",
    "#     ax.plot(L_list_, 2**(slope_list[idx][0]*np.array(L_list_) + slope_list[idx][1]),'--')\n",
    "ax.plot(L_list_, 2**(slope_s[0]*np.array(L_list_) + slope_s[1]),'--',label='slope')"
   ]
  },
  {
   "cell_type": "code",
   "execution_count": 50,
   "metadata": {},
   "outputs": [],
   "source": [
    "# p=0.50\n",
    "slope_list = []\n",
    "for p in p_list[:-1]:\n",
    "    x_log = (L_list_)\n",
    "    y_log = np.log2([coh_mean[L,p]*2**L for L in L_list_ ])\n",
    "    slope_list.append(np.polyfit(x_log,y_log,1))\n",
    "# (L_list_,,yerr=[((coh_fluc_error[L,p]**2+coh_meas_error[L,p]**2))**(1/2)*2**L for L in L_list_ ],label=f'p={p:.2f}',capsize=3)"
   ]
  },
  {
   "cell_type": "code",
   "execution_count": 47,
   "metadata": {},
   "outputs": [],
   "source": [
    "x_s_log = L_list_s\n",
    "y_s_log = np.log2(coh_s)\n",
    "slope_s = np.polyfit(x_s_log,y_s_log,1)"
   ]
  },
  {
   "cell_type": "code",
   "execution_count": 70,
   "metadata": {},
   "outputs": [
    {
     "data": {
      "text/plain": [
       "<matplotlib.legend.Legend at 0x7fdee23937c0>"
      ]
     },
     "execution_count": 70,
     "metadata": {},
     "output_type": "execute_result"
    },
    {
     "data": {
      "image/png": "[encoded data removed]",
      "text/plain": [
       "<Figure size 640x480 with 1 Axes>"
      ]
     },
     "metadata": {},
     "output_type": "display_data"
    }
   ],
   "source": [
    "fig,ax=plt.subplots()\n",
    "ax.plot( p_list[:-1], [slope[0] for slope in slope_list],'.-',label='10-40')\n",
    "ax.plot(np.linspace(0,1,21)[:-1], slope_s[:,0],'.-',label='8-16')\n",
    "\n",
    "ax.set_xlabel(r'$p_{{ctrl}}$')\n",
    "ax.set_ylabel('Exponent in base 2')\n",
    "ax.axvline(x=0.5,ls='--')\n",
    "ax.legend()"
   ]
  },
  {
   "cell_type": "code",
   "execution_count": 40,
   "metadata": {},
   "outputs": [],
   "source": [
    "coh_s= np.array([36.482573354034685, 106.97462049912662,   302.321460409866,\n",
    "                860.6782858430988,  2575.185791066535])\n",
    "L_list_s = [8,10,12,14,16]                "
   ]
  },
  {
   "cell_type": "code",
   "execution_count": 45,
   "metadata": {},
   "outputs": [],
   "source": [
    "coh_s_1= np.array([20.554262038407614,  49.86262062475085, 106.37517253412322,\n",
    "               223.76756209960476, 505.45272931894397])"
   ]
  },
  {
   "cell_type": "code",
   "execution_count": 61,
   "metadata": {},
   "outputs": [],
   "source": [
    "slope_s=np.array([[ 1.00063597e+00, -3.57648012e-01],\n",
    "       [ 9.96144074e-01, -3.93115952e-01],\n",
    "       [ 9.90144748e-01, -4.32538628e-01],\n",
    "       [ 9.81560769e-01, -4.67907378e-01],\n",
    "       [ 9.70780731e-01, -5.11647049e-01],\n",
    "       [ 9.55823010e-01, -5.46182042e-01],\n",
    "       [ 9.38703175e-01, -5.99826718e-01],\n",
    "       [ 9.21038170e-01, -7.09153708e-01],\n",
    "       [ 8.99807553e-01, -8.75700528e-01],\n",
    "       [ 8.63541640e-01, -1.06476084e+00],\n",
    "       [ 7.64542797e-01, -9.24515367e-01],\n",
    "       [ 5.70305185e-01, -1.39350293e-01],\n",
    "       [ 3.39721640e-01,  8.26362521e-01],\n",
    "       [ 1.50528310e-01,  1.35600503e+00],\n",
    "       [ 3.55933119e-02,  1.33289688e+00],\n",
    "       [ 4.81674473e-03,  7.27481093e-01],\n",
    "       [-1.66316561e-03,  6.49994513e-02],\n",
    "       [-4.53303729e-03, -5.74773917e-01],\n",
    "       [-4.93876865e-03, -1.34434560e+00],\n",
    "       [-5.13727494e-03, -2.48648725e+00]])"
   ]
  },
  {
   "cell_type": "code",
   "execution_count": null,
   "metadata": {},
   "outputs": [],
   "source": []
  },
  {
   "cell_type": "code",
   "execution_count": null,
   "metadata": {},
   "outputs": [],
   "source": []
  },
  {
   "cell_type": "code",
   "execution_count": 103,
   "metadata": {},
   "outputs": [
    {
     "data": {
      "text/plain": [
       "array([10, 20, 30, 40])"
      ]
     },
     "execution_count": 103,
     "metadata": {},
     "output_type": "execute_result"
    }
   ],
   "source": [
    "L_list_"
   ]
  },
  {
   "cell_type": "code",
   "execution_count": 25,
   "metadata": {},
   "outputs": [
    {
     "data": {
      "image/png": "[encoded data removed]",
      "text/plain": [
       "<Figure size 640x480 with 1 Axes>"
      ]
     },
     "metadata": {},
     "output_type": "display_data"
    }
   ],
   "source": [
    "p=0.5\n",
    "plt.plot(L_list_+[],[coh_mean[L,p] for L in L_list_+[]],'.-')\n",
    "plt.yscale('log')\n",
    "# plt.xscale('log')"
   ]
  },
  {
   "cell_type": "code",
   "execution_count": 98,
   "metadata": {},
   "outputs": [
    {
     "data": {
      "text/plain": [
       "[<matplotlib.lines.Line2D at 0x7f609ccecca0>]"
      ]
     },
     "execution_count": 98,
     "metadata": {},
     "output_type": "execute_result"
    },
    {
     "data": {
      "image/png": "[encoded data removed]",
      "text/plain": [
       "<Figure size 640x480 with 1 Axes>"
      ]
     },
     "metadata": {},
     "output_type": "display_data"
    }
   ],
   "source": [
    "p=0.5\n",
    "plt.plot(L_list_,[coh_mean[L,p]*2**L / 2**(slope_list[0][0]*L) for L in L_list_],'.-')"
   ]
  },
  {
   "cell_type": "code",
   "execution_count": 97,
   "metadata": {},
   "outputs": [
    {
     "data": {
      "text/plain": [
       "[<matplotlib.lines.Line2D at 0x7f609cc3be50>]"
      ]
     },
     "execution_count": 97,
     "metadata": {},
     "output_type": "execute_result"
    },
    {
     "data": {
      "image/png": "[encoded data removed]",
      "text/plain": [
       "<Figure size 640x480 with 1 Axes>"
      ]
     },
     "metadata": {},
     "output_type": "display_data"
    }
   ],
   "source": [
    "p =0.5\n",
    "plt.plot(L_list_,[coh_mean[L,p]*2**L - 2**(slope_list[0][0]*L + slope_list[0][1]) for L in L_list_],'.-')"
   ]
  },
  {
   "cell_type": "code",
   "execution_count": 27,
   "metadata": {},
   "outputs": [],
   "source": [
    "with open('circ_var_C_m_T_O_L30.pickle','rb') as f:\n",
    "    zz=pickle.load(f)"
   ]
  },
  {
   "cell_type": "code",
   "execution_count": 32,
   "metadata": {},
   "outputs": [
    {
     "data": {
      "text/plain": [
       "array([9.56493848e-31, 5.66150399e-04, 1.09830144e-03, ...,\n",
       "       1.56367094e-01, 1.62881176e-01, 1.64897429e-01])"
      ]
     },
     "execution_count": 32,
     "metadata": {},
     "output_type": "execute_result"
    }
   ],
   "source": [
    "zz[0][0.5,30]"
   ]
  },
  {
   "cell_type": "code",
   "execution_count": 35,
   "metadata": {},
   "outputs": [],
   "source": [
    "with open('circ_var_C_m_T_O_L30.pickle','rb') as f:\n",
    "    zz1=pickle.load(f)"
   ]
  },
  {
   "cell_type": "code",
   "execution_count": 39,
   "metadata": {},
   "outputs": [
    {
     "data": {
      "text/plain": [
       "array([0., 0., 0., ..., 0., 0., 0.])"
      ]
     },
     "execution_count": 39,
     "metadata": {},
     "output_type": "execute_result"
    }
   ],
   "source": [
    "zz1[1][0.5,30] - zz[1][0.5,30]"
   ]
  },
  {
   "cell_type": "code",
   "execution_count": 36,
   "metadata": {},
   "outputs": [
    {
     "data": {
      "text/plain": [
       "{(30, 30, 0.5): 0.007432044446317521,\n",
       " (30, 60, 0.5): 0.00742065125454608,\n",
       " (30, 120, 0.5): 0.007417994081086397}"
      ]
     },
     "execution_count": 36,
     "metadata": {},
     "output_type": "execute_result"
    }
   ],
   "source": [
    "coh_mean"
   ]
  },
  {
   "cell_type": "code",
   "execution_count": 38,
   "metadata": {},
   "outputs": [
    {
     "data": {
      "text/plain": [
       "{(30, 30, 0.5): 0.00713912563860121,\n",
       " (30, 60, 0.5): 0.00712791840567439,\n",
       " (30, 120, 0.5): 0.0071273034277648094}"
      ]
     },
     "execution_count": 38,
     "metadata": {},
     "output_type": "execute_result"
    }
   ],
   "source": [
    "coh_mean"
   ]
  },
  {
   "cell_type": "code",
   "execution_count": 42,
   "metadata": {},
   "outputs": [
    {
     "data": {
      "text/plain": [
       "{(30, 30, 0.5): 0.020918091935781345,\n",
       " (30, 60, 0.5): 0.007914249124768775,\n",
       " (30, 120, 0.5): 0.0032978930683009396,\n",
       " (30, 400, 0.5): 0.0007860926833925711,\n",
       " (30, 1200, 0.5): 0.00024006629674969894,\n",
       " (30, 4000, 0.5): 2.7157570409773995e-05}"
      ]
     },
     "execution_count": 42,
     "metadata": {},
     "output_type": "execute_result"
    }
   ],
   "source": [
    "coh_meas_error"
   ]
  },
  {
   "cell_type": "code",
   "execution_count": 270,
   "metadata": {},
   "outputs": [],
   "source": [
    "# L=30\n",
    "# maxbond=30\n",
    "t=2\n",
    "coh_mean = {}\n",
    "coh_meas_error = {}\n",
    "coh_fluc_error = {}\n",
    "abs_mps = {}\n",
    "abs_mps_error={}\n",
    "total_est_error={}\n",
    "est_error={}\n",
    "for maxbond in params_list[0][1]['maxbond']:\n",
    "    # for t in params_list[0][1]['t']:\n",
    "    for p in params_list[0][1]['p_ctrl']:\n",
    "        coh= df_MPS_0_T.xs('coh_mat',level='Metrics').xs(t,level='t').xs(p,level='p_ctrl').xs(L,level='L').xs(0.0,level='p_proj').xs(maxbond,level='maxbond')\n",
    "        abs_mps[L,maxbond,p]=(df_MPS_0_T.xs('coh_mat',level='Metrics').xs(t,level='t').xs(p,level='p_ctrl').xs(L,level='L').xs(0.0,level='p_proj').xs(maxbond,level='maxbond')+1).applymap(np.sqrt)\n",
    "        abs_mps_error[L,maxbond,p]=df_MPS_0_T.xs('errors',level='Metrics').xs(t,level='t').xs(p,level='p_ctrl').xs(L,level='L').xs(0.0,level='p_proj').xs(maxbond,level='maxbond')\n",
    "        est_error[L,maxbond,p] =  2 * abs_mps[L,maxbond,p] * abs_mps_error[L,maxbond,p]\n",
    "        total_est_error[L,maxbond,p] = np.sqrt(np.sum(est_error[L,maxbond,p]**2)[0])/(est_error[L,maxbond,p].shape[0])\n",
    "        coh_meas_error[L,maxbond,p]=total_est_error[L,maxbond,p]\n",
    "        coh_mean[L,maxbond,p]=coh['observations'].mean()/2**L\n",
    "        coh_fluc_error[L,maxbond,p]=coh['observations'].std()/np.sqrt(coh.shape[0])/2**L\n",
    "\n",
    "with open(f'coherence_MPS_err_L{L}.pickle','wb') as f:\n",
    "    pickle.dump([coh_mean,coh_meas_error,coh_fluc_error, abs_mps, abs_mps_error, total_est_error, est_error],f)\n"
   ]
  },
  {
   "cell_type": "code",
   "execution_count": 22,
   "metadata": {},
   "outputs": [
    {
     "data": {
      "text/plain": [
       "observations    2000\n",
       "dtype: int64"
      ]
     },
     "execution_count": 22,
     "metadata": {},
     "output_type": "execute_result"
    }
   ],
   "source": [
    "(abs_mps_error[L,1200,0.5] < abs_mps[L,1200,0.5]/2**L * 2).sum()"
   ]
  },
  {
   "cell_type": "code",
   "execution_count": 23,
   "metadata": {},
   "outputs": [
    {
     "data": {
      "text/plain": [
       "observations    1565\n",
       "dtype: int64"
      ]
     },
     "execution_count": 23,
     "metadata": {},
     "output_type": "execute_result"
    }
   ],
   "source": [
    "(ranks[L,1200,0.5]<1200).sum()"
   ]
  },
  {
   "cell_type": "code",
   "execution_count": null,
   "metadata": {},
   "outputs": [],
   "source": [
    "abs_mps_error "
   ]
  },
  {
   "cell_type": "code",
   "execution_count": null,
   "metadata": {},
   "outputs": [],
   "source": [
    "abs_mps/2**L * 2"
   ]
  },
  {
   "cell_type": "code",
   "execution_count": 24,
   "metadata": {},
   "outputs": [
    {
     "data": {
      "text/plain": [
       "{(30, 30, 0.5): 0.007158245904254549,\n",
       " (30, 60, 0.5): 0.007152948710012261,\n",
       " (30, 120, 0.5): 0.007150469993062872,\n",
       " (30, 400, 0.5): 0.0071484930481673405,\n",
       " (30, 1200, 0.5): 0.007147620117906116,\n",
       " (30, 4000, 0.5): 0.006758855075025941}"
      ]
     },
     "execution_count": 24,
     "metadata": {},
     "output_type": "execute_result"
    }
   ],
   "source": [
    "coh_mean"
   ]
  },
  {
   "cell_type": "code",
   "execution_count": null,
   "metadata": {},
   "outputs": [],
   "source": [
    "now you need to check in each trajectory, how much does it improve though"
   ]
  },
  {
   "cell_type": "code",
   "execution_count": 44,
   "metadata": {},
   "outputs": [
    {
     "data": {
      "text/plain": [
       "{(30, 120, 0.5): 0.000517671952195174,\n",
       " (30, 120, 0.51): 0.00038128760746014947,\n",
       " (30, 120, 0.53): 0.00018110936976656786,\n",
       " (30, 120, 0.55): 4.804729919709875e-05,\n",
       " (30, 120, 0.6): 4.1322235734095693e-07,\n",
       " (30, 400, 0.5): 0.0005174906929884638,\n",
       " (30, 400, 0.51): 0.0003809162865041478,\n",
       " (30, 400, 0.53): 0.00018086934784824717,\n",
       " (30, 400, 0.55): 4.804663807289915e-05,\n",
       " (30, 400, 0.6): 4.132343623449591e-07,\n",
       " (30, 1200, 0.5): 0.000517353566920101,\n",
       " (30, 1200, 0.51): 0.00038092529265175597,\n",
       " (30, 1200, 0.53): 0.00018089209024639834,\n",
       " (30, 1200, 0.55): 4.804663025605642e-05,\n",
       " (30, 1200, 0.6): 4.132343608028702e-07,\n",
       " (30, 4000, 0.5): 0.0004167265553459395,\n",
       " (30, 4000, 0.51): 0.0002385011221237911,\n",
       " (30, 4000, 0.53): 7.183834945160201e-05,\n",
       " (30, 4000, 0.55): 6.399913876842443e-05,\n",
       " (30, 4000, 0.6): 4.5618874122780194e-07}"
      ]
     },
     "execution_count": 44,
     "metadata": {},
     "output_type": "execute_result"
    }
   ],
   "source": [
    "coh_fluc_error"
   ]
  },
  {
   "cell_type": "code",
   "execution_count": 20,
   "metadata": {},
   "outputs": [
    {
     "data": {
      "text/plain": [
       "{(30, 400, 0.5): 0.0007860926833925711,\n",
       " (30, 400, 0.51): 0.00035267139499618044,\n",
       " (30, 400, 0.53): 0.000289443482831944,\n",
       " (30, 400, 0.55): 1.1422996989406891e-05,\n",
       " (30, 400, 0.6): 2.2022256876463182e-08,\n",
       " (30, 1200, 0.5): 0.00024006629674969894,\n",
       " (30, 1200, 0.51): 9.741383553667676e-05,\n",
       " (30, 1200, 0.53): 7.521964820788454e-05,\n",
       " (30, 1200, 0.55): 3.2889090220593803e-07,\n",
       " (30, 1200, 0.6): 4.593040522403033e-16,\n",
       " (30, 4000, 0.5): 2.322027587465498e-05,\n",
       " (30, 4000, 0.51): 2.9147893647432246e-05,\n",
       " (30, 4000, 0.53): 2.7857747274834556e-08,\n",
       " (30, 4000, 0.55): 3.9675759022472865e-12,\n",
       " (30, 4000, 0.6): 5.891836985856e-16}"
      ]
     },
     "execution_count": 20,
     "metadata": {},
     "output_type": "execute_result"
    }
   ],
   "source": [
    "coh_meas_error"
   ]
  },
  {
   "cell_type": "code",
   "execution_count": null,
   "metadata": {},
   "outputs": [],
   "source": [
    "est_error"
   ]
  },
  {
   "cell_type": "code",
   "execution_count": 23,
   "metadata": {},
   "outputs": [
    {
     "data": {
      "text/plain": [
       "0.0027440789954399796"
      ]
     },
     "execution_count": 23,
     "metadata": {},
     "output_type": "execute_result"
    }
   ],
   "source": [
    "np.sqrt(np.sum(est_error**2)['observations'])/est_error.shape[0]"
   ]
  },
  {
   "cell_type": "code",
   "execution_count": 14,
   "metadata": {},
   "outputs": [
    {
     "data": {
      "text/html": [
       "<div>\n",
       "<style scoped>\n",
       "    .dataframe tbody tr th:only-of-type {\n",
       "        vertical-align: middle;\n",
       "    }\n",
       "\n",
       "    .dataframe tbody tr th {\n",
       "        vertical-align: top;\n",
       "    }\n",
       "\n",
       "    .dataframe thead th {\n",
       "        text-align: right;\n",
       "    }\n",
       "</style>\n",
       "<table border=\"1\" class=\"dataframe\">\n",
       "  <thead>\n",
       "    <tr style=\"text-align: right;\">\n",
       "      <th></th>\n",
       "      <th>observations</th>\n",
       "    </tr>\n",
       "    <tr>\n",
       "      <th>seed</th>\n",
       "      <th></th>\n",
       "    </tr>\n",
       "  </thead>\n",
       "  <tbody>\n",
       "    <tr>\n",
       "      <th>0</th>\n",
       "      <td>0.0</td>\n",
       "    </tr>\n",
       "    <tr>\n",
       "      <th>1</th>\n",
       "      <td>0.0</td>\n",
       "    </tr>\n",
       "    <tr>\n",
       "      <th>2</th>\n",
       "      <td>0.027008</td>\n",
       "    </tr>\n",
       "    <tr>\n",
       "      <th>3</th>\n",
       "      <td>0.004318</td>\n",
       "    </tr>\n",
       "    <tr>\n",
       "      <th>4</th>\n",
       "      <td>0.0</td>\n",
       "    </tr>\n",
       "    <tr>\n",
       "      <th>...</th>\n",
       "      <td>...</td>\n",
       "    </tr>\n",
       "    <tr>\n",
       "      <th>1995</th>\n",
       "      <td>0.555328</td>\n",
       "    </tr>\n",
       "    <tr>\n",
       "      <th>1996</th>\n",
       "      <td>0.002514</td>\n",
       "    </tr>\n",
       "    <tr>\n",
       "      <th>1997</th>\n",
       "      <td>1.343307</td>\n",
       "    </tr>\n",
       "    <tr>\n",
       "      <th>1998</th>\n",
       "      <td>0.000043</td>\n",
       "    </tr>\n",
       "    <tr>\n",
       "      <th>1999</th>\n",
       "      <td>0.0</td>\n",
       "    </tr>\n",
       "  </tbody>\n",
       "</table>\n",
       "<p>2000 rows × 1 columns</p>\n",
       "</div>"
      ],
      "text/plain": [
       "     observations\n",
       "seed             \n",
       "0             0.0\n",
       "1             0.0\n",
       "2        0.027008\n",
       "3        0.004318\n",
       "4             0.0\n",
       "...           ...\n",
       "1995     0.555328\n",
       "1996     0.002514\n",
       "1997     1.343307\n",
       "1998     0.000043\n",
       "1999          0.0\n",
       "\n",
       "[2000 rows x 1 columns]"
      ]
     },
     "execution_count": 14,
     "metadata": {},
     "output_type": "execute_result"
    }
   ],
   "source": [
    "est_error"
   ]
  },
  {
   "cell_type": "code",
   "execution_count": 15,
   "metadata": {},
   "outputs": [
    {
     "data": {
      "text/html": [
       "<div>\n",
       "<style scoped>\n",
       "    .dataframe tbody tr th:only-of-type {\n",
       "        vertical-align: middle;\n",
       "    }\n",
       "\n",
       "    .dataframe tbody tr th {\n",
       "        vertical-align: top;\n",
       "    }\n",
       "\n",
       "    .dataframe thead th {\n",
       "        text-align: right;\n",
       "    }\n",
       "</style>\n",
       "<table border=\"1\" class=\"dataframe\">\n",
       "  <thead>\n",
       "    <tr style=\"text-align: right;\">\n",
       "      <th></th>\n",
       "      <th>observations</th>\n",
       "    </tr>\n",
       "    <tr>\n",
       "      <th>seed</th>\n",
       "      <th></th>\n",
       "    </tr>\n",
       "  </thead>\n",
       "  <tbody>\n",
       "    <tr>\n",
       "      <th>0</th>\n",
       "      <td>3.352193</td>\n",
       "    </tr>\n",
       "    <tr>\n",
       "      <th>1</th>\n",
       "      <td>2.502820</td>\n",
       "    </tr>\n",
       "    <tr>\n",
       "      <th>2</th>\n",
       "      <td>3865.301259</td>\n",
       "    </tr>\n",
       "    <tr>\n",
       "      <th>3</th>\n",
       "      <td>2789.257499</td>\n",
       "    </tr>\n",
       "    <tr>\n",
       "      <th>4</th>\n",
       "      <td>6.614736</td>\n",
       "    </tr>\n",
       "    <tr>\n",
       "      <th>...</th>\n",
       "      <td>...</td>\n",
       "    </tr>\n",
       "    <tr>\n",
       "      <th>1995</th>\n",
       "      <td>7862.857792</td>\n",
       "    </tr>\n",
       "    <tr>\n",
       "      <th>1996</th>\n",
       "      <td>2988.032539</td>\n",
       "    </tr>\n",
       "    <tr>\n",
       "      <th>1997</th>\n",
       "      <td>13784.074421</td>\n",
       "    </tr>\n",
       "    <tr>\n",
       "      <th>1998</th>\n",
       "      <td>410.678957</td>\n",
       "    </tr>\n",
       "    <tr>\n",
       "      <th>1999</th>\n",
       "      <td>10.888341</td>\n",
       "    </tr>\n",
       "  </tbody>\n",
       "</table>\n",
       "<p>2000 rows × 1 columns</p>\n",
       "</div>"
      ],
      "text/plain": [
       "      observations\n",
       "seed              \n",
       "0         3.352193\n",
       "1         2.502820\n",
       "2      3865.301259\n",
       "3      2789.257499\n",
       "4         6.614736\n",
       "...            ...\n",
       "1995   7862.857792\n",
       "1996   2988.032539\n",
       "1997  13784.074421\n",
       "1998    410.678957\n",
       "1999     10.888341\n",
       "\n",
       "[2000 rows x 1 columns]"
      ]
     },
     "execution_count": 15,
     "metadata": {},
     "output_type": "execute_result"
    }
   ],
   "source": [
    "abs_mps"
   ]
  },
  {
   "cell_type": "code",
   "execution_count": 16,
   "metadata": {},
   "outputs": [
    {
     "data": {
      "text/html": [
       "<div>\n",
       "<style scoped>\n",
       "    .dataframe tbody tr th:only-of-type {\n",
       "        vertical-align: middle;\n",
       "    }\n",
       "\n",
       "    .dataframe tbody tr th {\n",
       "        vertical-align: top;\n",
       "    }\n",
       "\n",
       "    .dataframe thead th {\n",
       "        text-align: right;\n",
       "    }\n",
       "</style>\n",
       "<table border=\"1\" class=\"dataframe\">\n",
       "  <thead>\n",
       "    <tr style=\"text-align: right;\">\n",
       "      <th></th>\n",
       "      <th>observations</th>\n",
       "    </tr>\n",
       "    <tr>\n",
       "      <th>seed</th>\n",
       "      <th></th>\n",
       "    </tr>\n",
       "  </thead>\n",
       "  <tbody>\n",
       "    <tr>\n",
       "      <th>0</th>\n",
       "      <td>2.9604753682622612e-18</td>\n",
       "    </tr>\n",
       "    <tr>\n",
       "      <th>1</th>\n",
       "      <td>9.193864285191776e-33</td>\n",
       "    </tr>\n",
       "    <tr>\n",
       "      <th>2</th>\n",
       "      <td>3.4936899780956783e-06</td>\n",
       "    </tr>\n",
       "    <tr>\n",
       "      <th>3</th>\n",
       "      <td>7.73984666434102e-07</td>\n",
       "    </tr>\n",
       "    <tr>\n",
       "      <th>4</th>\n",
       "      <td>6.30863529206215e-18</td>\n",
       "    </tr>\n",
       "    <tr>\n",
       "      <th>...</th>\n",
       "      <td>...</td>\n",
       "    </tr>\n",
       "    <tr>\n",
       "      <th>1995</th>\n",
       "      <td>3.531334476513497e-05</td>\n",
       "    </tr>\n",
       "    <tr>\n",
       "      <th>1996</th>\n",
       "      <td>4.20749462149356e-07</td>\n",
       "    </tr>\n",
       "    <tr>\n",
       "      <th>1997</th>\n",
       "      <td>4.872679270085565e-05</td>\n",
       "    </tr>\n",
       "    <tr>\n",
       "      <th>1998</th>\n",
       "      <td>5.27942329130949e-08</td>\n",
       "    </tr>\n",
       "    <tr>\n",
       "      <th>1999</th>\n",
       "      <td>1.714913124186416e-17</td>\n",
       "    </tr>\n",
       "  </tbody>\n",
       "</table>\n",
       "<p>2000 rows × 1 columns</p>\n",
       "</div>"
      ],
      "text/plain": [
       "                observations\n",
       "seed                        \n",
       "0     2.9604753682622612e-18\n",
       "1      9.193864285191776e-33\n",
       "2     3.4936899780956783e-06\n",
       "3       7.73984666434102e-07\n",
       "4       6.30863529206215e-18\n",
       "...                      ...\n",
       "1995   3.531334476513497e-05\n",
       "1996    4.20749462149356e-07\n",
       "1997   4.872679270085565e-05\n",
       "1998    5.27942329130949e-08\n",
       "1999   1.714913124186416e-17\n",
       "\n",
       "[2000 rows x 1 columns]"
      ]
     },
     "execution_count": 16,
     "metadata": {},
     "output_type": "execute_result"
    }
   ],
   "source": [
    "abs_mps_error"
   ]
  },
  {
   "cell_type": "code",
   "execution_count": 258,
   "metadata": {},
   "outputs": [
    {
     "data": {
      "text/plain": [
       "observations    0.023951\n",
       "dtype: float64"
      ]
     },
     "execution_count": 258,
     "metadata": {},
     "output_type": "execute_result"
    }
   ],
   "source": [
    "coh.mean()/2**L"
   ]
  },
  {
   "cell_type": "code",
   "execution_count": 277,
   "metadata": {},
   "outputs": [
    {
     "data": {
      "text/plain": [
       "(array([795.,  96.,  58.,  51.,  28.,  35.,  24.,  17.,  16.,  16.,  13.,\n",
       "         11.,  10.,   9.,   5.,   3.,   7.,   6.,   8.]),\n",
       " array([0.        , 0.00026316, 0.00052632, 0.00078947, 0.00105263,\n",
       "        0.00131579, 0.00157895, 0.00184211, 0.00210526, 0.00236842,\n",
       "        0.00263158, 0.00289474, 0.00315789, 0.00342105, 0.00368421,\n",
       "        0.00394737, 0.00421053, 0.00447368, 0.00473684, 0.005     ]),\n",
       " <BarContainer object of 19 artists>)"
      ]
     },
     "execution_count": 277,
     "metadata": {},
     "output_type": "execute_result"
    },
    {
     "data": {
      "image/png": "[encoded data removed]",
      "text/plain": [
       "<Figure size 640x480 with 1 Axes>"
      ]
     },
     "metadata": {},
     "output_type": "display_data"
    }
   ],
   "source": [
    "plt.hist(df_MPS_0_T.xs('coh_mat',level='Metrics').xs(2,level='t').xs(0.5,level='p_ctrl').xs(L,level='L').xs(0.0,level='p_proj').xs(120,level='maxbond')['observations']/2**20,bins=np.linspace(0,0.005,20))\n",
    "plt.hist(df_MPS_0_T.xs('coh_mat',level='Metrics').xs(4,level='t').xs(0.5,level='p_ctrl').xs(L,level='L').xs(0.0,level='p_proj').xs(120,level='maxbond')['observations']/2**20,bins=np.linspace(0,0.005,20))\n",
    "plt.hist(df_MPS_0_T.xs('coh_mat',level='Metrics').xs(6,level='t').xs(0.5,level='p_ctrl').xs(L,level='L').xs(0.0,level='p_proj').xs(120,level='maxbond')['observations']/2**20,bins=np.linspace(0,0.005,20))"
   ]
  },
  {
   "cell_type": "code",
   "execution_count": null,
   "metadata": {},
   "outputs": [],
   "source": []
  },
  {
   "cell_type": "code",
   "execution_count": 199,
   "metadata": {},
   "outputs": [
    {
     "data": {
      "text/html": [
       "<div>\n",
       "<style scoped>\n",
       "    .dataframe tbody tr th:only-of-type {\n",
       "        vertical-align: middle;\n",
       "    }\n",
       "\n",
       "    .dataframe tbody tr th {\n",
       "        vertical-align: top;\n",
       "    }\n",
       "\n",
       "    .dataframe thead th {\n",
       "        text-align: right;\n",
       "    }\n",
       "</style>\n",
       "<table border=\"1\" class=\"dataframe\">\n",
       "  <thead>\n",
       "    <tr style=\"text-align: right;\">\n",
       "      <th></th>\n",
       "      <th></th>\n",
       "      <th></th>\n",
       "      <th></th>\n",
       "      <th></th>\n",
       "      <th>observations</th>\n",
       "    </tr>\n",
       "    <tr>\n",
       "      <th>p_ctrl</th>\n",
       "      <th>L</th>\n",
       "      <th>p_proj</th>\n",
       "      <th>maxbond</th>\n",
       "      <th>seed</th>\n",
       "      <th></th>\n",
       "    </tr>\n",
       "  </thead>\n",
       "  <tbody>\n",
       "    <tr>\n",
       "      <th rowspan=\"11\" valign=\"top\">0.5</th>\n",
       "      <th rowspan=\"11\" valign=\"top\">10</th>\n",
       "      <th rowspan=\"11\" valign=\"top\">0.0</th>\n",
       "      <th>30</th>\n",
       "      <th>0</th>\n",
       "      <td>2.0481510814759507</td>\n",
       "    </tr>\n",
       "    <tr>\n",
       "      <th>60</th>\n",
       "      <th>0</th>\n",
       "      <td>2.0481510814759507</td>\n",
       "    </tr>\n",
       "    <tr>\n",
       "      <th>120</th>\n",
       "      <th>0</th>\n",
       "      <td>2.0481510814759507</td>\n",
       "    </tr>\n",
       "    <tr>\n",
       "      <th>30</th>\n",
       "      <th>1</th>\n",
       "      <td>46.05620062704553</td>\n",
       "    </tr>\n",
       "    <tr>\n",
       "      <th rowspan=\"3\" valign=\"top\">60</th>\n",
       "      <th>1</th>\n",
       "      <td>46.05620062704553</td>\n",
       "    </tr>\n",
       "    <tr>\n",
       "      <th>...</th>\n",
       "      <td>...</td>\n",
       "    </tr>\n",
       "    <tr>\n",
       "      <th>1998</th>\n",
       "      <td>5.826881193637752</td>\n",
       "    </tr>\n",
       "    <tr>\n",
       "      <th>120</th>\n",
       "      <th>1998</th>\n",
       "      <td>5.826881193637752</td>\n",
       "    </tr>\n",
       "    <tr>\n",
       "      <th>30</th>\n",
       "      <th>1999</th>\n",
       "      <td>2.215692052769012</td>\n",
       "    </tr>\n",
       "    <tr>\n",
       "      <th>60</th>\n",
       "      <th>1999</th>\n",
       "      <td>2.215692052769012</td>\n",
       "    </tr>\n",
       "    <tr>\n",
       "      <th>120</th>\n",
       "      <th>1999</th>\n",
       "      <td>2.215692052769012</td>\n",
       "    </tr>\n",
       "  </tbody>\n",
       "</table>\n",
       "<p>6000 rows × 1 columns</p>\n",
       "</div>"
      ],
      "text/plain": [
       "                                     observations\n",
       "p_ctrl L  p_proj maxbond seed                    \n",
       "0.5    10 0.0    30      0     2.0481510814759507\n",
       "                 60      0     2.0481510814759507\n",
       "                 120     0     2.0481510814759507\n",
       "                 30      1      46.05620062704553\n",
       "                 60      1      46.05620062704553\n",
       "...                                           ...\n",
       "                         1998   5.826881193637752\n",
       "                 120     1998   5.826881193637752\n",
       "                 30      1999   2.215692052769012\n",
       "                 60      1999   2.215692052769012\n",
       "                 120     1999   2.215692052769012\n",
       "\n",
       "[6000 rows x 1 columns]"
      ]
     },
     "execution_count": 199,
     "metadata": {},
     "output_type": "execute_result"
    }
   ],
   "source": [
    "df_MPS_0_T.xs('coh_mat',level='Metrics').xs(2,level='t')"
   ]
  },
  {
   "cell_type": "code",
   "execution_count": 200,
   "metadata": {},
   "outputs": [],
   "source": [
    "coh_MPS={}\n",
    "coh_sem={}\n",
    "coh_total={}\n",
    "for p_ctrl in params_list[0][1]['p_ctrl']:\n",
    "    for maxbond in params_list[0][1]['maxbond']:\n",
    "        for t in params_list[0][1]['t']:\n",
    "            try:\n",
    "                data=df_MPS_0_T.xs('coh_mat',level='Metrics').xs(L,level='L').xs(p_ctrl,level='p_ctrl').xs(0.0,level='p_proj').xs(maxbond,level='maxbond').xs(t,level='t')['observations']\n",
    "                coh_MPS[L,p_ctrl,maxbond,t]=data.mean()/2.**L\n",
    "                coh_sem[L,p_ctrl,maxbond,t]=data.sem()/2.**L\n",
    "                coh_total[L,p_ctrl,maxbond,t]=np.hstack(data)/2.**L\n",
    "                # /2.**L\n",
    "            except:\n",
    "                pass\n",
    "# with open(f'coherence_MPS_L{L}.pickle','wb') as f:\n",
    "#     pickle.dump([coh_MPS,coh_sem,coh_total],f)"
   ]
  },
  {
   "cell_type": "code",
   "execution_count": 201,
   "metadata": {},
   "outputs": [
    {
     "data": {
      "text/plain": [
       "{(10, 0.5, 30, 2): 0.10278849445975696,\n",
       " (10, 0.5, 30, 4): 0.10003175615201132,\n",
       " (10, 0.5, 30, 6): 0.10072339165615632,\n",
       " (10, 0.5, 60, 2): 0.10278824569199052,\n",
       " (10, 0.5, 60, 4): 0.10003294720229804,\n",
       " (10, 0.5, 60, 6): 0.1007219213957429,\n",
       " (10, 0.5, 120, 2): 0.10278810211953048,\n",
       " (10, 0.5, 120, 4): 0.10003057889191123,\n",
       " (10, 0.5, 120, 6): 0.10072313721699865}"
      ]
     },
     "execution_count": 201,
     "metadata": {},
     "output_type": "execute_result"
    }
   ],
   "source": [
    "coh_MPS"
   ]
  },
  {
   "cell_type": "code",
   "execution_count": 202,
   "metadata": {},
   "outputs": [
    {
     "ename": "KeyError",
     "evalue": "(80, 0.5, 60)",
     "output_type": "error",
     "traceback": [
      "\u001b[0;31m---------------------------------------------------------------------------\u001b[0m",
      "\u001b[0;31mKeyError\u001b[0m                                  Traceback (most recent call last)",
      "Cell \u001b[0;32mIn[202], line 1\u001b[0m\n\u001b[0;32m----> 1\u001b[0m \u001b[43mcoh_MPS\u001b[49m\u001b[43m[\u001b[49m\u001b[38;5;241;43m80\u001b[39;49m\u001b[43m,\u001b[49m\u001b[38;5;241;43m0.5\u001b[39;49m\u001b[43m,\u001b[49m\u001b[38;5;241;43m60\u001b[39;49m\u001b[43m]\u001b[49m\u001b[38;5;241m-\u001b[39mcoh_MPS[\u001b[38;5;241m80\u001b[39m,\u001b[38;5;241m0.5\u001b[39m,\u001b[38;5;241m30\u001b[39m]\n",
      "\u001b[0;31mKeyError\u001b[0m: (80, 0.5, 60)"
     ]
    }
   ],
   "source": [
    "coh_MPS[80,0.5,60]-coh_MPS[80,0.5,30]"
   ]
  },
  {
   "cell_type": "code",
   "execution_count": null,
   "metadata": {},
   "outputs": [
    {
     "data": {
      "text/plain": [
       "{(40, 0.5, 30): 0.0023648805487975068,\n",
       " (40, 0.5, 60): 0.0023594302956547555,\n",
       " (40, 0.5, 120): 0.0023586484909077646,\n",
       " (40, 0.5, 200): 0.0023585400080597682,\n",
       " (40, 0.5, 400): 0.002358455328108034}"
      ]
     },
     "metadata": {},
     "output_type": "display_data"
    }
   ],
   "source": [
    "coh_MPS"
   ]
  },
  {
   "cell_type": "code",
   "execution_count": null,
   "metadata": {},
   "outputs": [
    {
     "data": {
      "text/plain": [
       "{(40, 0.5, 30): 0.002312100406099989,\n",
       " (40, 0.5, 60): 0.0023072268072126694,\n",
       " (40, 0.5, 120): 0.0023064463177711113,\n",
       " (40, 0.5, 200): 0.0023063394477186357,\n",
       " (40, 0.5, 400): 0.0023062700188255444}"
      ]
     },
     "metadata": {},
     "output_type": "display_data"
    }
   ],
   "source": [
    "coh_MPS"
   ]
  },
  {
   "cell_type": "code",
   "execution_count": null,
   "metadata": {},
   "outputs": [
    {
     "data": {
      "text/plain": [
       "{(30, 0.5, 30): 0.007161151508302893,\n",
       " (30, 0.5, 60): 0.007154417852309513,\n",
       " (30, 0.5, 120): 0.0071511694730023775,\n",
       " (30, 0.5, 200): 0.007145276798369299,\n",
       " (30, 0.5, 400): 0.007131255385924553}"
      ]
     },
     "metadata": {},
     "output_type": "display_data"
    }
   ],
   "source": [
    "coh_MPS"
   ]
  },
  {
   "cell_type": "code",
   "execution_count": null,
   "metadata": {},
   "outputs": [
    {
     "data": {
      "text/plain": [
       "(array([8741.83976261,  296.73590504,  178.04154303,  100.89020772,\n",
       "          77.15133531,   94.95548961,  118.69436202,   53.41246291,\n",
       "          29.6735905 ,   41.54302671,   41.54302671,   29.6735905 ,\n",
       "          47.47774481,   29.6735905 ,   29.6735905 ,   11.8694362 ,\n",
       "          17.8041543 ,   11.8694362 ,   35.60830861,   11.8694362 ]),\n",
       " array([0.    , 0.0001, 0.0002, 0.0003, 0.0004, 0.0005, 0.0006, 0.0007,\n",
       "        0.0008, 0.0009, 0.001 , 0.0011, 0.0012, 0.0013, 0.0014, 0.0015,\n",
       "        0.0016, 0.0017, 0.0018, 0.0019, 0.002 ]),\n",
       " <BarContainer object of 20 artists>)"
      ]
     },
     "execution_count": 92,
     "metadata": {},
     "output_type": "execute_result"
    },
    {
     "data": {
      "image/png": "[encoded data removed]",
      "text/plain": [
       "<Figure size 640x480 with 1 Axes>"
      ]
     },
     "metadata": {},
     "output_type": "display_data"
    }
   ],
   "source": [
    "plt.hist(coh_total[40,0.5,30],bins=np.linspace(0,.002,21),density=True)"
   ]
  },
  {
   "cell_type": "code",
   "execution_count": null,
   "metadata": {},
   "outputs": [
    {
     "data": {
      "text/plain": [
       "258"
      ]
     },
     "execution_count": 104,
     "metadata": {},
     "output_type": "execute_result"
    }
   ],
   "source": [
    "coh_total[40,0.5,30].argsort()[-1]"
   ]
  },
  {
   "cell_type": "code",
   "execution_count": null,
   "metadata": {},
   "outputs": [],
   "source": []
  },
  {
   "cell_type": "code",
   "execution_count": null,
   "metadata": {},
   "outputs": [
    {
     "data": {
      "text/plain": [
       "[0.0984748705193905,\n",
       " 0.09842677254873895,\n",
       " 0.09809109227094641,\n",
       " 0.09793648973012718,\n",
       " 0.09808598991088313]"
      ]
     },
     "execution_count": 105,
     "metadata": {},
     "output_type": "execute_result"
    }
   ],
   "source": [
    "[coh_total[40,0.5,x][258] for x in [30,60,120,200,400]]"
   ]
  },
  {
   "cell_type": "code",
   "execution_count": null,
   "metadata": {},
   "outputs": [
    {
     "data": {
      "text/plain": [
       "[222021385.53951824,\n",
       " 224541570.27192634,\n",
       " 224177020.7557927,\n",
       " 224079869.38459286,\n",
       " 224043193.29424337]"
      ]
     },
     "execution_count": 72,
     "metadata": {},
     "output_type": "execute_result"
    }
   ],
   "source": [
    "[coh_total[30,0.5,x][784] for x in [30,60,120,200,400]]"
   ]
  },
  {
   "cell_type": "code",
   "execution_count": null,
   "metadata": {},
   "outputs": [
    {
     "data": {
      "text/plain": [
       "[0.1904592835026073,\n",
       " 0.19033735708781566,\n",
       " 0.19034541619816192,\n",
       " 0.19035528918479644,\n",
       " 0.19035396812725563]"
      ]
     },
     "execution_count": 63,
     "metadata": {},
     "output_type": "execute_result"
    }
   ],
   "source": [
    "[coh_total[30,0.5,x][647] for x in [30,60,120,200,400]]"
   ]
  },
  {
   "cell_type": "code",
   "execution_count": null,
   "metadata": {},
   "outputs": [
    {
     "data": {
      "text/plain": [
       "[0.1837571583082736,\n",
       " 0.1828845403746454,\n",
       " 0.18251517694742478,\n",
       " 0.18242169197219782,\n",
       " 0.18247712512303774]"
      ]
     },
     "execution_count": 64,
     "metadata": {},
     "output_type": "execute_result"
    }
   ],
   "source": [
    "[coh_total[30,0.5,x][886] for x in [30,60,120,200,400]]"
   ]
  },
  {
   "cell_type": "code",
   "execution_count": null,
   "metadata": {},
   "outputs": [
    {
     "data": {
      "text/plain": [
       "[0.1716721436018411,\n",
       " 0.16938584664074066,\n",
       " 0.1696145595553328,\n",
       " 0.16959050558457447,\n",
       " 0.16962467948182966]"
      ]
     },
     "execution_count": 66,
     "metadata": {},
     "output_type": "execute_result"
    }
   ],
   "source": [
    "[coh_total[30,0.5,x][1172] for x in [30,60,120,200,400]]"
   ]
  },
  {
   "cell_type": "code",
   "execution_count": null,
   "metadata": {},
   "outputs": [
    {
     "data": {
      "text/plain": [
       "[<matplotlib.lines.Line2D at 0x7f988a543dc0>]"
      ]
     },
     "execution_count": 51,
     "metadata": {},
     "output_type": "execute_result"
    },
    {
     "data": {
      "image/png": "[encoded data removed]",
      "text/plain": [
       "<Figure size 640x480 with 1 Axes>"
      ]
     },
     "metadata": {},
     "output_type": "display_data"
    }
   ],
   "source": [
    "plt.plot([30,60,120,200,400],[coh_MPS[30,0.5,chi] for chi in [30,60,120,200,400]],'.-')"
   ]
  },
  {
   "cell_type": "code",
   "execution_count": null,
   "metadata": {},
   "outputs": [
    {
     "data": {
      "text/plain": [
       "array([1.65268330e-02, 4.81876629e-02, 1.07209699e-08, ...,\n",
       "       4.57365707e-04, 1.26516007e-01, 1.11157837e-03])"
      ]
     },
     "execution_count": 49,
     "metadata": {},
     "output_type": "execute_result"
    }
   ],
   "source": [
    "coh_total[30,0.5,30]"
   ]
  },
  {
   "cell_type": "code",
   "execution_count": null,
   "metadata": {},
   "outputs": [
    {
     "data": {
      "text/plain": [
       "array([1.64178351e-02, 4.80802492e-02, 1.07209699e-08, ...,\n",
       "       4.57369011e-04, 1.26243262e-01, 1.11215078e-03])"
      ]
     },
     "execution_count": 50,
     "metadata": {},
     "output_type": "execute_result"
    }
   ],
   "source": [
    "coh_total[30,0.5,60]"
   ]
  },
  {
   "cell_type": "code",
   "execution_count": null,
   "metadata": {},
   "outputs": [],
   "source": [
    "two things to check here:\n",
    "L=40 , mb =30, to see whether it converge => it converges\n",
    "L=30 with larger system size to see whether it increase => not really\n",
    "L=50, 60 : with mb=60 to see if converge => "
   ]
  },
  {
   "cell_type": "code",
   "execution_count": null,
   "metadata": {},
   "outputs": [],
   "source": []
  },
  {
   "cell_type": "code",
   "execution_count": null,
   "metadata": {},
   "outputs": [
    {
     "data": {
      "text/plain": [
       "0.016764622921920942"
      ]
     },
     "execution_count": 16,
     "metadata": {},
     "output_type": "execute_result"
    }
   ],
   "source": [
    "df_MPS_0_T.xs('coh_mat',level='Metrics').xs(L,level='L').xs(0.6,level='p_ctrl').xs(0.0,level='p_proj').xs(30,level='maxbond')['observations'].apply(np.sum).mean()/2**L"
   ]
  },
  {
   "cell_type": "code",
   "execution_count": null,
   "metadata": {},
   "outputs": [
    {
     "data": {
      "text/plain": [
       "0.00030641924994547615"
      ]
     },
     "execution_count": 242,
     "metadata": {},
     "output_type": "execute_result"
    }
   ],
   "source": [
    "df_MPS_0_T.xs('coh_mat',level='Metrics').xs(L,level='L').xs(p_ctrl,level='p_ctrl').xs(0.0,level='p_proj').xs(60,level='maxbond')['observations'].apply(np.sum).mean()/2**L"
   ]
  },
  {
   "cell_type": "code",
   "execution_count": null,
   "metadata": {},
   "outputs": [
    {
     "data": {
      "text/plain": [
       "(array([1474.,   36.,   16.,    6.,    6.,    8.,    6.,    4.,    3.]),\n",
       " array([0.        , 0.00222222, 0.00444444, 0.00666667, 0.00888889,\n",
       "        0.01111111, 0.01333333, 0.01555556, 0.01777778, 0.02      ]),\n",
       " <BarContainer object of 9 artists>)"
      ]
     },
     "execution_count": 25,
     "metadata": {},
     "output_type": "execute_result"
    },
    {
     "data": {
      "image/png": "[encoded data removed]",
      "text/plain": [
       "<Figure size 640x480 with 1 Axes>"
      ]
     },
     "metadata": {},
     "output_type": "display_data"
    }
   ],
   "source": [
    "plt.hist(df_MPS_0_T_60.xs('coh_mat',level='Metrics').xs(L,level='L').xs(p_ctrl,level='p_ctrl').xs(0.0,level='p_proj')['observations'].apply(np.sum)/2**L,bins=np.linspace(0,0.02,10))"
   ]
  },
  {
   "cell_type": "code",
   "execution_count": null,
   "metadata": {},
   "outputs": [
    {
     "data": {
      "text/plain": [
       "seed\n",
       "2       1.151410e+01\n",
       "5       8.958706e+00\n",
       "7       9.526275e+04\n",
       "8       2.414734e+04\n",
       "9       8.127373e+00\n",
       "            ...     \n",
       "1994    9.422158e+05\n",
       "1995    1.901574e+06\n",
       "1997    4.910962e+05\n",
       "1998    1.355376e+08\n",
       "1999    1.194162e+06\n",
       "Name: observations, Length: 1589, dtype: float64"
      ]
     },
     "execution_count": 29,
     "metadata": {},
     "output_type": "execute_result"
    }
   ],
   "source": [
    "df_MPS_0_T_60.xs('coh_mat',level='Metrics').xs(L,level='L').xs(p_ctrl,level='p_ctrl').xs(0.0,level='p_proj')['observations'].apply(np.sum)"
   ]
  },
  {
   "cell_type": "code",
   "execution_count": null,
   "metadata": {},
   "outputs": [
    {
     "data": {
      "text/plain": [
       "0.007165892643777692"
      ]
     },
     "execution_count": 135,
     "metadata": {},
     "output_type": "execute_result"
    }
   ],
   "source": [
    "df_MPS_0_T.xs('coh_mat',level='Metrics').xs(L,level='L').xs(p_ctrl,level='p_ctrl').xs(0.0,level='p_proj').xs(60,level='maxbond')['observations'].apply(np.sum).mean()/2**L"
   ]
  },
  {
   "cell_type": "code",
   "execution_count": null,
   "metadata": {},
   "outputs": [
    {
     "data": {
      "text/plain": [
       "seed\n",
       "0       1.766967e+07\n",
       "1       5.180492e+07\n",
       "2       1.158132e+01\n",
       "3       1.078619e+08\n",
       "4       3.981824e+05\n",
       "            ...     \n",
       "1993    4.649178e+00\n",
       "1994    9.422852e+05\n",
       "1995    1.901489e+06\n",
       "1996    3.722598e+07\n",
       "1997    4.911054e+05\n",
       "Name: observations, Length: 1967, dtype: float64"
      ]
     },
     "execution_count": 30,
     "metadata": {},
     "output_type": "execute_result"
    }
   ],
   "source": [
    "df_MPS_0_T.xs('coh_mat',level='Metrics').xs(L,level='L').xs(p_ctrl,level='p_ctrl').xs(0.0,level='p_proj')['observations'].apply(np.sum)"
   ]
  },
  {
   "cell_type": "code",
   "execution_count": null,
   "metadata": {},
   "outputs": [],
   "source": [
    "old_idx=df_MPS_0_T.xs('coh_mat',level='Metrics').xs(L,level='L').xs(p_ctrl,level='p_ctrl').xs(0.0,level='p_proj')['observations'].index"
   ]
  },
  {
   "cell_type": "code",
   "execution_count": null,
   "metadata": {},
   "outputs": [],
   "source": [
    "new_idx=df_MPS_0_T_60.xs('coh_mat',level='Metrics').xs(L,level='L').xs(p_ctrl,level='p_ctrl').xs(0.0,level='p_proj')['observations'].index"
   ]
  },
  {
   "cell_type": "code",
   "execution_count": null,
   "metadata": {},
   "outputs": [],
   "source": [
    "old_data=df_MPS_0_T.xs('coh_mat',level='Metrics').xs(L,level='L').xs(p_ctrl,level='p_ctrl').xs(0.0,level='p_proj')['observations']\n",
    "new_data=df_MPS_0_T_60.xs('coh_mat',level='Metrics').xs(L,level='L').xs(p_ctrl,level='p_ctrl').xs(0.0,level='p_proj')['observations']"
   ]
  },
  {
   "cell_type": "code",
   "execution_count": null,
   "metadata": {},
   "outputs": [
    {
     "data": {
      "text/plain": [
       "0.00023799835266458"
      ]
     },
     "execution_count": 77,
     "metadata": {},
     "output_type": "execute_result"
    }
   ],
   "source": [
    "(new_data.apply(np.sum)/2**L).sem()"
   ]
  },
  {
   "cell_type": "code",
   "execution_count": null,
   "metadata": {},
   "outputs": [
    {
     "data": {
      "text/plain": [
       "0.0015580612501484702"
      ]
     },
     "execution_count": 82,
     "metadata": {},
     "output_type": "execute_result"
    }
   ],
   "source": [
    "(new_data.apply(np.sum)/2**L).mean()"
   ]
  },
  {
   "cell_type": "code",
   "execution_count": null,
   "metadata": {},
   "outputs": [
    {
     "data": {
      "text/plain": [
       "0.007104088316699208"
      ]
     },
     "execution_count": 80,
     "metadata": {},
     "output_type": "execute_result"
    }
   ],
   "source": [
    "(old_data.apply(np.sum)/2**L).mean()"
   ]
  },
  {
   "cell_type": "code",
   "execution_count": null,
   "metadata": {},
   "outputs": [
    {
     "data": {
      "text/plain": [
       "0.0005228982526062203"
      ]
     },
     "execution_count": 81,
     "metadata": {},
     "output_type": "execute_result"
    }
   ],
   "source": [
    "(old_data.apply(np.sum)/2**L).sem()"
   ]
  },
  {
   "cell_type": "code",
   "execution_count": null,
   "metadata": {},
   "outputs": [],
   "source": [
    "common_idx = set(old_idx) & set(new_idx)"
   ]
  },
  {
   "cell_type": "code",
   "execution_count": null,
   "metadata": {},
   "outputs": [],
   "source": [
    "failded_idx=(set(old_idx) - set(new_idx))"
   ]
  },
  {
   "cell_type": "code",
   "execution_count": null,
   "metadata": {},
   "outputs": [
    {
     "data": {
      "text/plain": [
       "1565"
      ]
     },
     "execution_count": 45,
     "metadata": {},
     "output_type": "execute_result"
    }
   ],
   "source": [
    "len(common_idx)"
   ]
  },
  {
   "cell_type": "code",
   "execution_count": null,
   "metadata": {},
   "outputs": [
    {
     "data": {
      "text/plain": [
       "402"
      ]
     },
     "execution_count": 44,
     "metadata": {},
     "output_type": "execute_result"
    }
   ],
   "source": [
    "len(failded_idx)"
   ]
  },
  {
   "cell_type": "code",
   "execution_count": null,
   "metadata": {},
   "outputs": [],
   "source": []
  },
  {
   "cell_type": "code",
   "execution_count": null,
   "metadata": {},
   "outputs": [
    {
     "data": {
      "text/plain": [
       "seed\n",
       "0       1.766967e+07\n",
       "1       5.180492e+07\n",
       "2       1.158132e+01\n",
       "3       1.078619e+08\n",
       "4       3.981824e+05\n",
       "            ...     \n",
       "1993    4.649178e+00\n",
       "1994    9.422852e+05\n",
       "1995    1.901489e+06\n",
       "1996    3.722598e+07\n",
       "1997    4.911054e+05\n",
       "Name: observations, Length: 1967, dtype: float64"
      ]
     },
     "execution_count": 73,
     "metadata": {},
     "output_type": "execute_result"
    }
   ],
   "source": [
    "old_data.apply(np.sum)."
   ]
  },
  {
   "cell_type": "code",
   "execution_count": null,
   "metadata": {},
   "outputs": [],
   "source": [
    "diff_data=(new_data[list(common_idx)].apply(np.sum) - old_data[list(common_idx)].apply(np.sum))"
   ]
  },
  {
   "cell_type": "code",
   "execution_count": null,
   "metadata": {},
   "outputs": [
    {
     "data": {
      "text/plain": [
       "seed\n",
       "2         -0.067223\n",
       "5          0.000000\n",
       "7          0.871116\n",
       "8          2.766995\n",
       "9          0.000000\n",
       "           ...     \n",
       "1992   -6669.889322\n",
       "1993       0.000000\n",
       "1994     -69.448821\n",
       "1995      84.560753\n",
       "1997      -9.165162\n",
       "Name: observations, Length: 1565, dtype: float64"
      ]
     },
     "execution_count": 52,
     "metadata": {},
     "output_type": "execute_result"
    }
   ],
   "source": [
    "diff_data"
   ]
  },
  {
   "cell_type": "code",
   "execution_count": null,
   "metadata": {},
   "outputs": [
    {
     "data": {
      "text/plain": [
       "2.5035740442364275e-16"
      ]
     },
     "execution_count": 100,
     "metadata": {},
     "output_type": "execute_result"
    }
   ],
   "source": [
    "new_data[list(common_idx)].apply(np.sum).min()"
   ]
  },
  {
   "cell_type": "code",
   "execution_count": null,
   "metadata": {},
   "outputs": [
    {
     "data": {
      "text/plain": [
       "1426.6408687085668"
      ]
     },
     "execution_count": 88,
     "metadata": {},
     "output_type": "execute_result"
    }
   ],
   "source": [
    "diff_data[(diff_data>0)].mean()"
   ]
  },
  {
   "cell_type": "code",
   "execution_count": null,
   "metadata": {},
   "outputs": [
    {
     "data": {
      "text/plain": [
       "-1259.3708198524341"
      ]
     },
     "execution_count": 89,
     "metadata": {},
     "output_type": "execute_result"
    }
   ],
   "source": [
    "diff_data[(diff_data<0)].mean()"
   ]
  },
  {
   "cell_type": "code",
   "execution_count": null,
   "metadata": {},
   "outputs": [
    {
     "data": {
      "text/plain": [
       "443"
      ]
     },
     "execution_count": 71,
     "metadata": {},
     "output_type": "execute_result"
    }
   ],
   "source": [
    "(diff_data==0).sum()"
   ]
  },
  {
   "cell_type": "code",
   "execution_count": null,
   "metadata": {},
   "outputs": [
    {
     "data": {
      "text/plain": [
       "<matplotlib.image.AxesImage at 0x7f451bc24f70>"
      ]
     },
     "execution_count": 64,
     "metadata": {},
     "output_type": "execute_result"
    },
    {
     "data": {
      "image/png": "[encoded data removed]",
      "text/plain": [
       "<Figure size 640x480 with 1 Axes>"
      ]
     },
     "metadata": {},
     "output_type": "display_data"
    }
   ],
   "source": [
    "plt.imshow(new_data[5])"
   ]
  },
  {
   "cell_type": "code",
   "execution_count": null,
   "metadata": {},
   "outputs": [
    {
     "data": {
      "text/plain": [
       "<matplotlib.image.AxesImage at 0x7f451bc93280>"
      ]
     },
     "execution_count": 65,
     "metadata": {},
     "output_type": "execute_result"
    },
    {
     "data": {
      "image/png": "[encoded data removed]",
      "text/plain": [
       "<Figure size 640x480 with 1 Axes>"
      ]
     },
     "metadata": {},
     "output_type": "display_data"
    }
   ],
   "source": [
    "plt.imshow(old_data[5])"
   ]
  },
  {
   "cell_type": "code",
   "execution_count": null,
   "metadata": {},
   "outputs": [
    {
     "name": "stderr",
     "output_type": "stream",
     "text": [
      "/tmp/ipykernel_2726469/2392717559.py:1: FutureWarning: Passing a set as an indexer is deprecated and will raise in a future version. Use a list instead.\n",
      "  (old_data[failded_idx].apply(np.sum)).mean()/2**L\n"
     ]
    },
    {
     "data": {
      "text/plain": [
       "0.029026386897097033"
      ]
     },
     "execution_count": 97,
     "metadata": {},
     "output_type": "execute_result"
    }
   ],
   "source": [
    "(old_data[failded_idx].apply(np.sum)).mean()/2**L"
   ]
  },
  {
   "cell_type": "code",
   "execution_count": null,
   "metadata": {},
   "outputs": [
    {
     "name": "stderr",
     "output_type": "stream",
     "text": [
      "/tmp/ipykernel_2726469/1450306642.py:1: FutureWarning: Passing a set as an indexer is deprecated and will raise in a future version. Use a list instead.\n",
      "  (new_data[common_idx].apply(np.sum)).mean()/2**L\n"
     ]
    },
    {
     "data": {
      "text/plain": [
       "0.001472916302787556"
      ]
     },
     "execution_count": 98,
     "metadata": {},
     "output_type": "execute_result"
    }
   ],
   "source": [
    "(new_data[common_idx].apply(np.sum)).mean()/2**L"
   ]
  },
  {
   "cell_type": "code",
   "execution_count": null,
   "metadata": {},
   "outputs": [],
   "source": []
  },
  {
   "cell_type": "code",
   "execution_count": null,
   "metadata": {},
   "outputs": [
    {
     "data": {
      "text/plain": [
       "(array([1574.,   72.,   44.,   15.,   19.,   22.,   15.,   18.,   11.]),\n",
       " array([0.        , 0.00222222, 0.00444444, 0.00666667, 0.00888889,\n",
       "        0.01111111, 0.01333333, 0.01555556, 0.01777778, 0.02      ]),\n",
       " <BarContainer object of 9 artists>)"
      ]
     },
     "execution_count": 23,
     "metadata": {},
     "output_type": "execute_result"
    },
    {
     "data": {
      "image/png": "[encoded data removed]",
      "text/plain": [
       "<Figure size 640x480 with 1 Axes>"
      ]
     },
     "metadata": {},
     "output_type": "display_data"
    }
   ],
   "source": [
    "plt.hist(df_MPS_0_T.xs('coh_mat',level='Metrics').xs(L,level='L').xs(p_ctrl,level='p_ctrl').xs(0.0,level='p_proj')['observations'].apply(np.sum)/2**L,bins=np.linspace(0,0.02,10))"
   ]
  },
  {
   "cell_type": "code",
   "execution_count": null,
   "metadata": {},
   "outputs": [],
   "source": [
    "# L=20\n",
    "p_ctrl_list=[0.5]\n",
    "# p_ctrl_list=[0.4,0.45,0.47,0.49,0.5,0.51,0.53,0.55,0.6]\n",
    "coh={}\n",
    "coh_sem={}\n",
    "for p_ctrl in p_ctrl_list:\n",
    "    coh[L,p_ctrl]=(df_MPS_0_T.xs('coh_mat',level='Metrics').xs(L,level='L').xs(p_ctrl,level='p_ctrl').xs(0.0,level='p_proj')['observations'].apply(np.sum)/2**L).mean()\n",
    "    coh_sem[L,p_ctrl]=(df_MPS_0_T.xs('coh_mat',level='Metrics').xs(L,level='L').xs(p_ctrl,level='p_ctrl').xs(0.0,level='p_proj')['observations'].apply(np.sum)/2**L).sem()"
   ]
  },
  {
   "cell_type": "code",
   "execution_count": null,
   "metadata": {},
   "outputs": [
    {
     "data": {
      "text/plain": [
       "<ErrorbarContainer object of 3 artists>"
      ]
     },
     "execution_count": 12,
     "metadata": {},
     "output_type": "execute_result"
    },
    {
     "data": {
      "image/png": "[encoded data removed]",
      "text/plain": [
       "<Figure size 640x480 with 1 Axes>"
      ]
     },
     "metadata": {},
     "output_type": "display_data"
    }
   ],
   "source": [
    "plt.errorbar(p_ctrl_list,[coh[L,p_ctrl] for p_ctrl in p_ctrl_list],yerr=[coh_sem[L,p_ctrl] for p_ctrl in p_ctrl_list])"
   ]
  },
  {
   "cell_type": "code",
   "execution_count": null,
   "metadata": {},
   "outputs": [
    {
     "data": {
      "text/plain": [
       "{(30, 0.5): 0.0015580612501484702}"
      ]
     },
     "execution_count": 13,
     "metadata": {},
     "output_type": "execute_result"
    }
   ],
   "source": [
    "coh"
   ]
  },
  {
   "cell_type": "code",
   "execution_count": null,
   "metadata": {},
   "outputs": [],
   "source": [
    "with open(f'coherence_L{L}.pickle','wb') as f:\n",
    "    pickle.dump([coh,coh_sem],f)"
   ]
  },
  {
   "cell_type": "code",
   "execution_count": null,
   "metadata": {},
   "outputs": [],
   "source": [
    "fns=set(os.listdir('./MPS_0-1_coherence/'))"
   ]
  },
  {
   "cell_type": "code",
   "execution_count": null,
   "metadata": {},
   "outputs": [
    {
     "data": {
      "text/plain": [
       "4808"
      ]
     },
     "execution_count": 61,
     "metadata": {},
     "output_type": "execute_result"
    }
   ],
   "source": [
    "len(data_MPS_0_T_dict['fn'])"
   ]
  },
  {
   "cell_type": "code",
   "execution_count": null,
   "metadata": {},
   "outputs": [
    {
     "data": {
      "image/png": "[encoded data removed]",
      "text/plain": [
       "<Figure size 640x480 with 2 Axes>"
      ]
     },
     "metadata": {},
     "output_type": "display_data"
    }
   ],
   "source": [
    "visualize_dataset(df_MPS_0_T,params={'Metrics':'coh_mat','T':0,'p_proj':0},xlabel='p_ctrl',ylabel='L')"
   ]
  },
  {
   "cell_type": "code",
   "execution_count": null,
   "metadata": {},
   "outputs": [],
   "source": [
    "p_ctrl=0.4\n",
    "L=10\n",
    "intra_=np.stack(df_MPS_0_T.xs(level='Metrics',key='coh_mat').xs(level='p_ctrl',key=p_ctrl).xs(level='p_proj',key=0.00).xs(level='L',key=L)['observations'].apply(lambda x: np.mean(x,axis=0)).apply(np.diag).tolist())\n",
    "inter_=np.stack(df_MPS_0_T.xs(level='Metrics',key='coh_mat').xs(level='p_ctrl',key=p_ctrl).xs(level='p_proj',key=0.00).xs(level='L',key=L)['observations'].apply(lambda x: np.mean(x,axis=0)).apply(lambda x:x[0]).tolist())\n",
    "fdw_=np.stack(df_MPS_0_T.xs(level='Metrics',key='fdw').xs(level='p_ctrl',key=p_ctrl).xs(level='p_proj',key=0.00).xs(level='L',key=L)['observations'].apply(lambda x: np.mean(x,axis=0)).tolist())"
   ]
  },
  {
   "cell_type": "code",
   "execution_count": null,
   "metadata": {},
   "outputs": [
    {
     "data": {
      "text/plain": [
       "<matplotlib.colorbar.Colorbar at 0x7f7ff5e1bc10>"
      ]
     },
     "execution_count": 44,
     "metadata": {},
     "output_type": "execute_result"
    },
    {
     "data": {
      "image/png": "[encoded data removed]",
      "text/plain": [
       "<Figure size 640x480 with 4 Axes>"
      ]
     },
     "metadata": {},
     "output_type": "display_data"
    }
   ],
   "source": [
    "fig,ax=plt.subplots(1,3)\n",
    "ax[0].imshow(np.log10(fdw_+1e-10),cmap='Blues',vmin=-10,vmax=2)\n",
    "ax[1].imshow(np.log10(intra_+1e-10),cmap='Blues',vmin=-10,vmax=2)\n",
    "im=ax[2].imshow(np.log10(inter_+1e-10),cmap='Blues',vmin=-10,vmax=2)\n",
    "\n",
    "[ax.set_ylim(0,40) for ax in ax]\n",
    "ax[1].set_xlim(2,None)\n",
    "ax[2].set_xlim(1,None)\n",
    "\n",
    "plt.colorbar(im)"
   ]
  },
  {
   "cell_type": "code",
   "execution_count": null,
   "metadata": {},
   "outputs": [
    {
     "data": {
      "text/plain": [
       "<matplotlib.colorbar.Colorbar at 0x7fcf59d94e20>"
      ]
     },
     "execution_count": 14,
     "metadata": {},
     "output_type": "execute_result"
    },
    {
     "data": {
      "image/png": "[encoded data removed]",
      "text/plain": [
       "<Figure size 640x480 with 2 Axes>"
      ]
     },
     "metadata": {},
     "output_type": "display_data"
    }
   ],
   "source": [
    "plt.imshow(np.log10(intra_+1e-5),cmap='Blues')\n",
    "plt.ylim(0,40)\n",
    "plt.xlim(2,None)\n",
    "plt.colorbar()"
   ]
  },
  {
   "cell_type": "code",
   "execution_count": null,
   "metadata": {},
   "outputs": [
    {
     "data": {
      "text/plain": [
       "<matplotlib.colorbar.Colorbar at 0x7f813cf72d40>"
      ]
     },
     "execution_count": 20,
     "metadata": {},
     "output_type": "execute_result"
    },
    {
     "data": {
      "image/png": "[encoded data removed]",
      "text/plain": [
       "<Figure size 640x480 with 2 Axes>"
      ]
     },
     "metadata": {},
     "output_type": "display_data"
    }
   ],
   "source": [
    "plt.imshow(np.log10(inter_+1e-5),cmap='Blues')\n",
    "plt.ylim(0,40)\n",
    "plt.xlim(1,None)\n",
    "plt.colorbar()"
   ]
  },
  {
   "cell_type": "code",
   "execution_count": null,
   "metadata": {},
   "outputs": [],
   "source": [
    "intra_sum=np.stack(df_MPS_0_T.xs(level='Metrics',key='coh_mat').xs(level='p_ctrl',key=0.5).xs(level='p_proj',key=0.00).xs(level='L',key=30)['observations'].apply(lambda x: np.mean(x,axis=0)).apply(np.trace).tolist())"
   ]
  },
  {
   "cell_type": "code",
   "execution_count": null,
   "metadata": {},
   "outputs": [],
   "source": [
    "total_sum=np.stack(df_MPS_0_T.xs(level='Metrics',key='coh_mat').xs(level='p_ctrl',key=0.5).xs(level='p_proj',key=0.00).xs(level='L',key=30)['observations'].apply(lambda x: np.mean(x,axis=0)).apply(np.sum).tolist())"
   ]
  },
  {
   "cell_type": "code",
   "execution_count": null,
   "metadata": {},
   "outputs": [
    {
     "data": {
      "text/plain": [
       "array([-1.00000000e+00,  2.91356427e+07,  1.13505246e+08, ...,\n",
       "        5.81511678e+06,  6.34485467e+06,  5.72471530e+06])"
      ]
     },
     "execution_count": 97,
     "metadata": {},
     "output_type": "execute_result"
    }
   ],
   "source": [
    "total_sum"
   ]
  },
  {
   "cell_type": "code",
   "execution_count": null,
   "metadata": {},
   "outputs": [
    {
     "name": "stdout",
     "output_type": "stream",
     "text": [
      "10\n",
      "20\n"
     ]
    }
   ],
   "source": [
    "data_list=[]\n",
    "for L in [10,20]:\n",
    "    print(L)\n",
    "    intra_sum=np.stack(df_MPS_0_T.xs(level='Metrics',key='coh_mat').xs(level='p_ctrl',key=0.5).xs(level='p_proj',key=0.00).xs(level='L',key=L)['observations'].apply(lambda x: np.mean(x,axis=0)).apply(np.trace).tolist())\n",
    "    total_sum=np.stack(df_MPS_0_T.xs(level='Metrics',key='coh_mat').xs(level='p_ctrl',key=0.5).xs(level='p_proj',key=0.00).xs(level='L',key=L)['observations'].apply(lambda x: np.mean(x,axis=0)).apply(np.sum).tolist())\n",
    "    data_list.append((total_sum-intra_sum))\n",
    "    # data_list.append((total_sum-intra_sum)/total_sum)"
   ]
  },
  {
   "cell_type": "code",
   "execution_count": null,
   "metadata": {},
   "outputs": [
    {
     "data": {
      "text/plain": [
       "array([7961.52950012, 7705.48183543, 7688.59755396, 7527.91266765,\n",
       "       7690.46731413, 7863.73205012, 7657.34232902, 8104.40830362,\n",
       "       8200.45355945, 8599.75844877])"
      ]
     },
     "execution_count": 48,
     "metadata": {},
     "output_type": "execute_result"
    }
   ],
   "source": [
    "intra_sum[-10:]"
   ]
  },
  {
   "cell_type": "code",
   "execution_count": null,
   "metadata": {},
   "outputs": [
    {
     "data": {
      "text/plain": [
       "array([21959.9679025 , 21273.70358014, 21165.39002693, 20722.72193389,\n",
       "       21214.94372481, 21211.78699366, 20768.28389788, 22124.86452058,\n",
       "       22399.32335391, 23460.12430596])"
      ]
     },
     "execution_count": 49,
     "metadata": {},
     "output_type": "execute_result"
    }
   ],
   "source": [
    "total_sum[-10:]"
   ]
  },
  {
   "cell_type": "code",
   "execution_count": null,
   "metadata": {},
   "outputs": [
    {
     "data": {
      "text/plain": [
       "<matplotlib.legend.Legend at 0x7f7ff5ef7f10>"
      ]
     },
     "execution_count": 50,
     "metadata": {},
     "output_type": "execute_result"
    },
    {
     "data": {
      "image/png": "[encoded data removed]",
      "text/plain": [
       "<Figure size 640x480 with 1 Axes>"
      ]
     },
     "metadata": {},
     "output_type": "display_data"
    }
   ],
   "source": [
    "fig,ax=plt.subplots()\n",
    "z=1\n",
    "for L,data in zip([20,10],data_list[::-1]):\n",
    "    # intra_sum=np.stack(df_MPS_0_T.xs(level='Metrics',key='coh_mat').xs(level='p_ctrl',key=0.5).xs(level='p_proj',key=0.00).xs(level='L',key=L)['observations'].apply(lambda x: np.mean(x,axis=0)).apply(lambda x: contract(x,[0,0])).tolist())\n",
    "    # total_sum=np.stack(df_MPS_0_T.xs(level='Metrics',key='coh_mat').xs(level='p_ctrl',key=0.5).xs(level='p_proj',key=0.00).xs(level='L',key=L)['observations'].apply(lambda x: np.mean(x,axis=0)).apply(np.sum).tolist())\n",
    "    # data = (total_sum-intra_sum)/total_sum\n",
    "    t_list= np.arange(2*L**2+1)\n",
    "    \n",
    "    ax.plot(np.sqrt(t_list/L**z),data,label='L={}'.format(L))\n",
    "ax.legend()\n",
    "# ax.set_xlim(0,40)"
   ]
  },
  {
   "cell_type": "code",
   "execution_count": null,
   "metadata": {},
   "outputs": [
    {
     "ename": "NameError",
     "evalue": "name 'data_list' is not defined",
     "output_type": "error",
     "traceback": [
      "\u001b[0;31m---------------------------------------------------------------------------\u001b[0m",
      "\u001b[0;31mNameError\u001b[0m                                 Traceback (most recent call last)",
      "Cell \u001b[0;32mIn[10], line 3\u001b[0m\n\u001b[1;32m      1\u001b[0m fig,ax\u001b[38;5;241m=\u001b[39mplt\u001b[38;5;241m.\u001b[39msubplots()\n\u001b[1;32m      2\u001b[0m z\u001b[38;5;241m=\u001b[39m\u001b[38;5;241m1\u001b[39m\n\u001b[0;32m----> 3\u001b[0m \u001b[38;5;28;01mfor\u001b[39;00m L,data \u001b[38;5;129;01min\u001b[39;00m \u001b[38;5;28mzip\u001b[39m([\u001b[38;5;241m30\u001b[39m,\u001b[38;5;241m20\u001b[39m,\u001b[38;5;241m10\u001b[39m],\u001b[43mdata_list\u001b[49m[::\u001b[38;5;241m-\u001b[39m\u001b[38;5;241m1\u001b[39m]):\n\u001b[1;32m      4\u001b[0m     intra_sum\u001b[38;5;241m=\u001b[39mnp\u001b[38;5;241m.\u001b[39mstack(df_MPS_0_T\u001b[38;5;241m.\u001b[39mxs(level\u001b[38;5;241m=\u001b[39m\u001b[38;5;124m'\u001b[39m\u001b[38;5;124mMetrics\u001b[39m\u001b[38;5;124m'\u001b[39m,key\u001b[38;5;241m=\u001b[39m\u001b[38;5;124m'\u001b[39m\u001b[38;5;124mcoh_mat\u001b[39m\u001b[38;5;124m'\u001b[39m)\u001b[38;5;241m.\u001b[39mxs(level\u001b[38;5;241m=\u001b[39m\u001b[38;5;124m'\u001b[39m\u001b[38;5;124mp_ctrl\u001b[39m\u001b[38;5;124m'\u001b[39m,key\u001b[38;5;241m=\u001b[39m\u001b[38;5;241m0.5\u001b[39m)\u001b[38;5;241m.\u001b[39mxs(level\u001b[38;5;241m=\u001b[39m\u001b[38;5;124m'\u001b[39m\u001b[38;5;124mp_proj\u001b[39m\u001b[38;5;124m'\u001b[39m,key\u001b[38;5;241m=\u001b[39m\u001b[38;5;241m0.00\u001b[39m)\u001b[38;5;241m.\u001b[39mxs(level\u001b[38;5;241m=\u001b[39m\u001b[38;5;124m'\u001b[39m\u001b[38;5;124mL\u001b[39m\u001b[38;5;124m'\u001b[39m,key\u001b[38;5;241m=\u001b[39mL)[\u001b[38;5;124m'\u001b[39m\u001b[38;5;124mobservations\u001b[39m\u001b[38;5;124m'\u001b[39m]\u001b[38;5;241m.\u001b[39mapply(\u001b[38;5;28;01mlambda\u001b[39;00m x: np\u001b[38;5;241m.\u001b[39mmean(x,axis\u001b[38;5;241m=\u001b[39m\u001b[38;5;241m0\u001b[39m))\u001b[38;5;241m.\u001b[39mapply(\u001b[38;5;28;01mlambda\u001b[39;00m x: contract(x,[\u001b[38;5;241m0\u001b[39m,\u001b[38;5;241m0\u001b[39m]))\u001b[38;5;241m.\u001b[39mtolist())\n\u001b[1;32m      5\u001b[0m     total_sum\u001b[38;5;241m=\u001b[39mnp\u001b[38;5;241m.\u001b[39mstack(df_MPS_0_T\u001b[38;5;241m.\u001b[39mxs(level\u001b[38;5;241m=\u001b[39m\u001b[38;5;124m'\u001b[39m\u001b[38;5;124mMetrics\u001b[39m\u001b[38;5;124m'\u001b[39m,key\u001b[38;5;241m=\u001b[39m\u001b[38;5;124m'\u001b[39m\u001b[38;5;124mcoh_mat\u001b[39m\u001b[38;5;124m'\u001b[39m)\u001b[38;5;241m.\u001b[39mxs(level\u001b[38;5;241m=\u001b[39m\u001b[38;5;124m'\u001b[39m\u001b[38;5;124mp_ctrl\u001b[39m\u001b[38;5;124m'\u001b[39m,key\u001b[38;5;241m=\u001b[39m\u001b[38;5;241m0.5\u001b[39m)\u001b[38;5;241m.\u001b[39mxs(level\u001b[38;5;241m=\u001b[39m\u001b[38;5;124m'\u001b[39m\u001b[38;5;124mp_proj\u001b[39m\u001b[38;5;124m'\u001b[39m,key\u001b[38;5;241m=\u001b[39m\u001b[38;5;241m0.00\u001b[39m)\u001b[38;5;241m.\u001b[39mxs(level\u001b[38;5;241m=\u001b[39m\u001b[38;5;124m'\u001b[39m\u001b[38;5;124mL\u001b[39m\u001b[38;5;124m'\u001b[39m,key\u001b[38;5;241m=\u001b[39mL)[\u001b[38;5;124m'\u001b[39m\u001b[38;5;124mobservations\u001b[39m\u001b[38;5;124m'\u001b[39m]\u001b[38;5;241m.\u001b[39mapply(\u001b[38;5;28;01mlambda\u001b[39;00m x: np\u001b[38;5;241m.\u001b[39mmean(x,axis\u001b[38;5;241m=\u001b[39m\u001b[38;5;241m0\u001b[39m))\u001b[38;5;241m.\u001b[39mapply(np\u001b[38;5;241m.\u001b[39msum)\u001b[38;5;241m.\u001b[39mtolist())\n",
      "\u001b[0;31mNameError\u001b[0m: name 'data_list' is not defined"
     ]
    },
    {
     "data": {
      "image/png": "[encoded data removed]",
      "text/plain": [
       "<Figure size 640x480 with 1 Axes>"
      ]
     },
     "metadata": {},
     "output_type": "display_data"
    }
   ],
   "source": [
    "fig,ax=plt.subplots()\n",
    "z=1\n",
    "for L,data in zip([30,20,10],data_list[::-1]):\n",
    "    intra_sum=np.stack(df_MPS_0_T.xs(level='Metrics',key='coh_mat').xs(level='p_ctrl',key=0.5).xs(level='p_proj',key=0.00).xs(level='L',key=L)['observations'].apply(lambda x: np.mean(x,axis=0)).apply(lambda x: contract(x,[0,0])).tolist())\n",
    "    total_sum=np.stack(df_MPS_0_T.xs(level='Metrics',key='coh_mat').xs(level='p_ctrl',key=0.5).xs(level='p_proj',key=0.00).xs(level='L',key=L)['observations'].apply(lambda x: np.mean(x,axis=0)).apply(np.sum).tolist())\n",
    "    data = (total_sum-intra_sum)/total_sum\n",
    "    t_list= np.arange(2*L**2+1)\n",
    "    \n",
    "    ax.plot(np.sqrt(t_list/L**z),data,label='L={}'.format(L))\n",
    "ax.legend()\n",
    "# ax.set_xlim(0,40)"
   ]
  },
  {
   "cell_type": "code",
   "execution_count": null,
   "metadata": {},
   "outputs": [],
   "source": []
  },
  {
   "cell_type": "code",
   "execution_count": null,
   "metadata": {},
   "outputs": [],
   "source": []
  },
  {
   "cell_type": "markdown",
   "metadata": {},
   "source": [
    "# Draft "
   ]
  },
  {
   "cell_type": "code",
   "execution_count": null,
   "metadata": {},
   "outputs": [],
   "source": []
  },
  {
   "cell_type": "code",
   "execution_count": null,
   "metadata": {},
   "outputs": [],
   "source": [
    "approx=df_MPS_0_T.xs(0.47,level='p_ctrl').xs('coh_mat',level='Metrics').xs(1200,level='maxbond')['observations']"
   ]
  },
  {
   "cell_type": "code",
   "execution_count": null,
   "metadata": {},
   "outputs": [],
   "source": [
    "approx_4000=df_MPS_0_T.xs(0.47,level='p_ctrl').xs('coh_mat',level='Metrics').xs(4000,level='maxbond')['observations']"
   ]
  },
  {
   "cell_type": "code",
   "execution_count": null,
   "metadata": {},
   "outputs": [
    {
     "data": {
      "text/plain": [
       "15.960871375910285"
      ]
     },
     "metadata": {},
     "output_type": "display_data"
    }
   ],
   "source": [
    "np.log10(9138425505475408.0)"
   ]
  },
  {
   "cell_type": "code",
   "execution_count": null,
   "metadata": {},
   "outputs": [
    {
     "data": {
      "text/plain": [
       "Metrics  t    L   p_proj  maxbond\n",
       "coh_mat  2.0  40  0.0     1200         9138425505475408.0\n",
       "ranks    2.0  40  0.0     1200                       1220\n",
       "errors   2.0  40  0.0     1200       9.68699447833017e-07\n",
       "Name: observations, dtype: object"
      ]
     },
     "metadata": {},
     "output_type": "display_data"
    }
   ],
   "source": [
    "df_MPS_0_T.xs(0.47,level='p_ctrl').xs(656,level='seed')['observations']"
   ]
  },
  {
   "cell_type": "code",
   "execution_count": null,
   "metadata": {},
   "outputs": [
    {
     "data": {
      "text/plain": [
       "t    L   p_proj  seed\n",
       "2.0  40  0.0     750                    0.0\n",
       "                 676                    0.0\n",
       "                 461                    0.0\n",
       "                 745                    0.0\n",
       "                 561                    0.0\n",
       "                                ...        \n",
       "                 257     26459752113.204765\n",
       "                 138     32151823751.701378\n",
       "                 576     57270979652.397408\n",
       "                 6        63632278582.96785\n",
       "                 38      85057658749.024414\n",
       "Name: observations, Length: 556, dtype: object"
      ]
     },
     "metadata": {},
     "output_type": "display_data"
    }
   ],
   "source": [
    "(approx_4000 + approx).sort_values().dropna()"
   ]
  },
  {
   "cell_type": "code",
   "execution_count": null,
   "metadata": {},
   "outputs": [],
   "source": [
    "approx_rank=df_MPS_0_T.xs(0.5,level='p_ctrl').xs('ranks',level='Metrics').xs(1200,level='maxbond')['observations']"
   ]
  },
  {
   "cell_type": "code",
   "execution_count": null,
   "metadata": {},
   "outputs": [],
   "source": [
    "approx_err=df_MPS_0_T.xs(0.5,level='p_ctrl').xs('errors',level='Metrics').xs(1200,level='maxbond')['observations']"
   ]
  },
  {
   "cell_type": "code",
   "execution_count": null,
   "metadata": {},
   "outputs": [
    {
     "data": {
      "text/plain": [
       "408"
      ]
     },
     "metadata": {},
     "output_type": "display_data"
    }
   ],
   "source": [
    "(approx_rank>=1220).sum()"
   ]
  },
  {
   "cell_type": "code",
   "execution_count": null,
   "metadata": {},
   "outputs": [],
   "source": [
    "approx_rank, approx, approx_err"
   ]
  },
  {
   "cell_type": "code",
   "execution_count": null,
   "metadata": {},
   "outputs": [
    {
     "data": {
      "text/plain": [
       "Metrics  t    L   p_proj\n",
       "coh_mat  2.0  40  0.0         14736202.101611458\n",
       "ranks    2.0  40  0.0                       1201\n",
       "errors   2.0  40  0.0       7.95050085236933e-14\n",
       "Name: observations, dtype: object"
      ]
     },
     "metadata": {},
     "output_type": "display_data"
    }
   ],
   "source": [
    "df_MPS_0_T.xs(0.5,level='p_ctrl').xs(1200,level='maxbond').xs(32,level='seed')['observations']"
   ]
  },
  {
   "cell_type": "code",
   "execution_count": null,
   "metadata": {},
   "outputs": [
    {
     "data": {
      "text/plain": [
       "Metrics  t    L   p_proj\n",
       "coh_mat  2.0  40  0.0          26873367.955452707\n",
       "ranks    2.0  40  0.0                        1167\n",
       "errors   2.0  40  0.0       8.885823489110874e-17\n",
       "Name: observations, dtype: object"
      ]
     },
     "metadata": {},
     "output_type": "display_data"
    }
   ],
   "source": [
    "df_MPS_0_T.xs(0.47,level='p_ctrl').xs(1200,level='maxbond').xs(65,level='seed')['observations']"
   ]
  },
  {
   "cell_type": "code",
   "execution_count": null,
   "metadata": {},
   "outputs": [
    {
     "data": {
      "text/plain": [
       "15.914556802296845"
      ]
     },
     "metadata": {},
     "output_type": "display_data"
    }
   ],
   "source": [
    "np.log10(np.mean((np.vstack(approx).flatten())))"
   ]
  },
  {
   "cell_type": "code",
   "execution_count": null,
   "metadata": {},
   "outputs": [
    {
     "data": {
      "text/plain": [
       "11.936289707925024"
      ]
     },
     "metadata": {},
     "output_type": "display_data"
    }
   ],
   "source": [
    "np.log10(np.pi/4*(2**40-1))"
   ]
  },
  {
   "cell_type": "code",
   "execution_count": null,
   "metadata": {},
   "outputs": [
    {
     "data": {
      "text/plain": [
       "t    L   p_proj  seed\n",
       "2.0  40  0.0     0       3900.3254937328306\n",
       "                 1       213.42980847548324\n",
       "                 2        760473549.4957591\n",
       "                 3       1104808.5030269402\n",
       "                 4        6003125.813362147\n",
       "                                ...        \n",
       "                 1995    32138654365.499634\n",
       "                 1996    16119206.591923043\n",
       "                 1997      383193217.595922\n",
       "                 1998     780.4100452408494\n",
       "                 1999     1.431642128257594\n",
       "Name: observations, Length: 2000, dtype: object"
      ]
     },
     "metadata": {},
     "output_type": "display_data"
    }
   ],
   "source": [
    "(approx)"
   ]
  },
  {
   "cell_type": "code",
   "execution_count": null,
   "metadata": {},
   "outputs": [
    {
     "data": {
      "text/plain": [
       "15.960871375910285"
      ]
     },
     "metadata": {},
     "output_type": "display_data"
    }
   ],
   "source": [
    "np.log10(9138425505475408.0)"
   ]
  },
  {
   "cell_type": "code",
   "execution_count": null,
   "metadata": {},
   "outputs": [
    {
     "data": {
      "text/plain": [
       "t    L   p_proj  seed\n",
       "2.0  40  0.0     656     9138425505475408.0\n",
       "                 32      4397419776328138.5\n",
       "                 1980    2583579033328542.5\n",
       "                 1525    160042891996789.66\n",
       "                 341     154810427641939.28\n",
       "                 527     116117435090734.83\n",
       "                 547      92213365506046.92\n",
       "                 1650     74396951568153.48\n",
       "                 916      73191438349813.03\n",
       "                 217      22795131491081.93\n",
       "                 712     13262549744534.312\n",
       "                 485     12756541029171.445\n",
       "                 1933     8710914240042.575\n",
       "                 960      6691462368616.709\n",
       "                 1105     5486573612896.012\n",
       "                 1139     3990958615264.644\n",
       "                 1350     1304232757599.495\n",
       "                 1351     1274646908481.872\n",
       "                 1930     1188720773394.444\n",
       "                 565     1056466839309.0255\n",
       "Name: observations, dtype: object"
      ]
     },
     "metadata": {},
     "output_type": "display_data"
    }
   ],
   "source": [
    "(approx.sort_values()[::-1])[:20]"
   ]
  },
  {
   "cell_type": "code",
   "execution_count": null,
   "metadata": {},
   "outputs": [
    {
     "data": {
      "text/plain": [
       "array([7.10542736e-15, 7.99360578e-15, 4.54536382e-01, ...,\n",
       "       2.58357903e+15, 4.39741978e+15, 9.13842551e+15])"
      ]
     },
     "metadata": {},
     "output_type": "display_data"
    }
   ],
   "source": []
  },
  {
   "cell_type": "code",
   "execution_count": null,
   "metadata": {},
   "outputs": [
    {
     "data": {
      "text/plain": [
       "(array([0., 0., 0., ..., 0., 0., 0.]),\n",
       " array([-14.1484098 , -14.09725727,  -0.34243135, ...,  15.41222175,\n",
       "         15.64319793,  15.96087138]))"
      ]
     },
     "metadata": {},
     "output_type": "display_data"
    }
   ],
   "source": [
    "np.zeros(approx.shape[0]),np.log10(np.hstack(approx.sort_values()))"
   ]
  },
  {
   "cell_type": "code",
   "execution_count": null,
   "metadata": {},
   "outputs": [],
   "source": [
    "approx=df_MPS_0_T.xs(0.70,level='p_ctrl').xs('coh_mat',level='Metrics').xs(4000,level='maxbond')['observations']"
   ]
  },
  {
   "cell_type": "code",
   "execution_count": null,
   "metadata": {},
   "outputs": [
    {
     "name": "stderr",
     "output_type": "stream",
     "text": [
      "/tmp/ipykernel_1814859/537795726.py:1: RuntimeWarning: divide by zero encountered in log10\n",
      "  plt.scatter(np.log10(np.hstack(approx.sort_values())),np.zeros(approx.shape[0]))\n",
      "/tmp/ipykernel_1814859/537795726.py:1: RuntimeWarning: invalid value encountered in log10\n",
      "  plt.scatter(np.log10(np.hstack(approx.sort_values())),np.zeros(approx.shape[0]))\n"
     ]
    },
    {
     "data": {
      "text/plain": [
       "<matplotlib.lines.Line2D at 0x7f62e91ec2e0>"
      ]
     },
     "metadata": {},
     "output_type": "display_data"
    },
    {
     "data": {
      "image/png": "[encoded data removed]",
      "text/plain": [
       "<Figure size 640x480 with 1 Axes>"
      ]
     },
     "metadata": {},
     "output_type": "display_data"
    }
   ],
   "source": [
    "plt.scatter(np.log10(np.hstack(approx.sort_values())),np.zeros(approx.shape[0]))\n",
    "plt.xlim(0,None)\n",
    "plt.axvline(x=np.log10(np.pi/4*(2**L-1)),color='r')"
   ]
  },
  {
   "cell_type": "code",
   "execution_count": null,
   "metadata": {},
   "outputs": [
    {
     "data": {
      "text/plain": [
       "107791632279.2782"
      ]
     },
     "metadata": {},
     "output_type": "display_data"
    }
   ],
   "source": [
    "107791632279.2782"
   ]
  },
  {
   "cell_type": "code",
   "execution_count": null,
   "metadata": {},
   "outputs": [
    {
     "data": {
      "text/plain": [
       "(array([   2.,    0.,    0.,    0.,    3.,   68.,  248., 1051.,  588.,\n",
       "          12.]),\n",
       " array([-14.1484098 , -11.13748168,  -8.12655356,  -5.11562544,\n",
       "         -2.10469733,   0.90623079,   3.91715891,   6.92808702,\n",
       "          9.93901514,  12.94994326,  15.96087138]),\n",
       " <BarContainer object of 10 artists>)"
      ]
     },
     "metadata": {},
     "output_type": "display_data"
    },
    {
     "data": {
      "image/png": "[encoded data removed]",
      "text/plain": [
       "<Figure size 640x480 with 1 Axes>"
      ]
     },
     "metadata": {},
     "output_type": "display_data"
    }
   ],
   "source": [
    "(plt.hist(np.log10(np.vstack(approx).flatten())))"
   ]
  },
  {
   "cell_type": "code",
   "execution_count": null,
   "metadata": {},
   "outputs": [],
   "source": [
    "exact=df_MPS_0_T_ed.xs(0.5,level='p_ctrl').xs('coh_mat',level='Metrics').xs(-1,level='maxbond')"
   ]
  },
  {
   "cell_type": "code",
   "execution_count": null,
   "metadata": {},
   "outputs": [
    {
     "data": {
      "text/html": [
       "<div>\n",
       "<style scoped>\n",
       "    .dataframe tbody tr th:only-of-type {\n",
       "        vertical-align: middle;\n",
       "    }\n",
       "\n",
       "    .dataframe tbody tr th {\n",
       "        vertical-align: top;\n",
       "    }\n",
       "\n",
       "    .dataframe thead th {\n",
       "        text-align: right;\n",
       "    }\n",
       "</style>\n",
       "<table border=\"1\" class=\"dataframe\">\n",
       "  <thead>\n",
       "    <tr style=\"text-align: right;\">\n",
       "      <th></th>\n",
       "      <th></th>\n",
       "      <th></th>\n",
       "      <th></th>\n",
       "      <th>observations</th>\n",
       "    </tr>\n",
       "    <tr>\n",
       "      <th>t</th>\n",
       "      <th>L</th>\n",
       "      <th>p_proj</th>\n",
       "      <th>seed</th>\n",
       "      <th></th>\n",
       "    </tr>\n",
       "  </thead>\n",
       "  <tbody>\n",
       "    <tr>\n",
       "      <th rowspan=\"11\" valign=\"top\">2.0</th>\n",
       "      <th rowspan=\"11\" valign=\"top\">30</th>\n",
       "      <th rowspan=\"11\" valign=\"top\">0.0</th>\n",
       "      <th>0</th>\n",
       "      <td>-1.496993</td>\n",
       "    </tr>\n",
       "    <tr>\n",
       "      <th>1</th>\n",
       "      <td>0.74592</td>\n",
       "    </tr>\n",
       "    <tr>\n",
       "      <th>2</th>\n",
       "      <td>0.0</td>\n",
       "    </tr>\n",
       "    <tr>\n",
       "      <th>3</th>\n",
       "      <td>-56.458942</td>\n",
       "    </tr>\n",
       "    <tr>\n",
       "      <th>4</th>\n",
       "      <td>0.0</td>\n",
       "    </tr>\n",
       "    <tr>\n",
       "      <th>...</th>\n",
       "      <td>...</td>\n",
       "    </tr>\n",
       "    <tr>\n",
       "      <th>1995</th>\n",
       "      <td>NaN</td>\n",
       "    </tr>\n",
       "    <tr>\n",
       "      <th>1996</th>\n",
       "      <td>0.001169</td>\n",
       "    </tr>\n",
       "    <tr>\n",
       "      <th>1997</th>\n",
       "      <td>0.0</td>\n",
       "    </tr>\n",
       "    <tr>\n",
       "      <th>1998</th>\n",
       "      <td>-0.0</td>\n",
       "    </tr>\n",
       "    <tr>\n",
       "      <th>1999</th>\n",
       "      <td>0.0</td>\n",
       "    </tr>\n",
       "  </tbody>\n",
       "</table>\n",
       "<p>2000 rows × 1 columns</p>\n",
       "</div>"
      ],
      "text/plain": [
       "                   observations\n",
       "t   L  p_proj seed             \n",
       "2.0 30 0.0    0       -1.496993\n",
       "              1         0.74592\n",
       "              2             0.0\n",
       "              3      -56.458942\n",
       "              4             0.0\n",
       "...                         ...\n",
       "              1995          NaN\n",
       "              1996     0.001169\n",
       "              1997          0.0\n",
       "              1998         -0.0\n",
       "              1999          0.0\n",
       "\n",
       "[2000 rows x 1 columns]"
      ]
     },
     "metadata": {},
     "output_type": "display_data"
    }
   ],
   "source": [
    "(approx)-exact"
   ]
  },
  {
   "cell_type": "code",
   "execution_count": null,
   "metadata": {},
   "outputs": [],
   "source": [
    "maxbond=4000\n",
    "p=0.5\n",
    "abs_mps_=(df_MPS_0_T.xs('coh_mat',level='Metrics').xs(t,level='t').xs(p,level='p_ctrl').xs(L,level='L').xs(0.0,level='p_proj').xs(maxbond,level='maxbond')+1).applymap(np.sqrt)\n",
    "abs_mps_error_=df_MPS_0_T.xs('errors',level='Metrics').xs(t,level='t').xs(p,level='p_ctrl').xs(L,level='L').xs(0.0,level='p_proj').xs(maxbond,level='maxbond')\n",
    "est_error_ =  2 * abs_mps_ * abs_mps_error_ * 2**L"
   ]
  },
  {
   "cell_type": "code",
   "execution_count": null,
   "metadata": {},
   "outputs": [
    {
     "data": {
      "text/html": [
       "<div>\n",
       "<style scoped>\n",
       "    .dataframe tbody tr th:only-of-type {\n",
       "        vertical-align: middle;\n",
       "    }\n",
       "\n",
       "    .dataframe tbody tr th {\n",
       "        vertical-align: top;\n",
       "    }\n",
       "\n",
       "    .dataframe thead th {\n",
       "        text-align: right;\n",
       "    }\n",
       "</style>\n",
       "<table border=\"1\" class=\"dataframe\">\n",
       "  <thead>\n",
       "    <tr style=\"text-align: right;\">\n",
       "      <th></th>\n",
       "      <th>observations</th>\n",
       "    </tr>\n",
       "    <tr>\n",
       "      <th>seed</th>\n",
       "      <th></th>\n",
       "    </tr>\n",
       "  </thead>\n",
       "  <tbody>\n",
       "    <tr>\n",
       "      <th>0</th>\n",
       "      <td>330051.098346</td>\n",
       "    </tr>\n",
       "    <tr>\n",
       "      <th>1</th>\n",
       "      <td>17348.366817</td>\n",
       "    </tr>\n",
       "    <tr>\n",
       "      <th>2</th>\n",
       "      <td>0.0</td>\n",
       "    </tr>\n",
       "    <tr>\n",
       "      <th>3</th>\n",
       "      <td>382105.108169</td>\n",
       "    </tr>\n",
       "    <tr>\n",
       "      <th>4</th>\n",
       "      <td>0.000162</td>\n",
       "    </tr>\n",
       "    <tr>\n",
       "      <th>...</th>\n",
       "      <td>...</td>\n",
       "    </tr>\n",
       "    <tr>\n",
       "      <th>1991</th>\n",
       "      <td>0.000001</td>\n",
       "    </tr>\n",
       "    <tr>\n",
       "      <th>1996</th>\n",
       "      <td>18.737614</td>\n",
       "    </tr>\n",
       "    <tr>\n",
       "      <th>1997</th>\n",
       "      <td>0.00041</td>\n",
       "    </tr>\n",
       "    <tr>\n",
       "      <th>1998</th>\n",
       "      <td>0.001292</td>\n",
       "    </tr>\n",
       "    <tr>\n",
       "      <th>1999</th>\n",
       "      <td>0.000476</td>\n",
       "    </tr>\n",
       "  </tbody>\n",
       "</table>\n",
       "<p>1960 rows × 1 columns</p>\n",
       "</div>"
      ],
      "text/plain": [
       "       observations\n",
       "seed               \n",
       "0     330051.098346\n",
       "1      17348.366817\n",
       "2               0.0\n",
       "3     382105.108169\n",
       "4          0.000162\n",
       "...             ...\n",
       "1991       0.000001\n",
       "1996      18.737614\n",
       "1997        0.00041\n",
       "1998       0.001292\n",
       "1999       0.000476\n",
       "\n",
       "[1960 rows x 1 columns]"
      ]
     },
     "metadata": {},
     "output_type": "display_data"
    }
   ],
   "source": [
    "(est_error_)"
   ]
  },
  {
   "cell_type": "code",
   "execution_count": null,
   "metadata": {},
   "outputs": [
    {
     "data": {
      "text/plain": [
       "array([1848,  630, 1762, 2504, 2963, 1134,  255,   17, 1305, 1223, 1783,\n",
       "       2511, 3253, 1463,  721, 2216,  595,  525, 2763, 1973])"
      ]
     },
     "metadata": {},
     "output_type": "display_data"
    }
   ],
   "source": [
    "(df_MPS_0_T.xs(level='Metrics',key='coh_mat')['observations']).values.argsort()[::-1][:20]"
   ]
  },
  {
   "cell_type": "code",
   "execution_count": null,
   "metadata": {},
   "outputs": [
    {
     "data": {
      "text/plain": [
       "(2.0, 0.5, 50, 0.0, 4000, 639)"
      ]
     },
     "metadata": {},
     "output_type": "display_data"
    }
   ],
   "source": [
    "(df_MPS_0_T.xs(level='Metrics',key='coh_mat')['observations']).index[1848]"
   ]
  },
  {
   "cell_type": "code",
   "execution_count": null,
   "metadata": {},
   "outputs": [
    {
     "data": {
      "text/plain": [
       "array(2.78729065e+12)"
      ]
     },
     "metadata": {},
     "output_type": "display_data"
    }
   ],
   "source": [
    "(df_MPS_0_T.xs(level='Metrics',key='coh_mat')['observations']).iloc[1848]"
   ]
  },
  {
   "cell_type": "code",
   "execution_count": null,
   "metadata": {},
   "outputs": [
    {
     "data": {
      "text/plain": [
       "5.22659333050251"
      ]
     },
     "metadata": {},
     "output_type": "display_data"
    }
   ],
   "source": [
    "5612011856/1024**3"
   ]
  },
  {
   "cell_type": "code",
   "execution_count": null,
   "metadata": {},
   "outputs": [
    {
     "data": {
      "text/html": [
       "<div>\n",
       "<style scoped>\n",
       "    .dataframe tbody tr th:only-of-type {\n",
       "        vertical-align: middle;\n",
       "    }\n",
       "\n",
       "    .dataframe tbody tr th {\n",
       "        vertical-align: top;\n",
       "    }\n",
       "\n",
       "    .dataframe thead th {\n",
       "        text-align: right;\n",
       "    }\n",
       "</style>\n",
       "<table border=\"1\" class=\"dataframe\">\n",
       "  <thead>\n",
       "    <tr style=\"text-align: right;\">\n",
       "      <th></th>\n",
       "      <th></th>\n",
       "      <th></th>\n",
       "      <th></th>\n",
       "      <th></th>\n",
       "      <th></th>\n",
       "      <th>observations</th>\n",
       "    </tr>\n",
       "    <tr>\n",
       "      <th>t</th>\n",
       "      <th>p_ctrl</th>\n",
       "      <th>L</th>\n",
       "      <th>p_proj</th>\n",
       "      <th>maxbond</th>\n",
       "      <th>seed</th>\n",
       "      <th></th>\n",
       "    </tr>\n",
       "  </thead>\n",
       "  <tbody>\n",
       "    <tr>\n",
       "      <th rowspan=\"11\" valign=\"top\">2.0</th>\n",
       "      <th>0.50</th>\n",
       "      <th>10</th>\n",
       "      <th>0.0</th>\n",
       "      <th>30</th>\n",
       "      <th>0</th>\n",
       "      <td>2.0481510814759507</td>\n",
       "    </tr>\n",
       "    <tr>\n",
       "      <th>0.55</th>\n",
       "      <th>10</th>\n",
       "      <th>0.0</th>\n",
       "      <th>30</th>\n",
       "      <th>0</th>\n",
       "      <td>2.833342910320831</td>\n",
       "    </tr>\n",
       "    <tr>\n",
       "      <th>0.60</th>\n",
       "      <th>10</th>\n",
       "      <th>0.0</th>\n",
       "      <th>30</th>\n",
       "      <th>0</th>\n",
       "      <td>3.800552673174013</td>\n",
       "    </tr>\n",
       "    <tr>\n",
       "      <th>0.70</th>\n",
       "      <th>10</th>\n",
       "      <th>0.0</th>\n",
       "      <th>30</th>\n",
       "      <th>0</th>\n",
       "      <td>2.4409065892871187</td>\n",
       "    </tr>\n",
       "    <tr>\n",
       "      <th>0.80</th>\n",
       "      <th>10</th>\n",
       "      <th>0.0</th>\n",
       "      <th>30</th>\n",
       "      <th>0</th>\n",
       "      <td>10.404217922915192</td>\n",
       "    </tr>\n",
       "    <tr>\n",
       "      <th>...</th>\n",
       "      <th>...</th>\n",
       "      <th>...</th>\n",
       "      <th>...</th>\n",
       "      <th>...</th>\n",
       "      <td>...</td>\n",
       "    </tr>\n",
       "    <tr>\n",
       "      <th>0.55</th>\n",
       "      <th>10</th>\n",
       "      <th>0.0</th>\n",
       "      <th>30</th>\n",
       "      <th>1999</th>\n",
       "      <td>2.267210006862279</td>\n",
       "    </tr>\n",
       "    <tr>\n",
       "      <th>0.60</th>\n",
       "      <th>10</th>\n",
       "      <th>0.0</th>\n",
       "      <th>30</th>\n",
       "      <th>1999</th>\n",
       "      <td>2.7766482467953413</td>\n",
       "    </tr>\n",
       "    <tr>\n",
       "      <th>0.70</th>\n",
       "      <th>10</th>\n",
       "      <th>0.0</th>\n",
       "      <th>30</th>\n",
       "      <th>1999</th>\n",
       "      <td>-4.440892098500626e-16</td>\n",
       "    </tr>\n",
       "    <tr>\n",
       "      <th>0.80</th>\n",
       "      <th>10</th>\n",
       "      <th>0.0</th>\n",
       "      <th>30</th>\n",
       "      <th>1999</th>\n",
       "      <td>5.402917681913712</td>\n",
       "    </tr>\n",
       "    <tr>\n",
       "      <th>0.90</th>\n",
       "      <th>10</th>\n",
       "      <th>0.0</th>\n",
       "      <th>30</th>\n",
       "      <th>1999</th>\n",
       "      <td>4.440892098500626e-16</td>\n",
       "    </tr>\n",
       "  </tbody>\n",
       "</table>\n",
       "<p>12000 rows × 1 columns</p>\n",
       "</div>"
      ],
      "text/plain": [
       "                                             observations\n",
       "t   p_ctrl L  p_proj maxbond seed                        \n",
       "2.0 0.50   10 0.0    30      0         2.0481510814759507\n",
       "    0.55   10 0.0    30      0          2.833342910320831\n",
       "    0.60   10 0.0    30      0          3.800552673174013\n",
       "    0.70   10 0.0    30      0         2.4409065892871187\n",
       "    0.80   10 0.0    30      0         10.404217922915192\n",
       "...                                                   ...\n",
       "    0.55   10 0.0    30      1999       2.267210006862279\n",
       "    0.60   10 0.0    30      1999      2.7766482467953413\n",
       "    0.70   10 0.0    30      1999  -4.440892098500626e-16\n",
       "    0.80   10 0.0    30      1999       5.402917681913712\n",
       "    0.90   10 0.0    30      1999   4.440892098500626e-16\n",
       "\n",
       "[12000 rows x 1 columns]"
      ]
     },
     "metadata": {},
     "output_type": "display_data"
    }
   ],
   "source": [
    "df_MPS_0_T.xs(level='Metrics',key='coh_mat')"
   ]
  },
  {
   "cell_type": "code",
   "execution_count": null,
   "metadata": {},
   "outputs": [],
   "source": [
    "coh_m={}"
   ]
  },
  {
   "cell_type": "code",
   "execution_count": null,
   "metadata": {},
   "outputs": [],
   "source": [
    "coh_m[L]=np.hstack(df_MPS_0_T.xs(level='p_ctrl',key=0.7).xs(level='p_proj',key=0.).xs(level='L',key=L).xs(level='t',key=2.).xs(level='Metrics',key='coh_mat').xs(level='maxbond',key=30)['observations']).mean()/2**L"
   ]
  },
  {
   "cell_type": "code",
   "execution_count": null,
   "metadata": {},
   "outputs": [
    {
     "data": {
      "text/plain": [
       "{10: 0.0029593250652489634}"
      ]
     },
     "metadata": {},
     "output_type": "display_data"
    }
   ],
   "source": [
    "coh_m"
   ]
  },
  {
   "cell_type": "code",
   "execution_count": null,
   "metadata": {},
   "outputs": [
    {
     "data": {
      "text/plain": [
       "Text(0, 0.5, '$2^{-L}\\\\mathfrak{C}$')"
      ]
     },
     "metadata": {},
     "output_type": "display_data"
    },
    {
     "data": {
      "image/png": "[encoded data removed]",
      "text/plain": [
       "<Figure size 640x480 with 1 Axes>"
      ]
     },
     "metadata": {},
     "output_type": "display_data"
    }
   ],
   "source": [
    "plt.plot([10,20,30],[coh_m[x] for x in [10,20,30]],'.-')\n",
    "plt.yscale('log')\n",
    "plt.xscale('log')\n",
    "plt.xlabel('L')\n",
    "plt.ylabel('$2^{-L}\\mathfrak{C}$')"
   ]
  },
  {
   "cell_type": "code",
   "execution_count": null,
   "metadata": {},
   "outputs": [],
   "source": []
  },
  {
   "cell_type": "code",
   "execution_count": null,
   "metadata": {},
   "outputs": [
    {
     "data": {
      "text/plain": [
       "1073741823.5"
      ]
     },
     "metadata": {},
     "output_type": "display_data"
    }
   ],
   "source": [
    "np.sqrt(2**L* (2**L-1) )"
   ]
  },
  {
   "cell_type": "code",
   "execution_count": null,
   "metadata": {},
   "outputs": [
    {
     "data": {
      "text/plain": [
       "1073741824.0"
      ]
     },
     "metadata": {},
     "output_type": "display_data"
    }
   ],
   "source": [
    "np.sqrt(2**L* (2**L) )"
   ]
  },
  {
   "cell_type": "code",
   "execution_count": null,
   "metadata": {},
   "outputs": [
    {
     "data": {
      "text/plain": [
       "0.006847272465728349"
      ]
     },
     "metadata": {},
     "output_type": "display_data"
    }
   ],
   "source": [
    "np.random.choice(np.hstack(df_MPS_0_T.xs(level='p_ctrl',key=0.5).xs(level='p_proj',key=0.).xs(level='L',key=L).xs(level='t',key=2.).xs(level='Metrics',key='coh_mat').xs(level='maxbond',key=400)['observations']),size=2000,replace=True).mean()"
   ]
  },
  {
   "cell_type": "code",
   "execution_count": null,
   "metadata": {},
   "outputs": [
    {
     "data": {
      "text/html": [
       "<div>\n",
       "<style scoped>\n",
       "    .dataframe tbody tr th:only-of-type {\n",
       "        vertical-align: middle;\n",
       "    }\n",
       "\n",
       "    .dataframe tbody tr th {\n",
       "        vertical-align: top;\n",
       "    }\n",
       "\n",
       "    .dataframe thead th {\n",
       "        text-align: right;\n",
       "    }\n",
       "</style>\n",
       "<table border=\"1\" class=\"dataframe\">\n",
       "  <thead>\n",
       "    <tr style=\"text-align: right;\">\n",
       "      <th></th>\n",
       "      <th>observations</th>\n",
       "    </tr>\n",
       "    <tr>\n",
       "      <th>maxbond</th>\n",
       "      <th></th>\n",
       "    </tr>\n",
       "  </thead>\n",
       "  <tbody>\n",
       "    <tr>\n",
       "      <th>400</th>\n",
       "      <td>5</td>\n",
       "    </tr>\n",
       "  </tbody>\n",
       "</table>\n",
       "</div>"
      ],
      "text/plain": [
       "        observations\n",
       "maxbond             \n",
       "400                5"
      ]
     },
     "metadata": {},
     "output_type": "display_data"
    }
   ],
   "source": [
    "df_MPS_0_T.xs(level='p_ctrl',key=0.5).xs(level='p_proj',key=0.).xs(level='L',key=30).xs(level='t',key=2.).xs(level='Metrics',key='ranks').xs(level='seed',key=784)"
   ]
  },
  {
   "cell_type": "code",
   "execution_count": null,
   "metadata": {},
   "outputs": [
    {
     "data": {
      "text/plain": [
       "14968.12312760601"
      ]
     },
     "metadata": {},
     "output_type": "display_data"
    }
   ],
   "source": [
    "np.sqrt(df_MPS_0_T.xs(level='p_ctrl',key=0.5).xs(level='p_proj',key=0.).xs(level='L',key=30).xs(level='t',key=2.).xs(level='Metrics',key='coh_mat').xs(level='seed',key=784).loc[4000]['observations']+1)"
   ]
  },
  {
   "cell_type": "code",
   "execution_count": null,
   "metadata": {},
   "outputs": [
    {
     "data": {
      "text/plain": [
       "224044708.96393707"
      ]
     },
     "metadata": {},
     "output_type": "display_data"
    }
   ],
   "source": [
    "14968.123127631503**2-1"
   ]
  },
  {
   "cell_type": "code",
   "execution_count": null,
   "metadata": {},
   "outputs": [
    {
     "data": {
      "text/plain": [
       "224044708.9631831"
      ]
     },
     "metadata": {},
     "output_type": "display_data"
    }
   ],
   "source": [
    "14968.123127606317**2-1"
   ]
  },
  {
   "cell_type": "code",
   "execution_count": null,
   "metadata": {},
   "outputs": [
    {
     "data": {
      "text/plain": [
       "[<matplotlib.lines.Line2D at 0x7f5152e1beb0>]"
      ]
     },
     "metadata": {},
     "output_type": "display_data"
    },
    {
     "data": {
      "image/png": "[encoded data removed]",
      "text/plain": [
       "<Figure size 640x480 with 2 Axes>"
      ]
     },
     "metadata": {},
     "output_type": "display_data"
    }
   ],
   "source": [
    "fig,ax=plt.subplots()\n",
    "ax.plot(df_MPS_0_T.xs(level='p_ctrl',key=0.5).xs(level='p_proj',key=0.).xs(level='L',key=L).xs(level='t',key=2.).xs(level='Metrics',key='coh_mat').xs(level='seed',key=1361),'.-')\n",
    "ax2=ax.twinx()\n",
    "ax2.plot(df_MPS_0_T.xs(level='p_ctrl',key=0.5).xs(level='p_proj',key=0.).xs(level='L',key=L).xs(level='t',key=2.).xs(level='Metrics',key='ranks').xs(level='seed',key=1361),'.-',color='r')"
   ]
  },
  {
   "cell_type": "code",
   "execution_count": null,
   "metadata": {},
   "outputs": [
    {
     "data": {
      "text/plain": [
       "1200"
      ]
     },
     "metadata": {},
     "output_type": "display_data"
    }
   ],
   "source": [
    "df_MPS_0_T.xs(t,level='t').xs(p,level='p_ctrl').xs(L,level='L').xs(0.0,level='p_proj').xs(0,level='seed').index.get_level_values('maxbond').max()"
   ]
  },
  {
   "cell_type": "code",
   "execution_count": null,
   "metadata": {},
   "outputs": [
    {
     "data": {
      "text/plain": [
       "array([   0,    1,    2, ..., 1997, 1998, 1999])"
      ]
     },
     "metadata": {},
     "output_type": "display_data"
    }
   ],
   "source": [
    "params_list[0][1]['s']"
   ]
  },
  {
   "cell_type": "code",
   "execution_count": null,
   "metadata": {},
   "outputs": [
    {
     "name": "stdout",
     "output_type": "stream",
     "text": [
      "\n",
      "Caching the list of root modules, please wait!\n",
      "(This will only be done once - type '%rehashx' to reset cache!)\n",
      "\n"
     ]
    }
   ],
   "source": [
    "import pandas as pd"
   ]
  }
 ],
 "metadata": {
  "kernelspec": {
   "display_name": "base",
   "language": "python",
   "name": "python3"
  },
  "language_info": {
   "codemirror_mode": {
    "name": "ipython",
    "version": 3
   },
   "file_extension": ".py",
   "mimetype": "text/x-python",
   "name": "python",
   "nbconvert_exporter": "python",
   "pygments_lexer": "ipython3",
   "version": "3.10.9"
  }
 },
 "nbformat": 4,
 "nbformat_minor": 2
}
